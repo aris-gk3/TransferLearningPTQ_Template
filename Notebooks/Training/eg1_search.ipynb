{
 "cells": [
  {
   "cell_type": "markdown",
   "id": "9de30278",
   "metadata": {
    "_cell_guid": "c9009484-8ec5-438a-af05-9304d7e24791",
    "_uuid": "0c659ac0-6e7e-41ed-b068-d24a1bfd1abf",
    "collapsed": false,
    "jupyter": {
     "outputs_hidden": false
    },
    "papermill": {
     "duration": 0.003693,
     "end_time": "2025-06-14T07:49:31.666060",
     "exception": false,
     "start_time": "2025-06-14T07:49:31.662367",
     "status": "completed"
    },
    "tags": []
   },
   "source": [
    "# Transfer Learning"
   ]
  },
  {
   "cell_type": "markdown",
   "id": "45535a0a",
   "metadata": {
    "_cell_guid": "10fb0393-7ded-4414-bfa9-df5413c2bf38",
    "_uuid": "cd1cbd0d-40d8-4dac-992a-31704e50e3bd",
    "collapsed": false,
    "jupyter": {
     "outputs_hidden": false
    },
    "papermill": {
     "duration": 0.002696,
     "end_time": "2025-06-14T07:49:31.671717",
     "exception": false,
     "start_time": "2025-06-14T07:49:31.669021",
     "status": "completed"
    },
    "tags": []
   },
   "source": [
    "## Import Packages"
   ]
  },
  {
   "cell_type": "code",
   "execution_count": null,
   "id": "a8251cb9",
   "metadata": {
    "_cell_guid": "d8f70bc1-329c-4c4d-9182-149f3352d7c0",
    "_uuid": "448bbd57-2a85-46b0-84bb-8dfccb4ef79c",
    "collapsed": false,
    "execution": {
     "iopub.execute_input": "2025-06-14T07:49:31.679303Z",
     "iopub.status.busy": "2025-06-14T07:49:31.678533Z",
     "iopub.status.idle": "2025-06-14T07:49:56.888889Z",
     "shell.execute_reply": "2025-06-14T07:49:56.888238Z"
    },
    "jupyter": {
     "outputs_hidden": false
    },
    "papermill": {
     "duration": 25.215946,
     "end_time": "2025-06-14T07:49:56.890423",
     "exception": false,
     "start_time": "2025-06-14T07:49:31.674477",
     "status": "completed"
    },
    "tags": []
   },
   "outputs": [],
   "source": [
    "# !pip uninstall ml_project_util -y\n",
    "# !pip install git+https://github.com/aris-gk3/ml_project_util.git\n",
    "# or for local development:\n",
    "%pip uninstall ml_project_util -y\n",
    "%pip install git+https://github.com/aris-gk3/ml_project_util.git\n",
    "\n",
    "import tensorflow as tf # type: ignore\n",
    "from tensorflow.keras import layers, models # type: ignore\n",
    "from tensorflow.keras.applications import VGG16 # type: ignore\n",
    "# My package imports\n",
    "from ml_project_util.path import path_definition\n",
    "from ml_project_util.train import train, freeze_layers, unfreeze_head\n",
    "from ml_project_util.model_evaluation import model_evaluation_precise\n",
    "from ml_project_util.history import concatenate_json, plot_json"
   ]
  },
  {
   "cell_type": "markdown",
   "id": "581f7dfe",
   "metadata": {
    "_cell_guid": "2500dc74-3b5a-4b6d-b278-c230b6c27e4c",
    "_uuid": "6b82c465-6c53-4009-8fa2-9b8b825314b0",
    "collapsed": false,
    "jupyter": {
     "outputs_hidden": false
    },
    "papermill": {
     "duration": 0.003269,
     "end_time": "2025-06-14T07:49:56.897589",
     "exception": false,
     "start_time": "2025-06-14T07:49:56.894320",
     "status": "completed"
    },
    "tags": []
   },
   "source": [
    "## Define Variable Paths"
   ]
  },
  {
   "cell_type": "code",
   "execution_count": null,
   "id": "a70e4ea8",
   "metadata": {
    "_cell_guid": "4d974b6b-df13-4b08-ab4a-96ff690d4547",
    "_uuid": "a94717ca-26ce-436c-99be-632cb48557da",
    "collapsed": false,
    "execution": {
     "iopub.execute_input": "2025-06-14T07:49:56.906265Z",
     "iopub.status.busy": "2025-06-14T07:49:56.905300Z",
     "iopub.status.idle": "2025-06-14T07:49:56.951467Z",
     "shell.execute_reply": "2025-06-14T07:49:56.950472Z"
    },
    "jupyter": {
     "outputs_hidden": false
    },
    "papermill": {
     "duration": 0.051747,
     "end_time": "2025-06-14T07:49:56.952724",
     "exception": false,
     "start_time": "2025-06-14T07:49:56.900977",
     "status": "completed"
    },
    "tags": []
   },
   "outputs": [],
   "source": [
    "dict = path_definition(ds_rel_path='oxford-flowers-17-restructured') # path_definition.config to read\n",
    "BASE_PATH = dict['BASE_PATH']\n",
    "PATH_DATASET = dict['PATH_DATASET']\n",
    "PATH_TEST = dict['PATH_TEST']\n",
    "PATH_RAWDATA = dict['PATH_RAWDATA']\n",
    "PATH_JOINEDDATA = dict['PATH_JOINEDDATA']\n",
    "PATH_SAVEDMODELS = dict['PATH_SAVEDMODELS']"
   ]
  },
  {
   "cell_type": "markdown",
   "id": "c423c495",
   "metadata": {
    "_cell_guid": "477a1bee-291b-40f0-a3b2-286d625bcaff",
    "_uuid": "19c18c38-a485-4d24-b9e5-5217d29a1333",
    "collapsed": false,
    "jupyter": {
     "outputs_hidden": false
    },
    "papermill": {
     "duration": 0.003332,
     "end_time": "2025-06-14T07:49:56.959577",
     "exception": false,
     "start_time": "2025-06-14T07:49:56.956245",
     "status": "completed"
    },
    "tags": []
   },
   "source": [
    "## Define the Model"
   ]
  },
  {
   "cell_type": "code",
   "execution_count": null,
   "id": "dba96281",
   "metadata": {
    "_cell_guid": "c7c45a47-2a9c-403e-a0c1-4a9c8b723845",
    "_uuid": "b4ea58bf-14f2-436d-8065-5cd020c27bbd",
    "collapsed": false,
    "execution": {
     "iopub.execute_input": "2025-06-14T07:49:56.967117Z",
     "iopub.status.busy": "2025-06-14T07:49:56.966819Z",
     "iopub.status.idle": "2025-06-14T07:50:00.161448Z",
     "shell.execute_reply": "2025-06-14T07:50:00.160562Z"
    },
    "jupyter": {
     "outputs_hidden": false
    },
    "papermill": {
     "duration": 3.200411,
     "end_time": "2025-06-14T07:50:00.163204",
     "exception": false,
     "start_time": "2025-06-14T07:49:56.962793",
     "status": "completed"
    },
    "tags": []
   },
   "outputs": [],
   "source": [
    "vgg_base = VGG16(weights='imagenet', include_top=False, input_shape=(224, 224, 3))\n",
    "model = models.Sequential()\n",
    "for layer in vgg_base.layers:\n",
    "    model.add(layer)\n",
    "# Adding the new head\n",
    "model.add(layers.GlobalAveragePooling2D())\n",
    "model.add(layers.Dense(256, activation='relu'))\n",
    "model.add(layers.Dropout(0.5))       \n",
    "model.add(layers.Dense(17, activation='softmax'))"
   ]
  },
  {
   "cell_type": "markdown",
   "id": "612e98a7",
   "metadata": {
    "_cell_guid": "bdcae315-4a0b-4040-bf49-39e6a291862f",
    "_uuid": "79c37309-a290-4d5c-b99e-f4b6b0490cb9",
    "collapsed": false,
    "jupyter": {
     "outputs_hidden": false
    },
    "papermill": {
     "duration": 0.004111,
     "end_time": "2025-06-14T07:50:00.174243",
     "exception": false,
     "start_time": "2025-06-14T07:50:00.170132",
     "status": "completed"
    },
    "tags": []
   },
   "source": [
    "## Train the Model"
   ]
  },
  {
   "cell_type": "code",
   "execution_count": null,
   "id": "5d2e26a7",
   "metadata": {
    "_cell_guid": "9fb44e0f-4f58-408f-9a6b-fdc3ca55c9d4",
    "_uuid": "b9db5e70-f527-40c1-af86-25c1572a6314",
    "collapsed": false,
    "execution": {
     "iopub.execute_input": "2025-06-14T07:50:00.183548Z",
     "iopub.status.busy": "2025-06-14T07:50:00.182742Z",
     "iopub.status.idle": "2025-06-14T07:53:51.971492Z",
     "shell.execute_reply": "2025-06-14T07:53:51.970873Z"
    },
    "jupyter": {
     "outputs_hidden": false
    },
    "papermill": {
     "duration": 231.794619,
     "end_time": "2025-06-14T07:53:51.972804",
     "exception": false,
     "start_time": "2025-06-14T07:50:00.178185",
     "status": "completed"
    },
    "tags": []
   },
   "outputs": [],
   "source": [
    "model_name = 'EG2_P1'\n",
    "epochs = 15\n",
    "lr = 1e-3\n",
    "optimizer = 'Adam'\n",
    "\n",
    "data_augmentation = tf.keras.Sequential([\n",
    "    layers.RandomFlip(\"horizontal\"),\n",
    "    layers.RandomRotation(0.1),\n",
    "    layers.RandomZoom(0.1),\n",
    "    layers.RandomContrast(0.1)\n",
    "], name=\"data_augmentation\")\n",
    "\n",
    "freeze_layers(model, verbose=1)\n",
    "unfreeze_head(model, verbose=1)\n",
    "train(model, epochs, lr, optimizer, model_name, is_binary=0, plot=True, augmentation_pipeline=data_augmentation, early_stopping=False)"
   ]
  },
  {
   "cell_type": "code",
   "execution_count": null,
   "id": "5428137b",
   "metadata": {
    "execution": {
     "iopub.execute_input": "2025-06-14T07:53:52.020139Z",
     "iopub.status.busy": "2025-06-14T07:53:52.019746Z",
     "iopub.status.idle": "2025-06-14T07:53:58.118691Z",
     "shell.execute_reply": "2025-06-14T07:53:58.117987Z"
    },
    "papermill": {
     "duration": 6.123705,
     "end_time": "2025-06-14T07:53:58.119783",
     "exception": false,
     "start_time": "2025-06-14T07:53:51.996078",
     "status": "completed"
    },
    "tags": []
   },
   "outputs": [],
   "source": [
    "model_evaluation_precise(model)"
   ]
  },
  {
   "cell_type": "code",
   "execution_count": null,
   "id": "f30dc739",
   "metadata": {
    "execution": {
     "iopub.execute_input": "2025-06-14T07:53:58.168102Z",
     "iopub.status.busy": "2025-06-14T07:53:58.167356Z",
     "iopub.status.idle": "2025-06-14T07:53:58.576993Z",
     "shell.execute_reply": "2025-06-14T07:53:58.576346Z"
    },
    "papermill": {
     "duration": 0.435812,
     "end_time": "2025-06-14T07:53:58.578350",
     "exception": false,
     "start_time": "2025-06-14T07:53:58.142538",
     "status": "completed"
    },
    "tags": []
   },
   "outputs": [],
   "source": [
    "vgg_base = VGG16(weights='imagenet', include_top=False, input_shape=(224, 224, 3))\n",
    "model = models.Sequential()\n",
    "for layer in vgg_base.layers:\n",
    "    model.add(layer)\n",
    "model.add(layers.GlobalAveragePooling2D())\n",
    "model.add(layers.Dense(256, activation='relu'))\n",
    "model.add(layers.Dropout(0.5))       \n",
    "model.add(layers.Dense(17, activation='softmax'))"
   ]
  },
  {
   "cell_type": "code",
   "execution_count": null,
   "id": "9a44b611",
   "metadata": {
    "_cell_guid": "05a21752-3d98-4fec-bc40-f11cd4636e1d",
    "_uuid": "eebb247f-277d-44ba-a242-24bdc08ba74e",
    "collapsed": false,
    "execution": {
     "iopub.execute_input": "2025-06-14T07:53:58.626010Z",
     "iopub.status.busy": "2025-06-14T07:53:58.625353Z",
     "iopub.status.idle": "2025-06-14T08:00:45.648797Z",
     "shell.execute_reply": "2025-06-14T08:00:45.647974Z"
    },
    "jupyter": {
     "outputs_hidden": false
    },
    "papermill": {
     "duration": 407.048952,
     "end_time": "2025-06-14T08:00:45.650218",
     "exception": false,
     "start_time": "2025-06-14T07:53:58.601266",
     "status": "completed"
    },
    "tags": []
   },
   "outputs": [],
   "source": [
    "epochs = 30\n",
    "lr = 1e-4\n",
    "optimizer = 'Adam'\n",
    "name = 'EG2_P2'\n",
    "freeze_layers(model, verbose=1)\n",
    "unfreeze_head(model, verbose=1)\n",
    "train(model, epochs, lr, optimizer, name, is_binary=0, plot=True, augmentation_pipeline=data_augmentation, early_stopping=False)"
   ]
  },
  {
   "cell_type": "code",
   "execution_count": null,
   "id": "6c2f95f8",
   "metadata": {
    "execution": {
     "iopub.execute_input": "2025-06-14T08:00:45.773275Z",
     "iopub.status.busy": "2025-06-14T08:00:45.772995Z",
     "iopub.status.idle": "2025-06-14T08:00:47.153589Z",
     "shell.execute_reply": "2025-06-14T08:00:47.152706Z"
    },
    "papermill": {
     "duration": 1.443732,
     "end_time": "2025-06-14T08:00:47.155048",
     "exception": false,
     "start_time": "2025-06-14T08:00:45.711316",
     "status": "completed"
    },
    "tags": []
   },
   "outputs": [],
   "source": [
    "model_evaluation_precise(model)"
   ]
  },
  {
   "cell_type": "code",
   "execution_count": null,
   "id": "985de9f8",
   "metadata": {
    "execution": {
     "iopub.execute_input": "2025-06-14T08:00:47.283455Z",
     "iopub.status.busy": "2025-06-14T08:00:47.283168Z",
     "iopub.status.idle": "2025-06-14T08:00:47.676133Z",
     "shell.execute_reply": "2025-06-14T08:00:47.675326Z"
    },
    "papermill": {
     "duration": 0.455669,
     "end_time": "2025-06-14T08:00:47.677829",
     "exception": false,
     "start_time": "2025-06-14T08:00:47.222160",
     "status": "completed"
    },
    "tags": []
   },
   "outputs": [],
   "source": [
    "vgg_base = VGG16(weights='imagenet', include_top=False, input_shape=(224, 224, 3))\n",
    "model = models.Sequential()\n",
    "for layer in vgg_base.layers:\n",
    "    model.add(layer)\n",
    "model.add(layers.GlobalAveragePooling2D())\n",
    "model.add(layers.Dense(256, activation='relu'))\n",
    "model.add(layers.Dropout(0.5))       \n",
    "model.add(layers.Dense(17, activation='softmax'))"
   ]
  },
  {
   "cell_type": "code",
   "execution_count": null,
   "id": "6e207198",
   "metadata": {
    "execution": {
     "iopub.execute_input": "2025-06-14T08:00:47.809260Z",
     "iopub.status.busy": "2025-06-14T08:00:47.808970Z",
     "iopub.status.idle": "2025-06-14T08:09:43.611305Z",
     "shell.execute_reply": "2025-06-14T08:09:43.610613Z"
    },
    "papermill": {
     "duration": 535.865132,
     "end_time": "2025-06-14T08:09:43.612922",
     "exception": false,
     "start_time": "2025-06-14T08:00:47.747790",
     "status": "completed"
    },
    "tags": []
   },
   "outputs": [],
   "source": [
    "epochs = 40\n",
    "# lr = 1e-5\n",
    "optimizer = 'Adam'\n",
    "name = 'EG2_P2'\n",
    "freeze_layers(model, verbose=1)\n",
    "unfreeze_head(model, verbose=1)\n",
    "train(model, epochs, lr, optimizer, name, is_binary=0, plot=True, augmentation_pipeline=data_augmentation, early_stopping=False)"
   ]
  },
  {
   "cell_type": "code",
   "execution_count": null,
   "id": "68bfbe36",
   "metadata": {
    "execution": {
     "iopub.execute_input": "2025-06-14T08:09:43.838130Z",
     "iopub.status.busy": "2025-06-14T08:09:43.837338Z",
     "iopub.status.idle": "2025-06-14T08:09:45.295720Z",
     "shell.execute_reply": "2025-06-14T08:09:45.295070Z"
    },
    "papermill": {
     "duration": 1.572536,
     "end_time": "2025-06-14T08:09:45.296775",
     "exception": false,
     "start_time": "2025-06-14T08:09:43.724239",
     "status": "completed"
    },
    "tags": []
   },
   "outputs": [],
   "source": [
    "model_evaluation_precise(model)"
   ]
  },
  {
   "cell_type": "markdown",
   "id": "53ace90d",
   "metadata": {},
   "source": [
    "## Interactively Train the Model"
   ]
  },
  {
   "cell_type": "code",
   "execution_count": null,
   "id": "ebffc1ec",
   "metadata": {},
   "outputs": [],
   "source": [
    "vgg_base = VGG16(weights='imagenet', include_top=False, input_shape=(224, 224, 3))\n",
    "model = models.Sequential()\n",
    "for layer in vgg_base.layers:\n",
    "    model.add(layer)\n",
    "# Adding the new head\n",
    "model.add(layers.GlobalAveragePooling2D())\n",
    "model.add(layers.Dense(256, activation='relu'))\n",
    "model.add(layers.Dropout(0.5))       \n",
    "model.add(layers.Dense(17, activation='softmax'))"
   ]
  },
  {
   "cell_type": "code",
   "execution_count": null,
   "id": "4c69569d",
   "metadata": {},
   "outputs": [],
   "source": [
    "model_name1 = 'EG1_P1'\n",
    "epochs = 15\n",
    "lr = 1e-3\n",
    "optimizer = 'Adam'\n",
    "\n",
    "data_augmentation = tf.keras.Sequential([\n",
    "    layers.RandomFlip(\"horizontal\"),\n",
    "    layers.RandomRotation(0.1),\n",
    "    layers.RandomZoom(0.1),\n",
    "    layers.RandomContrast(0.1)\n",
    "], name=\"data_augmentation\")\n",
    "\n",
    "freeze_layers(model, verbose=1)\n",
    "unfreeze_head(model, verbose=1)\n",
    "train(model, epochs, lr, optimizer, model_name, is_binary=0, plot=True, augmentation_pipeline=data_augmentation, early_stopping=False)"
   ]
  },
  {
   "cell_type": "code",
   "execution_count": null,
   "id": "3e09a1c2",
   "metadata": {},
   "outputs": [],
   "source": [
    "model_evaluation_precise(model)"
   ]
  },
  {
   "cell_type": "code",
   "execution_count": null,
   "id": "e8c65428",
   "metadata": {},
   "outputs": [],
   "source": [
    "model_name2 = 'EG1_P1_2'\n",
    "epochs = 5\n",
    "train(model, epochs, lr, optimizer, model_name, is_binary=0, plot=True, augmentation=data_augmentation)"
   ]
  },
  {
   "cell_type": "code",
   "execution_count": null,
   "id": "567c91e3",
   "metadata": {},
   "outputs": [],
   "source": [
    "relpath1 = f\"{PATH_RAWDATA}/{model_name1}.json\"\n",
    "relpath2 = f\"{PATH_RAWDATA}/{model_name2}.json\"\n",
    "output_filename = f\"{model_name1}_a\"\n",
    "concatenate_json(relpath1, relpath2, output_filename)\n",
    "plot_json(json_name=output_filename, img_name=output_filename, data_type='joined')"
   ]
  },
  {
   "cell_type": "code",
   "execution_count": null,
   "id": "4c6be9ef",
   "metadata": {},
   "outputs": [],
   "source": [
    "model_evaluation_precise(model)"
   ]
  }
 ],
 "metadata": {
  "kaggle": {
   "accelerator": "gpu",
   "dataSources": [
    {
     "datasetId": 7653335,
     "sourceId": 12154317,
     "sourceType": "datasetVersion"
    }
   ],
   "isGpuEnabled": true,
   "isInternetEnabled": true,
   "language": "python",
   "sourceType": "notebook"
  },
  "kernelspec": {
   "display_name": "EnvPy3_12",
   "language": "python",
   "name": "python3"
  },
  "language_info": {
   "codemirror_mode": {
    "name": "ipython",
    "version": 3
   },
   "file_extension": ".py",
   "mimetype": "text/x-python",
   "name": "python",
   "nbconvert_exporter": "python",
   "pygments_lexer": "ipython3",
   "version": "3.12.9"
  },
  "papermill": {
   "default_parameters": {},
   "duration": 1222.988483,
   "end_time": "2025-06-14T08:09:50.200528",
   "environment_variables": {},
   "exception": null,
   "input_path": "__notebook__.ipynb",
   "output_path": "__notebook__.ipynb",
   "parameters": {},
   "start_time": "2025-06-14T07:49:27.212045",
   "version": "2.6.0"
  }
 },
 "nbformat": 4,
 "nbformat_minor": 5
}
