{
 "cells": [
  {
   "cell_type": "markdown",
   "id": "bac0c89d",
   "metadata": {},
   "source": [
    "# CD4_P1"
   ]
  },
  {
   "cell_type": "markdown",
   "id": "c4ae996f",
   "metadata": {},
   "source": [
    "### Import Packages"
   ]
  },
  {
   "cell_type": "code",
   "execution_count": 1,
   "id": "0ed83b5f",
   "metadata": {},
   "outputs": [],
   "source": [
    "import tensorflow as tf\n",
    "import os\n",
    "from tensorflow.keras import layers, models\n",
    "from tensorflow.keras.applications import VGG16\n",
    "from dotenv import load_dotenv"
   ]
  },
  {
   "cell_type": "code",
   "execution_count": 2,
   "id": "d43c201a",
   "metadata": {},
   "outputs": [],
   "source": [
    "# Local Packages\n",
    "from utilpackage.path import path_definition\n",
    "from utilpackage.train import train, freeze_layers, unfreeze_head"
   ]
  },
  {
   "cell_type": "markdown",
   "id": "ecb11524",
   "metadata": {},
   "source": [
    "### Variable Paths, Execution Environments"
   ]
  },
  {
   "cell_type": "code",
   "execution_count": 3,
   "id": "a756063e",
   "metadata": {},
   "outputs": [],
   "source": [
    "modelname = 'CD4_P1'"
   ]
  },
  {
   "cell_type": "code",
   "execution_count": 4,
   "id": "f6e95abf",
   "metadata": {},
   "outputs": [],
   "source": [
    "BASE_PATH, PATH_DATASET, PATH_RAWDATA, PATH_JOINEDDATA, PATH_SAVEDMODELS = path_definition()"
   ]
  },
  {
   "cell_type": "markdown",
   "id": "8b812b83",
   "metadata": {},
   "source": [
    "### Define the model"
   ]
  },
  {
   "cell_type": "code",
   "execution_count": 5,
   "id": "2ddfda8f",
   "metadata": {},
   "outputs": [
    {
     "name": "stdout",
     "output_type": "stream",
     "text": [
      "- block1_conv1 (Conv2D), Trainable: False\n",
      "- block1_conv2 (Conv2D), Trainable: False\n",
      "- block1_pool (MaxPooling2D), Trainable: False\n",
      "- block2_conv1 (Conv2D), Trainable: False\n",
      "- block2_conv2 (Conv2D), Trainable: False\n",
      "- block2_pool (MaxPooling2D), Trainable: False\n",
      "- block3_conv1 (Conv2D), Trainable: False\n",
      "- block3_conv2 (Conv2D), Trainable: False\n",
      "- block3_conv3 (Conv2D), Trainable: False\n",
      "- block3_pool (MaxPooling2D), Trainable: False\n",
      "- block4_conv1 (Conv2D), Trainable: False\n",
      "- block4_conv2 (Conv2D), Trainable: False\n",
      "- block4_conv3 (Conv2D), Trainable: False\n",
      "- block4_pool (MaxPooling2D), Trainable: False\n",
      "- block5_conv1 (Conv2D), Trainable: False\n",
      "- block5_conv2 (Conv2D), Trainable: False\n",
      "- block5_conv3 (Conv2D), Trainable: False\n",
      "- block5_pool (MaxPooling2D), Trainable: False\n",
      "- global_average_pooling2d (GlobalAveragePooling2D), Trainable: False\n",
      "- dense (Dense), Trainable: False\n",
      "- dropout (Dropout), Trainable: False\n",
      "- dense_1 (Dense), Trainable: False\n",
      "- dropout_1 (Dropout), Trainable: False\n",
      "- dense_2 (Dense), Trainable: False\n",
      "- block1_conv1 (Conv2D), Trainable: False\n",
      "- block1_conv2 (Conv2D), Trainable: False\n",
      "- block1_pool (MaxPooling2D), Trainable: False\n",
      "- block2_conv1 (Conv2D), Trainable: False\n",
      "- block2_conv2 (Conv2D), Trainable: False\n",
      "- block2_pool (MaxPooling2D), Trainable: False\n",
      "- block3_conv1 (Conv2D), Trainable: False\n",
      "- block3_conv2 (Conv2D), Trainable: False\n",
      "- block3_conv3 (Conv2D), Trainable: False\n",
      "- block3_pool (MaxPooling2D), Trainable: False\n",
      "- block4_conv1 (Conv2D), Trainable: False\n",
      "- block4_conv2 (Conv2D), Trainable: False\n",
      "- block4_conv3 (Conv2D), Trainable: False\n",
      "- block4_pool (MaxPooling2D), Trainable: False\n",
      "- block5_conv1 (Conv2D), Trainable: False\n",
      "- block5_conv2 (Conv2D), Trainable: False\n",
      "- block5_conv3 (Conv2D), Trainable: False\n",
      "- block5_pool (MaxPooling2D), Trainable: False\n",
      "- global_average_pooling2d (GlobalAveragePooling2D), Trainable: True\n",
      "- dense (Dense), Trainable: True\n",
      "- dropout (Dropout), Trainable: True\n",
      "- dense_1 (Dense), Trainable: True\n",
      "- dropout_1 (Dropout), Trainable: True\n",
      "- dense_2 (Dense), Trainable: True\n",
      "Found 24997 files belonging to 2 classes.\n",
      "Using 19998 files for training.\n",
      "Found 24997 files belonging to 2 classes.\n",
      "Using 4999 files for validation.\n",
      "Epoch 1/3\n",
      "\u001b[1m625/625\u001b[0m \u001b[32m━━━━━━━━━━━━━━━━━━━━\u001b[0m\u001b[37m\u001b[0m \u001b[1m0s\u001b[0m 4s/step - accuracy: 0.9051 - loss: 0.3947\n",
      "Epoch 1: saving model to C:/Programming_Files/JupyterVSCode/Binary_Classification_Transfer_Learning/CatsDogs/SavedModels/CD4/CD4_P1_001_val0.0541.keras\n",
      "\u001b[1m625/625\u001b[0m \u001b[32m━━━━━━━━━━━━━━━━━━━━\u001b[0m\u001b[37m\u001b[0m \u001b[1m3262s\u001b[0m 5s/step - accuracy: 0.9052 - loss: 0.3944 - val_accuracy: 0.9814 - val_loss: 0.0541\n",
      "Epoch 2/3\n",
      "\u001b[1m625/625\u001b[0m \u001b[32m━━━━━━━━━━━━━━━━━━━━\u001b[0m\u001b[37m\u001b[0m \u001b[1m0s\u001b[0m 5s/step - accuracy: 0.9598 - loss: 0.1037\n",
      "Epoch 2: saving model to C:/Programming_Files/JupyterVSCode/Binary_Classification_Transfer_Learning/CatsDogs/SavedModels/CD4/CD4_P1_002_val0.0439.keras\n",
      "\u001b[1m625/625\u001b[0m \u001b[32m━━━━━━━━━━━━━━━━━━━━\u001b[0m\u001b[37m\u001b[0m \u001b[1m4557s\u001b[0m 7s/step - accuracy: 0.9598 - loss: 0.1037 - val_accuracy: 0.9838 - val_loss: 0.0439\n",
      "Epoch 3/3\n",
      "\u001b[1m625/625\u001b[0m \u001b[32m━━━━━━━━━━━━━━━━━━━━\u001b[0m\u001b[37m\u001b[0m \u001b[1m0s\u001b[0m 6s/step - accuracy: 0.9667 - loss: 0.0856\n",
      "Epoch 3: saving model to C:/Programming_Files/JupyterVSCode/Binary_Classification_Transfer_Learning/CatsDogs/SavedModels/CD4/CD4_P1_003_val0.0449.keras\n",
      "\u001b[1m625/625\u001b[0m \u001b[32m━━━━━━━━━━━━━━━━━━━━\u001b[0m\u001b[37m\u001b[0m \u001b[1m4687s\u001b[0m 7s/step - accuracy: 0.9667 - loss: 0.0856 - val_accuracy: 0.9822 - val_loss: 0.0449\n"
     ]
    }
   ],
   "source": [
    "vgg_base = VGG16(weights='imagenet', include_top=False, input_shape=(224, 224, 3))\n",
    "model = models.Sequential()\n",
    "for layer in vgg_base.layers:\n",
    "    model.add(layer)\n",
    "model.add(layers.GlobalAveragePooling2D())\n",
    "model.add(layers.Dense(512, activation='relu'))\n",
    "model.add(layers.Dropout(0.5))\n",
    "model.add(layers.Dense(256, activation='relu'))\n",
    "model.add(layers.Dropout(0.3))\n",
    "model.add(layers.Dense(1, activation='sigmoid'))\n",
    "\n",
    "epochs = 3\n",
    "lr = 1e-3\n",
    "optimizer = 'Adam'\n",
    "load_dotenv()  # loads variables from .env into os.environ\n",
    "platform = os.getenv(\"PLATFORM\")\n",
    "name = 'CD4_P1'\n",
    "\n",
    "freeze_layers(model, verbose=1)\n",
    "unfreeze_head(model, verbose=1)\n",
    "train(model, epochs, lr, optimizer, name)"
   ]
  },
  {
   "cell_type": "markdown",
   "id": "d36b3676",
   "metadata": {},
   "source": [
    "### Load Chosen Model"
   ]
  },
  {
   "cell_type": "code",
   "execution_count": null,
   "id": "2c988f0e",
   "metadata": {},
   "outputs": [],
   "source": [
    "filepath = 'C:\\\\Programming_Files\\\\JupyterVSCode\\\\Binary_Classification_Transfer_Learning\\\\CatsDogs\\\\StarredModels\\\\CD1_P1_head_epoch002_val0.0480.keras'\n",
    "model = tf.keras.models.load_model(filepath)"
   ]
  },
  {
   "cell_type": "markdown",
   "id": "834969d5",
   "metadata": {},
   "source": [
    "### Continue Training"
   ]
  },
  {
   "cell_type": "code",
   "execution_count": null,
   "id": "315b93ac",
   "metadata": {},
   "outputs": [],
   "source": [
    "name = f'{modelname}_continue'\n",
    "checkpoint_path = f\"{SavedModelsPath}\\\\{name}_{{epoch:03d}}_val{{val_loss:.4f}}.keras\"\n",
    "\n",
    "from tensorflow.keras.callbacks import ModelCheckpoint\n",
    "\n",
    "# Create the ModelCheckpoint callback\n",
    "checkpoint_callback = ModelCheckpoint(\n",
    "    filepath=checkpoint_path,\n",
    "    save_freq='epoch',              # Save every epoch\n",
    "    save_weights_only=False,\n",
    "    save_best_only=False,           # Save every time, not just best\n",
    "    monitor='val_loss',\n",
    "    verbose=1,\n",
    ")\n",
    "\n",
    "from tensorflow.keras.callbacks import ReduceLROnPlateau\n",
    "lr_scheduler = ReduceLROnPlateau(monitor='val_loss', factor=0.5, patience=2, verbose=1)"
   ]
  },
  {
   "cell_type": "code",
   "execution_count": null,
   "id": "b7967fdc",
   "metadata": {},
   "outputs": [],
   "source": [
    "history2 = model.fit(\n",
    "    train_dataset,\n",
    "    epochs=5,\n",
    "    validation_data=val_dataset,\n",
    "    callbacks=[checkpoint_callback, lr_scheduler]\n",
    ")"
   ]
  },
  {
   "cell_type": "code",
   "execution_count": null,
   "id": "2a2d6a8c",
   "metadata": {},
   "outputs": [],
   "source": [
    "import json\n",
    "\n",
    "name = f'{modelname}_continue'\n",
    "filepath = f\"{TrainingHistoryPath}\\\\{name}.json\"\n",
    "with open(filepath, 'w') as f:\n",
    "    json.dump(history2.history, f)"
   ]
  },
  {
   "cell_type": "markdown",
   "id": "583eb6eb",
   "metadata": {},
   "source": [
    "### Continue Training (2)"
   ]
  },
  {
   "cell_type": "code",
   "execution_count": null,
   "id": "48abc053",
   "metadata": {},
   "outputs": [],
   "source": [
    "history3 = model.fit(\n",
    "    train_dataset,\n",
    "    epochs=5,\n",
    "    validation_data=val_dataset,\n",
    "    callbacks=[checkpoint_callback, lr_scheduler]\n",
    ")"
   ]
  },
  {
   "cell_type": "code",
   "execution_count": null,
   "id": "e2964d2f",
   "metadata": {},
   "outputs": [],
   "source": [
    "import json\n",
    "\n",
    "name = f'{modelname}_continue2'\n",
    "filepath = f\"{TrainingHistoryPath}\\\\{name}.json\"\n",
    "with open(filepath, 'w') as f:\n",
    "    json.dump(history3.history, f)"
   ]
  }
 ],
 "metadata": {
  "kernelspec": {
   "display_name": "EnvPy3_12",
   "language": "python",
   "name": "python3"
  },
  "language_info": {
   "codemirror_mode": {
    "name": "ipython",
    "version": 3
   },
   "file_extension": ".py",
   "mimetype": "text/x-python",
   "name": "python",
   "nbconvert_exporter": "python",
   "pygments_lexer": "ipython3",
   "version": "3.12.9"
  }
 },
 "nbformat": 4,
 "nbformat_minor": 5
}
