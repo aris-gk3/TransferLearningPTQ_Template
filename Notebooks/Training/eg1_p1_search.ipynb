{
 "cells": [
  {
   "cell_type": "markdown",
   "id": "cee9ede1",
   "metadata": {
    "_cell_guid": "5b565475-7af9-47e7-91a2-2d18ea31f9d3",
    "_uuid": "1deb35fa-6e5b-4ea0-99a7-28d6d7a03876",
    "collapsed": false,
    "jupyter": {
     "outputs_hidden": false
    },
    "papermill": {
     "duration": 0.006239,
     "end_time": "2025-06-14T09:13:44.366191",
     "exception": false,
     "start_time": "2025-06-14T09:13:44.359952",
     "status": "completed"
    },
    "tags": []
   },
   "source": [
    "# Transfer Learning"
   ]
  },
  {
   "cell_type": "markdown",
   "id": "0cd39389",
   "metadata": {
    "_cell_guid": "07a673d8-5630-4d24-9eed-1263754c7fdf",
    "_uuid": "2059354c-9c66-473b-ae72-cbca334a11df",
    "collapsed": false,
    "jupyter": {
     "outputs_hidden": false
    },
    "papermill": {
     "duration": 0.00469,
     "end_time": "2025-06-14T09:13:44.376059",
     "exception": false,
     "start_time": "2025-06-14T09:13:44.371369",
     "status": "completed"
    },
    "tags": []
   },
   "source": [
    "## Import Packages"
   ]
  },
  {
   "cell_type": "code",
   "execution_count": null,
   "id": "fe22a009",
   "metadata": {
    "_cell_guid": "f4942077-872a-46cc-998a-aa994093f8aa",
    "_uuid": "0e9ca8c1-668b-478f-9698-9eef50a3c874",
    "collapsed": false,
    "execution": {
     "iopub.execute_input": "2025-06-14T09:13:44.386972Z",
     "iopub.status.busy": "2025-06-14T09:13:44.386644Z",
     "iopub.status.idle": "2025-06-14T09:14:10.559522Z",
     "shell.execute_reply": "2025-06-14T09:14:10.558721Z"
    },
    "jupyter": {
     "outputs_hidden": false
    },
    "papermill": {
     "duration": 26.180042,
     "end_time": "2025-06-14T09:14:10.561032",
     "exception": false,
     "start_time": "2025-06-14T09:13:44.380990",
     "status": "completed"
    },
    "tags": []
   },
   "outputs": [],
   "source": [
    "# !pip uninstall ml_project_util -y\n",
    "# !pip install git+https://github.com/aris-gk3/ml_project_util.git\n",
    "# or for local development:\n",
    "%pip uninstall ml_project_util -y\n",
    "%pip install git+https://github.com/aris-gk3/ml_project_util.git\n",
    "\n",
    "import tensorflow as tf\n",
    "import os\n",
    "from tensorflow.keras import layers, models # type: ignore\n",
    "from tensorflow.keras.applications import VGG16 # type: ignore\n",
    "# Local Packages\n",
    "from ml_project_util.path import path_definition\n",
    "from ml_project_util.train import train, freeze_layers, unfreeze_head, unfreeze_block\n",
    "from ml_project_util.quantization_util import quant_model, quant_bw_search\n",
    "from ml_project_util.model_evaluation import model_evaluation_precise\n",
    "from ml_project_util.history import concatenate_json, plot_json"
   ]
  },
  {
   "cell_type": "markdown",
   "id": "ec69fdaf",
   "metadata": {
    "_cell_guid": "cb5e58a1-48da-4071-9916-89bc658a32c1",
    "_uuid": "99ae4fde-6dcb-4492-8eaf-b0685cf387e7",
    "collapsed": false,
    "jupyter": {
     "outputs_hidden": false
    },
    "papermill": {
     "duration": 0.003069,
     "end_time": "2025-06-14T09:14:10.567785",
     "exception": false,
     "start_time": "2025-06-14T09:14:10.564716",
     "status": "completed"
    },
    "tags": []
   },
   "source": [
    "## Define Variable Paths"
   ]
  },
  {
   "cell_type": "code",
   "execution_count": null,
   "id": "6e137fa2",
   "metadata": {
    "_cell_guid": "446e5e4f-b2b0-4cb3-9096-041824abd18b",
    "_uuid": "c9663120-cc7d-450b-a758-e5783e8e9785",
    "collapsed": false,
    "execution": {
     "iopub.execute_input": "2025-06-14T09:14:10.577191Z",
     "iopub.status.busy": "2025-06-14T09:14:10.576331Z",
     "iopub.status.idle": "2025-06-14T09:14:10.623064Z",
     "shell.execute_reply": "2025-06-14T09:14:10.622331Z"
    },
    "jupyter": {
     "outputs_hidden": false
    },
    "papermill": {
     "duration": 0.053414,
     "end_time": "2025-06-14T09:14:10.624197",
     "exception": false,
     "start_time": "2025-06-14T09:14:10.570783",
     "status": "completed"
    },
    "tags": []
   },
   "outputs": [],
   "source": [
    "dict = path_definition(ds_rel_path='oxford-flowers-17-restructured') # path_definition.config to read\n",
    "BASE_PATH = dict['BASE_PATH']\n",
    "PATH_DATASET = dict['PATH_DATASET']\n",
    "PATH_TEST = dict['PATH_TEST']\n",
    "PATH_RAWDATA = dict['PATH_RAWDATA']\n",
    "PATH_JOINEDDATA = dict['PATH_JOINEDDATA']\n",
    "PATH_SAVEDMODELS = dict['PATH_SAVEDMODELS']"
   ]
  },
  {
   "cell_type": "markdown",
   "id": "e4e547b7",
   "metadata": {
    "_cell_guid": "1d6a22e5-bbad-49b5-86b4-e56dbbb79777",
    "_uuid": "69d3e809-5870-42bb-bf7f-bc6fc2b91391",
    "collapsed": false,
    "jupyter": {
     "outputs_hidden": false
    },
    "papermill": {
     "duration": 0.003011,
     "end_time": "2025-06-14T09:14:10.630537",
     "exception": false,
     "start_time": "2025-06-14T09:14:10.627526",
     "status": "completed"
    },
    "tags": []
   },
   "source": [
    "## Define the Model"
   ]
  },
  {
   "cell_type": "code",
   "execution_count": null,
   "id": "377e14aa",
   "metadata": {
    "execution": {
     "iopub.execute_input": "2025-06-14T09:14:10.637785Z",
     "iopub.status.busy": "2025-06-14T09:14:10.637532Z",
     "iopub.status.idle": "2025-06-14T09:14:14.459014Z",
     "shell.execute_reply": "2025-06-14T09:14:14.458430Z"
    },
    "papermill": {
     "duration": 3.826679,
     "end_time": "2025-06-14T09:14:14.460338",
     "exception": false,
     "start_time": "2025-06-14T09:14:10.633659",
     "status": "completed"
    },
    "tags": []
   },
   "outputs": [],
   "source": [
    "saved_model_name = 'OF2_P1_008_val0.3397'\n",
    "parent_name = saved_model_name[:3]\n",
    "model_path = ''\n",
    "# model_path = f\"{PATH_SAVEDMODELS}/{parent_name}/{saved_model_name}.keras\"\n",
    "model = tf.keras.models.load_model(model_path)"
   ]
  },
  {
   "cell_type": "markdown",
   "id": "4c24df9f",
   "metadata": {
    "_cell_guid": "6bafa861-7272-46f6-96d2-ed1288b1316f",
    "_uuid": "62e966f2-d483-4ba7-9c8e-8d59c1abe8ec",
    "collapsed": false,
    "jupyter": {
     "outputs_hidden": false
    },
    "papermill": {
     "duration": 0.003348,
     "end_time": "2025-06-14T09:14:14.467437",
     "exception": false,
     "start_time": "2025-06-14T09:14:14.464089",
     "status": "completed"
    },
    "tags": []
   },
   "source": [
    "## Train the Model"
   ]
  },
  {
   "cell_type": "code",
   "execution_count": null,
   "id": "9a4aeb19",
   "metadata": {
    "execution": {
     "iopub.execute_input": "2025-06-14T09:14:14.475351Z",
     "iopub.status.busy": "2025-06-14T09:14:14.474917Z",
     "iopub.status.idle": "2025-06-14T09:19:08.412984Z",
     "shell.execute_reply": "2025-06-14T09:19:08.412225Z"
    },
    "papermill": {
     "duration": 293.943328,
     "end_time": "2025-06-14T09:19:08.414270",
     "exception": false,
     "start_time": "2025-06-14T09:14:14.470942",
     "status": "completed"
    },
    "tags": []
   },
   "outputs": [],
   "source": [
    "model_name = 'EG2_P1_FT1'\n",
    "epochs = 20\n",
    "lr = 1e-4\n",
    "optimizer = 'Adam'\n",
    "\n",
    "data_augmentation = tf.keras.Sequential([\n",
    "    layers.RandomFlip(\"horizontal\"),\n",
    "    layers.RandomRotation(0.1),\n",
    "    layers.RandomZoom(0.1),\n",
    "    layers.RandomContrast(0.1)\n",
    "], name=\"data_augmentation\")\n",
    "\n",
    "freeze_layers(model, verbose=1)\n",
    "unfreeze_head(model, verbose=1)\n",
    "unfreeze_block(model, verbose=1)\n",
    "train(model, epochs, lr, optimizer, model_name, is_binary=0, plot=True, augmentation=data_augmentation,)"
   ]
  },
  {
   "cell_type": "code",
   "execution_count": null,
   "id": "6a7a841a",
   "metadata": {
    "execution": {
     "iopub.execute_input": "2025-06-14T09:19:08.470297Z",
     "iopub.status.busy": "2025-06-14T09:19:08.469823Z",
     "iopub.status.idle": "2025-06-14T09:19:14.488050Z",
     "shell.execute_reply": "2025-06-14T09:19:14.487313Z"
    },
    "papermill": {
     "duration": 6.047135,
     "end_time": "2025-06-14T09:19:14.489145",
     "exception": false,
     "start_time": "2025-06-14T09:19:08.442010",
     "status": "completed"
    },
    "tags": []
   },
   "outputs": [],
   "source": [
    "model_evaluation_precise(model)"
   ]
  },
  {
   "cell_type": "code",
   "execution_count": null,
   "id": "65d29b44",
   "metadata": {
    "execution": {
     "iopub.execute_input": "2025-06-14T09:19:14.597279Z",
     "iopub.status.busy": "2025-06-14T09:19:14.596669Z",
     "iopub.status.idle": "2025-06-14T09:19:14.984111Z",
     "shell.execute_reply": "2025-06-14T09:19:14.983297Z"
    },
    "papermill": {
     "duration": 0.468443,
     "end_time": "2025-06-14T09:19:14.985516",
     "exception": false,
     "start_time": "2025-06-14T09:19:14.517073",
     "status": "completed"
    },
    "tags": []
   },
   "outputs": [],
   "source": [
    "saved_model_name = ''\n",
    "parent_name = saved_model_name[:3]\n",
    "model_path = ''\n",
    "# model_path = f\"{PATH_SAVEDMODELS}/{parent_name}/{saved_model_name}.keras\"\n",
    "model = tf.keras.models.load_model(model_path)"
   ]
  },
  {
   "cell_type": "code",
   "execution_count": null,
   "id": "e96a51b2",
   "metadata": {
    "execution": {
     "iopub.execute_input": "2025-06-14T09:19:15.042345Z",
     "iopub.status.busy": "2025-06-14T09:19:15.042078Z",
     "iopub.status.idle": "2025-06-14T09:24:58.743325Z",
     "shell.execute_reply": "2025-06-14T09:24:58.742718Z"
    },
    "papermill": {
     "duration": 343.730678,
     "end_time": "2025-06-14T09:24:58.744501",
     "exception": false,
     "start_time": "2025-06-14T09:19:15.013823",
     "status": "completed"
    },
    "tags": []
   },
   "outputs": [],
   "source": [
    "model_name = 'EG2_P1_FT2'\n",
    "epochs = 25\n",
    "lr = 1e-5\n",
    "optimizer = 'Adam'\n",
    "\n",
    "freeze_layers(model, verbose=1)\n",
    "unfreeze_head(model, verbose=1)\n",
    "unfreeze_block(model, verbose=1)\n",
    "train(model, epochs, lr, optimizer, model_name, is_binary=0, plot=True, augmentation=data_augmentation)"
   ]
  },
  {
   "cell_type": "code",
   "execution_count": null,
   "id": "9241926c",
   "metadata": {
    "execution": {
     "iopub.execute_input": "2025-06-14T09:24:58.871060Z",
     "iopub.status.busy": "2025-06-14T09:24:58.870445Z",
     "iopub.status.idle": "2025-06-14T09:25:00.257198Z",
     "shell.execute_reply": "2025-06-14T09:25:00.256418Z"
    },
    "papermill": {
     "duration": 1.451281,
     "end_time": "2025-06-14T09:25:00.258318",
     "exception": false,
     "start_time": "2025-06-14T09:24:58.807037",
     "status": "completed"
    },
    "tags": []
   },
   "outputs": [],
   "source": [
    "model_evaluation_precise(model)"
   ]
  },
  {
   "cell_type": "code",
   "execution_count": null,
   "id": "1b02a350",
   "metadata": {
    "execution": {
     "iopub.execute_input": "2025-06-14T09:25:00.379352Z",
     "iopub.status.busy": "2025-06-14T09:25:00.378861Z",
     "iopub.status.idle": "2025-06-14T09:25:00.760954Z",
     "shell.execute_reply": "2025-06-14T09:25:00.760357Z"
    },
    "papermill": {
     "duration": 0.442418,
     "end_time": "2025-06-14T09:25:00.762356",
     "exception": false,
     "start_time": "2025-06-14T09:25:00.319938",
     "status": "completed"
    },
    "tags": []
   },
   "outputs": [],
   "source": [
    "saved_model_name = ''\n",
    "parent_name = saved_model_name[:3]\n",
    "model_path = ''\n",
    "# model_path = f\"{PATH_SAVEDMODELS}/{parent_name}/{saved_model_name}.keras\"\n",
    "model = tf.keras.models.load_model(model_path)"
   ]
  },
  {
   "cell_type": "code",
   "execution_count": null,
   "id": "e7177d4a",
   "metadata": {
    "execution": {
     "iopub.execute_input": "2025-06-14T09:25:00.882176Z",
     "iopub.status.busy": "2025-06-14T09:25:00.881474Z",
     "iopub.status.idle": "2025-06-14T09:30:47.702845Z",
     "shell.execute_reply": "2025-06-14T09:30:47.702082Z"
    },
    "papermill": {
     "duration": 346.882048,
     "end_time": "2025-06-14T09:30:47.704335",
     "exception": false,
     "start_time": "2025-06-14T09:25:00.822287",
     "status": "completed"
    },
    "tags": []
   },
   "outputs": [],
   "source": [
    "model_name = 'EG2_P1_FT3'\n",
    "epochs = 25\n",
    "lr = 1e-6\n",
    "optimizer = 'Adam'\n",
    "\n",
    "freeze_layers(model, verbose=1)\n",
    "unfreeze_head(model, verbose=1)\n",
    "unfreeze_block(model, verbose=1)\n",
    "train(model, epochs, lr, optimizer, model_name, is_binary=0, plot=True, augmentation=data_augmentation)"
   ]
  },
  {
   "cell_type": "code",
   "execution_count": null,
   "id": "cc35357a",
   "metadata": {
    "execution": {
     "iopub.execute_input": "2025-06-14T09:30:47.888367Z",
     "iopub.status.busy": "2025-06-14T09:30:47.887598Z",
     "iopub.status.idle": "2025-06-14T09:30:49.257267Z",
     "shell.execute_reply": "2025-06-14T09:30:49.256607Z"
    },
    "papermill": {
     "duration": 1.462314,
     "end_time": "2025-06-14T09:30:49.258287",
     "exception": false,
     "start_time": "2025-06-14T09:30:47.795973",
     "status": "completed"
    },
    "tags": []
   },
   "outputs": [],
   "source": [
    "model_evaluation_precise(model)"
   ]
  },
  {
   "cell_type": "markdown",
   "id": "c152d02b",
   "metadata": {},
   "source": [
    "## Interactively Train the Model"
   ]
  },
  {
   "cell_type": "code",
   "execution_count": null,
   "id": "ef69aff3",
   "metadata": {},
   "outputs": [],
   "source": [
    "model_name1 = 'EG2_P1_FT1'\n",
    "epochs = 5\n",
    "lr = 1e-4\n",
    "optimizer = 'Adam'\n",
    "\n",
    "data_augmentation = tf.keras.Sequential([\n",
    "    layers.RandomFlip(\"horizontal\"),\n",
    "    layers.RandomRotation(0.1),\n",
    "    layers.RandomZoom(0.1),\n",
    "    layers.RandomContrast(0.1)\n",
    "], name=\"data_augmentation\")\n",
    "\n",
    "freeze_layers(model, verbose=1)\n",
    "unfreeze_head(model, verbose=1)\n",
    "unfreeze_block(model, verbose=1)\n",
    "train(model, epochs, lr, optimizer, model_name, is_binary=0, plot=True, augmentation=data_augmentation)"
   ]
  },
  {
   "cell_type": "code",
   "execution_count": null,
   "id": "e7c71497",
   "metadata": {},
   "outputs": [],
   "source": [
    "model_name2 = 'EG2_P1_FT1_2'\n",
    "epochs = 5\n",
    "train(model, epochs, lr, optimizer, model_name, is_binary=0, plot=True, augmentation=data_augmentation)"
   ]
  },
  {
   "cell_type": "code",
   "execution_count": null,
   "id": "1b2bdd0f",
   "metadata": {},
   "outputs": [],
   "source": [
    "relpath1 = f\"{PATH_RAWDATA}/{model_name1}.json\"\n",
    "relpath2 = f\"{PATH_RAWDATA}/{model_name2}.json\"\n",
    "output_filename = f\"{model_name1}_a\"\n",
    "concatenate_json(relpath1, relpath2, output_filename)\n",
    "plot_json(json_name=output_filename, img_name=output_filename, data_type='joined')"
   ]
  }
 ],
 "metadata": {
  "kaggle": {
   "accelerator": "none",
   "dataSources": [
    {
     "datasetId": 7653335,
     "sourceId": 12154317,
     "sourceType": "datasetVersion"
    },
    {
     "isSourceIdPinned": true,
     "modelId": 376060,
     "modelInstanceId": 354740,
     "sourceId": 434975,
     "sourceType": "modelInstanceVersion"
    }
   ],
   "dockerImageVersionId": 31040,
   "isGpuEnabled": false,
   "isInternetEnabled": true,
   "language": "python",
   "sourceType": "notebook"
  },
  "kernelspec": {
   "display_name": "EnvPy3_12",
   "language": "python",
   "name": "python3"
  },
  "language_info": {
   "codemirror_mode": {
    "name": "ipython",
    "version": 3
   },
   "file_extension": ".py",
   "mimetype": "text/x-python",
   "name": "python",
   "nbconvert_exporter": "python",
   "pygments_lexer": "ipython3",
   "version": "3.12.9"
  },
  "papermill": {
   "default_parameters": {},
   "duration": 1033.887458,
   "end_time": "2025-06-14T09:30:53.683115",
   "environment_variables": {},
   "exception": null,
   "input_path": "__notebook__.ipynb",
   "output_path": "__notebook__.ipynb",
   "parameters": {},
   "start_time": "2025-06-14T09:13:39.795657",
   "version": "2.6.0"
  }
 },
 "nbformat": 4,
 "nbformat_minor": 5
}
