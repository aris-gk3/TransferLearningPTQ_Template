{
 "cells": [
  {
   "cell_type": "markdown",
   "id": "f28653c0",
   "metadata": {
    "_cell_guid": "0aaedd7b-7a24-4c41-80b7-8fb76b6b2c01",
    "_uuid": "67131900-a7e4-4b80-b2f2-4d8904a6ac99",
    "collapsed": false,
    "id": "bac0c89d",
    "jupyter": {
     "outputs_hidden": false
    },
    "papermill": {
     "duration": 0.002861,
     "end_time": "2025-06-14T10:34:59.388939",
     "exception": false,
     "start_time": "2025-06-14T10:34:59.386078",
     "status": "completed"
    },
    "tags": []
   },
   "source": [
    "# Transfer Learning"
   ]
  },
  {
   "cell_type": "markdown",
   "id": "70cdcab6",
   "metadata": {
    "_cell_guid": "3247ec71-b268-4779-a56b-fd22da32ee8f",
    "_uuid": "5cc80cff-24cc-44ef-a7fd-9f6f08e55e07",
    "collapsed": false,
    "jupyter": {
     "outputs_hidden": false
    },
    "papermill": {
     "duration": 0.00187,
     "end_time": "2025-06-14T10:34:59.393297",
     "exception": false,
     "start_time": "2025-06-14T10:34:59.391427",
     "status": "completed"
    },
    "tags": []
   },
   "source": [
    "## Import Packages"
   ]
  },
  {
   "cell_type": "code",
   "execution_count": null,
   "id": "eebff6a8",
   "metadata": {
    "_cell_guid": "d5003f74-e762-4cbc-90b9-237b15ca183d",
    "_uuid": "23e9d836-0604-44ee-963c-abc6156d02a5",
    "collapsed": false,
    "execution": {
     "iopub.execute_input": "2025-06-14T10:34:59.398939Z",
     "iopub.status.busy": "2025-06-14T10:34:59.398422Z",
     "iopub.status.idle": "2025-06-14T10:35:07.851153Z",
     "shell.execute_reply": "2025-06-14T10:35:07.850136Z"
    },
    "jupyter": {
     "outputs_hidden": false
    },
    "papermill": {
     "duration": 8.458063,
     "end_time": "2025-06-14T10:35:07.853442",
     "exception": false,
     "start_time": "2025-06-14T10:34:59.395379",
     "status": "completed"
    },
    "tags": []
   },
   "outputs": [],
   "source": [
    "# !pip uninstall ml_project_util -y\n",
    "# !pip install git+https://github.com/aris-gk3/ml_project_util.git\n",
    "# or for local development:\n",
    "%pip uninstall ml_project_util -y\n",
    "%pip install git+https://github.com/aris-gk3/ml_project_util.git\n",
    "\n",
    "import tensorflow as tf\n",
    "import os\n",
    "from tensorflow.keras import layers, models # type: ignore\n",
    "from tensorflow.keras.applications import VGG16 # type: ignore\n",
    "# Local Packages\n",
    "from ml_project_util.path import path_definition\n",
    "from ml_project_util.train import train, freeze_layers, unfreeze_head, unfreeze_block\n",
    "from ml_project_util.quantization_util import quant_model, quant_bw_search\n",
    "from ml_project_util.model_evaluation import model_evaluation_precise"
   ]
  },
  {
   "cell_type": "markdown",
   "id": "fe7fd1e6",
   "metadata": {
    "_cell_guid": "3993a687-9518-46d5-9f7b-266fc0848bad",
    "_uuid": "308395e4-69e1-4999-a3f0-e5d3a814d01b",
    "collapsed": false,
    "jupyter": {
     "outputs_hidden": false
    },
    "papermill": {
     "duration": 0.00234,
     "end_time": "2025-06-14T10:35:22.740930",
     "exception": false,
     "start_time": "2025-06-14T10:35:22.738590",
     "status": "completed"
    },
    "tags": []
   },
   "source": [
    "## Define Variable Paths"
   ]
  },
  {
   "cell_type": "code",
   "execution_count": null,
   "id": "c08acef2",
   "metadata": {
    "_cell_guid": "360f9dac-b965-4199-9b5a-8e4a76736b27",
    "_uuid": "c841e233-4c85-423e-9816-1f306957b772",
    "collapsed": false,
    "execution": {
     "iopub.execute_input": "2025-06-14T10:35:22.746804Z",
     "iopub.status.busy": "2025-06-14T10:35:22.746441Z",
     "iopub.status.idle": "2025-06-14T10:35:22.787662Z",
     "shell.execute_reply": "2025-06-14T10:35:22.786846Z"
    },
    "jupyter": {
     "outputs_hidden": false
    },
    "papermill": {
     "duration": 0.045679,
     "end_time": "2025-06-14T10:35:22.789082",
     "exception": false,
     "start_time": "2025-06-14T10:35:22.743403",
     "status": "completed"
    },
    "tags": []
   },
   "outputs": [],
   "source": [
    "dict = path_definition(ds_rel_path='oxford-flowers-17-restructured') # path_definition.config to read\n",
    "BASE_PATH = dict['BASE_PATH']\n",
    "PATH_DATASET = dict['PATH_DATASET']\n",
    "PATH_TEST = dict['PATH_TEST']\n",
    "PATH_RAWDATA = dict['PATH_RAWDATA']\n",
    "PATH_JOINEDDATA = dict['PATH_JOINEDDATA']\n",
    "PATH_SAVEDMODELS = dict['PATH_SAVEDMODELS']"
   ]
  },
  {
   "cell_type": "markdown",
   "id": "e7a5f5c1",
   "metadata": {
    "_cell_guid": "cbf768a1-b43a-4eae-8f72-54ce23c4ee44",
    "_uuid": "84758484-daa9-4bb4-b8ec-fca2f3c8bef9",
    "collapsed": false,
    "jupyter": {
     "outputs_hidden": false
    },
    "papermill": {
     "duration": 0.006698,
     "end_time": "2025-06-14T10:35:22.801358",
     "exception": false,
     "start_time": "2025-06-14T10:35:22.794660",
     "status": "completed"
    },
    "tags": []
   },
   "source": [
    "## Load Model for PTQ & Evaluation"
   ]
  },
  {
   "cell_type": "code",
   "execution_count": null,
   "id": "2da9ff51",
   "metadata": {
    "_cell_guid": "482a2b13-c30b-48e4-980a-7ba7bb8aa97e",
    "_uuid": "c60d6c29-abb4-4d53-ad35-608ca89133c0",
    "collapsed": false,
    "execution": {
     "iopub.execute_input": "2025-06-14T10:35:22.808856Z",
     "iopub.status.busy": "2025-06-14T10:35:22.808646Z",
     "iopub.status.idle": "2025-06-14T10:35:26.377939Z",
     "shell.execute_reply": "2025-06-14T10:35:26.377378Z"
    },
    "jupyter": {
     "outputs_hidden": false
    },
    "papermill": {
     "duration": 3.573961,
     "end_time": "2025-06-14T10:35:26.379383",
     "exception": false,
     "start_time": "2025-06-14T10:35:22.805422",
     "status": "completed"
    },
    "tags": []
   },
   "outputs": [],
   "source": [
    "model_name = 'EG2_P1_008_val0.3397'\n",
    "parent_name = model_name[:3]\n",
    "model_path = '/kaggle/input/of2_p1_008_val0.3397/keras/default/1/OF2_P1_008_val0.3397.keras'\n",
    "# model_path = f\"{PATH_SAVEDMODELS}/{parent_name}/{model_name}.keras\"\n",
    "model = tf.keras.models.load_model(model_path)"
   ]
  },
  {
   "cell_type": "markdown",
   "id": "760790da",
   "metadata": {
    "_cell_guid": "0a20eb5c-73ba-49c3-b54d-4a6a3f71de18",
    "_uuid": "5b883389-d4cf-49f4-8cfd-49e1bb9878a9",
    "collapsed": false,
    "jupyter": {
     "outputs_hidden": false
    },
    "papermill": {
     "duration": 0.00245,
     "end_time": "2025-06-14T10:35:26.384785",
     "exception": false,
     "start_time": "2025-06-14T10:35:26.382335",
     "status": "completed"
    },
    "tags": []
   },
   "source": [
    "## Try PTQ & Evaluation (Evluate Correctness)"
   ]
  },
  {
   "cell_type": "code",
   "execution_count": null,
   "id": "1a90bc5f",
   "metadata": {
    "_cell_guid": "a47c79f3-b0d7-4b33-8b11-3d50d94f3ca4",
    "_uuid": "ad96a75d-795f-4cb6-a1ec-c0ae077e353c",
    "collapsed": false,
    "execution": {
     "iopub.execute_input": "2025-06-14T10:35:26.391031Z",
     "iopub.status.busy": "2025-06-14T10:35:26.390575Z",
     "iopub.status.idle": "2025-06-14T10:35:36.572157Z",
     "shell.execute_reply": "2025-06-14T10:35:36.571416Z"
    },
    "jupyter": {
     "outputs_hidden": false
    },
    "papermill": {
     "duration": 10.186153,
     "end_time": "2025-06-14T10:35:36.573467",
     "exception": false,
     "start_time": "2025-06-14T10:35:26.387314",
     "status": "completed"
    },
    "tags": []
   },
   "outputs": [],
   "source": [
    "model_evaluation_precise(model, mode='val')\n",
    "model_evaluation_precise(model, mode='test')"
   ]
  },
  {
   "cell_type": "code",
   "execution_count": null,
   "id": "ddfe16bb",
   "metadata": {
    "_cell_guid": "d85a36c6-93a5-415b-860b-3bc6646b4262",
    "_uuid": "1a896811-214d-4bdb-b5c3-4c74fd5e91c0",
    "collapsed": false,
    "execution": {
     "iopub.execute_input": "2025-06-14T10:35:36.581660Z",
     "iopub.status.busy": "2025-06-14T10:35:36.581455Z",
     "iopub.status.idle": "2025-06-14T10:37:30.657468Z",
     "shell.execute_reply": "2025-06-14T10:37:30.656722Z"
    },
    "jupyter": {
     "outputs_hidden": false
    },
    "papermill": {
     "duration": 114.081496,
     "end_time": "2025-06-14T10:37:30.658842",
     "exception": false,
     "start_time": "2025-06-14T10:35:36.577346",
     "status": "completed"
    },
    "tags": []
   },
   "outputs": [],
   "source": [
    "%%time\n",
    "quant_bw_search(model, model_name, range(7,18))"
   ]
  },
  {
   "cell_type": "markdown",
   "id": "44d7d6fd",
   "metadata": {
    "_cell_guid": "b46cc0ab-15e2-4593-8e54-9530b0f909c3",
    "_uuid": "8dbc6ebe-a4aa-4de1-a399-5930df25ea63",
    "collapsed": false,
    "jupyter": {
     "outputs_hidden": false
    },
    "papermill": {
     "duration": 0.016512,
     "end_time": "2025-06-14T10:37:30.692633",
     "exception": false,
     "start_time": "2025-06-14T10:37:30.676121",
     "status": "completed"
    },
    "tags": []
   },
   "source": [
    "---"
   ]
  }
 ],
 "metadata": {
  "kaggle": {
   "accelerator": "none",
   "dataSources": [
    {
     "datasetId": 7653335,
     "sourceId": 12154317,
     "sourceType": "datasetVersion"
    },
    {
     "isSourceIdPinned": true,
     "modelId": 376118,
     "modelInstanceId": 354800,
     "sourceId": 435045,
     "sourceType": "modelInstanceVersion"
    }
   ],
   "isGpuEnabled": false,
   "isInternetEnabled": true,
   "language": "python",
   "sourceType": "notebook"
  },
  "kernelspec": {
   "display_name": "Python 3",
   "language": "python",
   "name": "python3"
  },
  "language_info": {
   "codemirror_mode": {
    "name": "ipython",
    "version": 3
   },
   "file_extension": ".py",
   "mimetype": "text/x-python",
   "name": "python",
   "nbconvert_exporter": "python",
   "pygments_lexer": "ipython3",
   "version": "3.11.11"
  },
  "papermill": {
   "default_parameters": {},
   "duration": 158.272656,
   "end_time": "2025-06-14T10:37:33.548771",
   "environment_variables": {},
   "exception": null,
   "input_path": "__notebook__.ipynb",
   "output_path": "__notebook__.ipynb",
   "parameters": {},
   "start_time": "2025-06-14T10:34:55.276115",
   "version": "2.6.0"
  }
 },
 "nbformat": 4,
 "nbformat_minor": 5
}
