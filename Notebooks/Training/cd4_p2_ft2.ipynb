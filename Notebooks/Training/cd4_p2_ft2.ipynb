{
 "cells": [
  {
   "cell_type": "markdown",
   "id": "bac0c89d",
   "metadata": {},
   "source": [
    "# CD4_P2_FT2"
   ]
  },
  {
   "cell_type": "markdown",
   "id": "c4ae996f",
   "metadata": {},
   "source": [
    "### Import Packages"
   ]
  },
  {
   "cell_type": "code",
   "execution_count": 1,
   "id": "0ed83b5f",
   "metadata": {},
   "outputs": [],
   "source": [
    "import tensorflow as tf"
   ]
  },
  {
   "cell_type": "code",
   "execution_count": 2,
   "id": "d43c201a",
   "metadata": {},
   "outputs": [],
   "source": [
    "# Local Packages\n",
    "from utilpackage.path import path_definition\n",
    "from utilpackage.train import train, freeze_layers, unfreeze_head, unfreeze_block"
   ]
  },
  {
   "cell_type": "markdown",
   "id": "ecb11524",
   "metadata": {},
   "source": [
    "### Variable Paths, Execution Environments"
   ]
  },
  {
   "cell_type": "code",
   "execution_count": 3,
   "id": "a756063e",
   "metadata": {},
   "outputs": [],
   "source": [
    "model_name = 'CD4_P2_FT2'"
   ]
  },
  {
   "cell_type": "code",
   "execution_count": 4,
   "id": "f6e95abf",
   "metadata": {},
   "outputs": [],
   "source": [
    "BASE_PATH, PATH_DATASET, PATH_RAWDATA, PATH_JOINEDDATA, PATH_SAVEDMODELS = path_definition()"
   ]
  },
  {
   "cell_type": "markdown",
   "id": "d36b3676",
   "metadata": {},
   "source": [
    "### Load Chosen Model"
   ]
  },
  {
   "cell_type": "code",
   "execution_count": 5,
   "id": "2c988f0e",
   "metadata": {},
   "outputs": [],
   "source": [
    "filepath = f'{PATH_SAVEDMODELS}/CD4/CD4_P2_continue_003_val0.0422.keras'\n",
    "model = tf.keras.models.load_model(filepath)"
   ]
  },
  {
   "cell_type": "markdown",
   "id": "834969d5",
   "metadata": {},
   "source": [
    "### Continue Training"
   ]
  },
  {
   "cell_type": "code",
   "execution_count": 6,
   "id": "424f3fa7",
   "metadata": {},
   "outputs": [],
   "source": [
    "model_name = 'CD4_P2_FT2'\n",
    "parent_name = 'CD4_P2_continue_003_val0.0422'"
   ]
  },
  {
   "cell_type": "code",
   "execution_count": 7,
   "id": "315b93ac",
   "metadata": {},
   "outputs": [
    {
     "name": "stdout",
     "output_type": "stream",
     "text": [
      "- block1_conv1 (Conv2D), Trainable: False\n",
      "- block1_conv2 (Conv2D), Trainable: False\n",
      "- block1_pool (MaxPooling2D), Trainable: False\n",
      "- block2_conv1 (Conv2D), Trainable: False\n",
      "- block2_conv2 (Conv2D), Trainable: False\n",
      "- block2_pool (MaxPooling2D), Trainable: False\n",
      "- block3_conv1 (Conv2D), Trainable: False\n",
      "- block3_conv2 (Conv2D), Trainable: False\n",
      "- block3_conv3 (Conv2D), Trainable: False\n",
      "- block3_pool (MaxPooling2D), Trainable: False\n",
      "- block4_conv1 (Conv2D), Trainable: False\n",
      "- block4_conv2 (Conv2D), Trainable: False\n",
      "- block4_conv3 (Conv2D), Trainable: False\n",
      "- block4_pool (MaxPooling2D), Trainable: False\n",
      "- block5_conv1 (Conv2D), Trainable: False\n",
      "- block5_conv2 (Conv2D), Trainable: False\n",
      "- block5_conv3 (Conv2D), Trainable: False\n",
      "- block5_pool (MaxPooling2D), Trainable: False\n",
      "- global_average_pooling2d (GlobalAveragePooling2D), Trainable: False\n",
      "- dense (Dense), Trainable: False\n",
      "- dropout (Dropout), Trainable: False\n",
      "- dense_1 (Dense), Trainable: False\n",
      "- dropout_1 (Dropout), Trainable: False\n",
      "- dense_2 (Dense), Trainable: False\n",
      "\n",
      "\n",
      "- block1_conv1 (Conv2D), Trainable: False\n",
      "- block1_conv2 (Conv2D), Trainable: False\n",
      "- block1_pool (MaxPooling2D), Trainable: False\n",
      "- block2_conv1 (Conv2D), Trainable: False\n",
      "- block2_conv2 (Conv2D), Trainable: False\n",
      "- block2_pool (MaxPooling2D), Trainable: False\n",
      "- block3_conv1 (Conv2D), Trainable: False\n",
      "- block3_conv2 (Conv2D), Trainable: False\n",
      "- block3_conv3 (Conv2D), Trainable: False\n",
      "- block3_pool (MaxPooling2D), Trainable: False\n",
      "- block4_conv1 (Conv2D), Trainable: False\n",
      "- block4_conv2 (Conv2D), Trainable: False\n",
      "- block4_conv3 (Conv2D), Trainable: False\n",
      "- block4_pool (MaxPooling2D), Trainable: False\n",
      "- block5_conv1 (Conv2D), Trainable: False\n",
      "- block5_conv2 (Conv2D), Trainable: False\n",
      "- block5_conv3 (Conv2D), Trainable: False\n",
      "- block5_pool (MaxPooling2D), Trainable: False\n",
      "- global_average_pooling2d (GlobalAveragePooling2D), Trainable: True\n",
      "- dense (Dense), Trainable: True\n",
      "- dropout (Dropout), Trainable: True\n",
      "- dense_1 (Dense), Trainable: True\n",
      "- dropout_1 (Dropout), Trainable: True\n",
      "- dense_2 (Dense), Trainable: True\n",
      "\n",
      "\n",
      "- block1_conv1 (Conv2D), Trainable: False\n",
      "- block1_conv2 (Conv2D), Trainable: False\n",
      "- block1_pool (MaxPooling2D), Trainable: False\n",
      "- block2_conv1 (Conv2D), Trainable: False\n",
      "- block2_conv2 (Conv2D), Trainable: False\n",
      "- block2_pool (MaxPooling2D), Trainable: False\n",
      "- block3_conv1 (Conv2D), Trainable: False\n",
      "- block3_conv2 (Conv2D), Trainable: False\n",
      "- block3_conv3 (Conv2D), Trainable: False\n",
      "- block3_pool (MaxPooling2D), Trainable: False\n",
      "- block4_conv1 (Conv2D), Trainable: False\n",
      "- block4_conv2 (Conv2D), Trainable: False\n",
      "- block4_conv3 (Conv2D), Trainable: False\n",
      "- block4_pool (MaxPooling2D), Trainable: False\n",
      "- block5_conv1 (Conv2D), Trainable: True\n",
      "- block5_conv2 (Conv2D), Trainable: True\n",
      "- block5_conv3 (Conv2D), Trainable: True\n",
      "- block5_pool (MaxPooling2D), Trainable: False\n",
      "- global_average_pooling2d (GlobalAveragePooling2D), Trainable: True\n",
      "- dense (Dense), Trainable: True\n",
      "- dropout (Dropout), Trainable: True\n",
      "- dense_1 (Dense), Trainable: True\n",
      "- dropout_1 (Dropout), Trainable: True\n",
      "- dense_2 (Dense), Trainable: True\n",
      "\n",
      "\n",
      "Found 24997 files belonging to 2 classes.\n",
      "Using 19998 files for training.\n",
      "Found 24997 files belonging to 2 classes.\n",
      "Using 4999 files for validation.\n",
      "Epoch 1/7\n",
      "\u001b[1m625/625\u001b[0m \u001b[32m━━━━━━━━━━━━━━━━━━━━\u001b[0m\u001b[37m\u001b[0m \u001b[1m0s\u001b[0m 5s/step - accuracy: 0.9724 - loss: 0.0687\n",
      "Epoch 1: saving model to C:/Programming_Files/JupyterVSCode/Binary_Classification_Transfer_Learning/CatsDogs/SavedModels/CD4/CD4_P2_FT2_001_val0.0420.keras\n",
      "\u001b[1m625/625\u001b[0m \u001b[32m━━━━━━━━━━━━━━━━━━━━\u001b[0m\u001b[37m\u001b[0m \u001b[1m3450s\u001b[0m 6s/step - accuracy: 0.9724 - loss: 0.0687 - val_accuracy: 0.9868 - val_loss: 0.0420\n",
      "Epoch 2/7\n",
      "\u001b[1m625/625\u001b[0m \u001b[32m━━━━━━━━━━━━━━━━━━━━\u001b[0m\u001b[37m\u001b[0m \u001b[1m0s\u001b[0m 5s/step - accuracy: 0.9738 - loss: 0.0655\n",
      "Epoch 2: saving model to C:/Programming_Files/JupyterVSCode/Binary_Classification_Transfer_Learning/CatsDogs/SavedModels/CD4/CD4_P2_FT2_002_val0.0425.keras\n",
      "\u001b[1m625/625\u001b[0m \u001b[32m━━━━━━━━━━━━━━━━━━━━\u001b[0m\u001b[37m\u001b[0m \u001b[1m3834s\u001b[0m 6s/step - accuracy: 0.9738 - loss: 0.0655 - val_accuracy: 0.9858 - val_loss: 0.0425\n",
      "Epoch 3/7\n",
      "\u001b[1m625/625\u001b[0m \u001b[32m━━━━━━━━━━━━━━━━━━━━\u001b[0m\u001b[37m\u001b[0m \u001b[1m0s\u001b[0m 6s/step - accuracy: 0.9775 - loss: 0.0565\n",
      "Epoch 3: saving model to C:/Programming_Files/JupyterVSCode/Binary_Classification_Transfer_Learning/CatsDogs/SavedModels/CD4/CD4_P2_FT2_003_val0.0406.keras\n",
      "\u001b[1m625/625\u001b[0m \u001b[32m━━━━━━━━━━━━━━━━━━━━\u001b[0m\u001b[37m\u001b[0m \u001b[1m4495s\u001b[0m 7s/step - accuracy: 0.9775 - loss: 0.0565 - val_accuracy: 0.9876 - val_loss: 0.0406\n",
      "Epoch 4/7\n",
      "\u001b[1m625/625\u001b[0m \u001b[32m━━━━━━━━━━━━━━━━━━━━\u001b[0m\u001b[37m\u001b[0m \u001b[1m0s\u001b[0m 6s/step - accuracy: 0.9765 - loss: 0.0600\n",
      "Epoch 4: saving model to C:/Programming_Files/JupyterVSCode/Binary_Classification_Transfer_Learning/CatsDogs/SavedModels/CD4/CD4_P2_FT2_004_val0.0393.keras\n",
      "\u001b[1m625/625\u001b[0m \u001b[32m━━━━━━━━━━━━━━━━━━━━\u001b[0m\u001b[37m\u001b[0m \u001b[1m4405s\u001b[0m 7s/step - accuracy: 0.9765 - loss: 0.0600 - val_accuracy: 0.9886 - val_loss: 0.0393\n",
      "Epoch 5/7\n",
      "\u001b[1m625/625\u001b[0m \u001b[32m━━━━━━━━━━━━━━━━━━━━\u001b[0m\u001b[37m\u001b[0m \u001b[1m0s\u001b[0m 6s/step - accuracy: 0.9785 - loss: 0.0545\n",
      "Epoch 5: saving model to C:/Programming_Files/JupyterVSCode/Binary_Classification_Transfer_Learning/CatsDogs/SavedModels/CD4/CD4_P2_FT2_005_val0.0404.keras\n",
      "\u001b[1m625/625\u001b[0m \u001b[32m━━━━━━━━━━━━━━━━━━━━\u001b[0m\u001b[37m\u001b[0m \u001b[1m4479s\u001b[0m 7s/step - accuracy: 0.9785 - loss: 0.0545 - val_accuracy: 0.9866 - val_loss: 0.0404\n",
      "Epoch 6/7\n",
      "\u001b[1m625/625\u001b[0m \u001b[32m━━━━━━━━━━━━━━━━━━━━\u001b[0m\u001b[37m\u001b[0m \u001b[1m0s\u001b[0m 5s/step - accuracy: 0.9790 - loss: 0.0497\n",
      "Epoch 6: saving model to C:/Programming_Files/JupyterVSCode/Binary_Classification_Transfer_Learning/CatsDogs/SavedModels/CD4/CD4_P2_FT2_006_val0.0391.keras\n",
      "\u001b[1m625/625\u001b[0m \u001b[32m━━━━━━━━━━━━━━━━━━━━\u001b[0m\u001b[37m\u001b[0m \u001b[1m3876s\u001b[0m 6s/step - accuracy: 0.9790 - loss: 0.0497 - val_accuracy: 0.9872 - val_loss: 0.0391\n",
      "Epoch 7/7\n",
      "\u001b[1m625/625\u001b[0m \u001b[32m━━━━━━━━━━━━━━━━━━━━\u001b[0m\u001b[37m\u001b[0m \u001b[1m0s\u001b[0m 5s/step - accuracy: 0.9811 - loss: 0.0467\n",
      "Epoch 7: saving model to C:/Programming_Files/JupyterVSCode/Binary_Classification_Transfer_Learning/CatsDogs/SavedModels/CD4/CD4_P2_FT2_007_val0.0380.keras\n",
      "\u001b[1m625/625\u001b[0m \u001b[32m━━━━━━━━━━━━━━━━━━━━\u001b[0m\u001b[37m\u001b[0m \u001b[1m3979s\u001b[0m 6s/step - accuracy: 0.9811 - loss: 0.0467 - val_accuracy: 0.9880 - val_loss: 0.0380\n"
     ]
    }
   ],
   "source": [
    "epochs = 7\n",
    "lr = 1e-6\n",
    "optimizer = 'Adam'\n",
    "\n",
    "freeze_layers(model, verbose=1)\n",
    "unfreeze_head(model, verbose=1)\n",
    "unfreeze_block(model, verbose=1)\n",
    "train(model, epochs, lr, optimizer, model_name, parent_name)"
   ]
  },
  {
   "cell_type": "markdown",
   "id": "c78a7f8c",
   "metadata": {},
   "source": [
    "### Continue Training"
   ]
  },
  {
   "cell_type": "code",
   "execution_count": null,
   "id": "4410a76c",
   "metadata": {},
   "outputs": [],
   "source": [
    "model_name = 'CD4_P2_FT2_continue'\n",
    "parent_name = 'CD4_P2_FT2_007_val0.0394'"
   ]
  },
  {
   "cell_type": "code",
   "execution_count": null,
   "id": "4ddde375",
   "metadata": {},
   "outputs": [
    {
     "name": "stdout",
     "output_type": "stream",
     "text": [
      "Found 24997 files belonging to 2 classes.\n",
      "Using 19998 files for training.\n",
      "Found 24997 files belonging to 2 classes.\n",
      "Using 4999 files for validation.\n",
      "Epoch 1/3\n",
      "\u001b[1m625/625\u001b[0m \u001b[32m━━━━━━━━━━━━━━━━━━━━\u001b[0m\u001b[37m\u001b[0m \u001b[1m0s\u001b[0m 4s/step - accuracy: 0.9911 - loss: 0.0259\n",
      "Epoch 1: saving model to C:/Programming_Files/JupyterVSCode/Binary_Classification_Transfer_Learning/CatsDogs/SavedModels/CD4/CD4_P2_FT_continue_001_val0.0394.keras\n",
      "\u001b[1m625/625\u001b[0m \u001b[32m━━━━━━━━━━━━━━━━━━━━\u001b[0m\u001b[37m\u001b[0m \u001b[1m3118s\u001b[0m 5s/step - accuracy: 0.9911 - loss: 0.0259 - val_accuracy: 0.9884 - val_loss: 0.0394\n",
      "Epoch 2/3\n",
      "\u001b[1m625/625\u001b[0m \u001b[32m━━━━━━━━━━━━━━━━━━━━\u001b[0m\u001b[37m\u001b[0m \u001b[1m0s\u001b[0m 4s/step - accuracy: 0.9920 - loss: 0.0219\n",
      "Epoch 2: saving model to C:/Programming_Files/JupyterVSCode/Binary_Classification_Transfer_Learning/CatsDogs/SavedModels/CD4/CD4_P2_FT_continue_002_val0.0368.keras\n",
      "\u001b[1m625/625\u001b[0m \u001b[32m━━━━━━━━━━━━━━━━━━━━\u001b[0m\u001b[37m\u001b[0m \u001b[1m3318s\u001b[0m 5s/step - accuracy: 0.9920 - loss: 0.0219 - val_accuracy: 0.9904 - val_loss: 0.0368\n",
      "Epoch 3/3\n",
      "\u001b[1m625/625\u001b[0m \u001b[32m━━━━━━━━━━━━━━━━━━━━\u001b[0m\u001b[37m\u001b[0m \u001b[1m0s\u001b[0m 5s/step - accuracy: 0.9926 - loss: 0.0199\n",
      "Epoch 3: saving model to C:/Programming_Files/JupyterVSCode/Binary_Classification_Transfer_Learning/CatsDogs/SavedModels/CD4/CD4_P2_FT_continue_003_val0.0380.keras\n",
      "\u001b[1m625/625\u001b[0m \u001b[32m━━━━━━━━━━━━━━━━━━━━\u001b[0m\u001b[37m\u001b[0m \u001b[1m3522s\u001b[0m 6s/step - accuracy: 0.9926 - loss: 0.0199 - val_accuracy: 0.9890 - val_loss: 0.0380\n"
     ]
    }
   ],
   "source": [
    "epochs = 8\n",
    "lr = 1e-6\n",
    "optimizer = 'Adam'\n",
    "\n",
    "train(model, epochs, lr, optimizer, model_name, parent_name)"
   ]
  }
 ],
 "metadata": {
  "kernelspec": {
   "display_name": "EnvPy3_12",
   "language": "python",
   "name": "python3"
  },
  "language_info": {
   "codemirror_mode": {
    "name": "ipython",
    "version": 3
   },
   "file_extension": ".py",
   "mimetype": "text/x-python",
   "name": "python",
   "nbconvert_exporter": "python",
   "pygments_lexer": "ipython3",
   "version": "3.12.9"
  }
 },
 "nbformat": 4,
 "nbformat_minor": 5
}
