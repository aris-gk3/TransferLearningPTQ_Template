{
 "cells": [
  {
   "cell_type": "markdown",
   "id": "959bca07",
   "metadata": {},
   "source": [
    "# CD1 P1 FT2"
   ]
  },
  {
   "cell_type": "markdown",
   "id": "33ed956b",
   "metadata": {},
   "source": [
    "### Import Packages"
   ]
  },
  {
   "cell_type": "code",
   "execution_count": 1,
   "id": "51fb8127",
   "metadata": {},
   "outputs": [],
   "source": [
    "import tensorflow as tf\n",
    "from tensorflow.keras import layers, models\n",
    "from tensorflow.keras.applications import VGG16"
   ]
  },
  {
   "cell_type": "markdown",
   "id": "1afad2ee",
   "metadata": {},
   "source": [
    "### Load Dataset"
   ]
  },
  {
   "cell_type": "code",
   "execution_count": null,
   "id": "f40603cf",
   "metadata": {},
   "outputs": [],
   "source": [
    "from tensorflow.keras.utils import image_dataset_from_directory"
   ]
  },
  {
   "cell_type": "code",
   "execution_count": null,
   "id": "d8fbbdae",
   "metadata": {},
   "outputs": [
    {
     "name": "stderr",
     "output_type": "stream",
     "text": [
      "<>:2: SyntaxWarning: invalid escape sequence '\\P'\n",
      "<>:2: SyntaxWarning: invalid escape sequence '\\P'\n",
      "C:\\Users\\Aris_Work\\AppData\\Local\\Temp\\ipykernel_29528\\2621384392.py:2: SyntaxWarning: invalid escape sequence '\\P'\n",
      "  data_dir = 'C:\\Programming_Files\\JupyterVSCode\\Binary_Classification_Transfer_Learning\\CatsDogs\\DatasetConv'\n"
     ]
    },
    {
     "name": "stdout",
     "output_type": "stream",
     "text": [
      "Found 24997 files belonging to 2 classes.\n",
      "Using 19998 files for training.\n",
      "Found 24997 files belonging to 2 classes.\n",
      "Using 4999 files for validation.\n"
     ]
    }
   ],
   "source": [
    "# Define paths to training and validation datasets\n",
    "data_dir = 'C:\\\\Programming_Files\\\\JupyterVSCode\\\\Binary_Classification_Transfer_Learning\\\\CatsDogs\\\\DatasetConv'\n",
    "\n",
    "# Load Datasets\n",
    "train_dataset = image_dataset_from_directory(\n",
    "    data_dir,\n",
    "    image_size=(224, 224),\n",
    "    batch_size=32,\n",
    "    label_mode='binary',\n",
    "    validation_split=0.2,  # 20% for validation\n",
    "    subset='training',     # Use the 'training' subset\n",
    "    seed=123\n",
    ")\n",
    "\n",
    "val_dataset = image_dataset_from_directory(\n",
    "    data_dir,\n",
    "    image_size=(224, 224),\n",
    "    batch_size=32,\n",
    "    label_mode='binary',\n",
    "    validation_split=0.2,  # 20% for validation\n",
    "    subset='validation',   # Use the 'validation' subset\n",
    "    seed=123\n",
    ")"
   ]
  },
  {
   "cell_type": "markdown",
   "id": "50f32190",
   "metadata": {},
   "source": [
    "### Preprocessing & Augmentation"
   ]
  },
  {
   "cell_type": "code",
   "execution_count": 4,
   "id": "a2614a9e",
   "metadata": {},
   "outputs": [],
   "source": [
    "from tensorflow.keras.applications.vgg16 import preprocess_input"
   ]
  },
  {
   "cell_type": "code",
   "execution_count": 5,
   "id": "56997251",
   "metadata": {},
   "outputs": [],
   "source": [
    "# Augmentation layer\n",
    "data_augmentation = tf.keras.Sequential([\n",
    "    layers.RandomFlip('horizontal'),\n",
    "    layers.RandomRotation(0.1),  # 10% random rotation\n",
    "    layers.RandomZoom(0.1),      # 10% zoom\n",
    "    layers.RandomTranslation(0.1, 0.1),  # Random height and width shift\n",
    "    layers.RandomBrightness(0.2)\n",
    "])\n",
    "\n",
    "# Augment the training data\n",
    "def augment_img(image, label):\n",
    "    image = data_augmentation(image)  # Apply augmentations\n",
    "    return image, label\n",
    "\n",
    "train_dataset = train_dataset.map(augment_img)"
   ]
  },
  {
   "cell_type": "code",
   "execution_count": 6,
   "id": "ca4c19c4",
   "metadata": {},
   "outputs": [],
   "source": [
    "# Apply VGG-16 preprocessing\n",
    "def preprocess_img(image, label):\n",
    "    image = preprocess_input(image)  # Apply VGG16-specific preprocessing\n",
    "    return image, label\n",
    "\n",
    "train_dataset = train_dataset.map(preprocess_img)\n",
    "val_dataset = val_dataset.map(preprocess_img)"
   ]
  },
  {
   "cell_type": "markdown",
   "id": "34013cd9",
   "metadata": {},
   "source": [
    "### Load the Model with the Trained Model with the Trained Head"
   ]
  },
  {
   "cell_type": "code",
   "execution_count": null,
   "id": "7e20218b",
   "metadata": {},
   "outputs": [
    {
     "name": "stderr",
     "output_type": "stream",
     "text": [
      "<>:1: SyntaxWarning: invalid escape sequence '\\P'\n",
      "<>:1: SyntaxWarning: invalid escape sequence '\\P'\n",
      "C:\\Users\\Aris_Work\\AppData\\Local\\Temp\\ipykernel_29528\\1346541303.py:1: SyntaxWarning: invalid escape sequence '\\P'\n",
      "  filepath = 'C:\\Programming_Files\\JupyterVSCode\\Binary_Classification_Transfer_Learning\\CatsDogs\\StarredModels\\CD_1P1_2epochs_head_epoch002_val0.0556.keras'\n"
     ]
    }
   ],
   "source": [
    "filepath = 'C:\\\\Programming_Files\\\\JupyterVSCode\\\\Binary_Classification_Transfer_Learning\\\\CatsDogs\\\\StarredModels\\\\CD_1P1_2epochs_head_epoch002_val0.0556.keras'\n",
    "model = tf.keras.models.load_model(filepath)"
   ]
  },
  {
   "cell_type": "markdown",
   "id": "d2f47fb2",
   "metadata": {},
   "source": [
    "### Unfreeze Last VGG Block & Verify"
   ]
  },
  {
   "cell_type": "code",
   "execution_count": 8,
   "id": "85cecba1",
   "metadata": {},
   "outputs": [
    {
     "name": "stdout",
     "output_type": "stream",
     "text": [
      "Layer 0: vgg16, Trainable: True\n",
      "Layer 1: flatten, Trainable: True\n",
      "Layer 2: dense, Trainable: True\n",
      "Layer 3: dropout, Trainable: True\n",
      "Layer 4: dense_1, Trainable: True\n"
     ]
    }
   ],
   "source": [
    "# Unfreeze the last few layers (e.g., last 4 layers)\n",
    "for layer in model.layers[-4:]:\n",
    "    layer.trainable = True\n",
    "\n",
    "# Optionally, print trainable status\n",
    "for i, layer in enumerate(model.layers):\n",
    "    print(f\"Layer {i}: {layer.name}, Trainable: {layer.trainable}\")"
   ]
  },
  {
   "cell_type": "code",
   "execution_count": 9,
   "id": "cce43901",
   "metadata": {},
   "outputs": [],
   "source": [
    "for layer in model.layers[0].layers:\n",
    "    if layer.name in ['block5_conv1', 'block5_conv2', 'block5_conv3']:\n",
    "        layer.trainable = True\n",
    "    else:\n",
    "        layer.trainable = False"
   ]
  },
  {
   "cell_type": "code",
   "execution_count": 10,
   "id": "6c748024",
   "metadata": {},
   "outputs": [
    {
     "name": "stdout",
     "output_type": "stream",
     "text": [
      "- vgg16 (Functional), Trainable: True\n",
      "  - input_layer_1 (InputLayer), Trainable: False\n",
      "  - block1_conv1 (Conv2D), Trainable: False\n",
      "  - block1_conv2 (Conv2D), Trainable: False\n",
      "  - block1_pool (MaxPooling2D), Trainable: False\n",
      "  - block2_conv1 (Conv2D), Trainable: False\n",
      "  - block2_conv2 (Conv2D), Trainable: False\n",
      "  - block2_pool (MaxPooling2D), Trainable: False\n",
      "  - block3_conv1 (Conv2D), Trainable: False\n",
      "  - block3_conv2 (Conv2D), Trainable: False\n",
      "  - block3_conv3 (Conv2D), Trainable: False\n",
      "  - block3_pool (MaxPooling2D), Trainable: False\n",
      "  - block4_conv1 (Conv2D), Trainable: False\n",
      "  - block4_conv2 (Conv2D), Trainable: False\n",
      "  - block4_conv3 (Conv2D), Trainable: False\n",
      "  - block4_pool (MaxPooling2D), Trainable: False\n",
      "  - block5_conv1 (Conv2D), Trainable: True\n",
      "  - block5_conv2 (Conv2D), Trainable: True\n",
      "  - block5_conv3 (Conv2D), Trainable: True\n",
      "  - block5_pool (MaxPooling2D), Trainable: False\n",
      "- flatten (Flatten), Trainable: True\n",
      "- dense (Dense), Trainable: True\n",
      "- dropout (Dropout), Trainable: True\n",
      "- dense_1 (Dense), Trainable: True\n",
      "{'name': 'adam', 'learning_rate': 0.0010000000474974513, 'weight_decay': None, 'clipnorm': None, 'global_clipnorm': None, 'clipvalue': None, 'use_ema': False, 'ema_momentum': 0.99, 'ema_overwrite_frequency': None, 'loss_scale_factor': None, 'gradient_accumulation_steps': None, 'beta_1': 0.9, 'beta_2': 0.999, 'epsilon': 1e-07, 'amsgrad': False}\n"
     ]
    }
   ],
   "source": [
    "def print_model_layers(model, indent=0):\n",
    "    for layer in model.layers:\n",
    "        print(\" \" * indent + f\"- {layer.name} ({layer.__class__.__name__}), Trainable: {layer.trainable}\")\n",
    "        # If this layer has sublayers (like Functional or Sequential models)\n",
    "        if hasattr(layer, 'layers'):\n",
    "            print_model_layers(layer, indent + 2)\n",
    "\n",
    "print_model_layers(model)\n",
    "\n",
    "print(model.optimizer.get_config())"
   ]
  },
  {
   "cell_type": "markdown",
   "id": "ee1f01e8",
   "metadata": {},
   "source": [
    "### Compile"
   ]
  },
  {
   "cell_type": "code",
   "execution_count": null,
   "id": "55c58eb2",
   "metadata": {},
   "outputs": [],
   "source": [
    "from tensorflow.keras.optimizers import Adam\n",
    "optimizer = Adam(learning_rate=3*1e-6)\n",
    "\n",
    "model.compile(optimizer=optimizer, loss='binary_crossentropy', metrics=['accuracy'])"
   ]
  },
  {
   "cell_type": "markdown",
   "id": "3fdf0218",
   "metadata": {},
   "source": [
    "### Train & Save Results"
   ]
  },
  {
   "cell_type": "code",
   "execution_count": null,
   "id": "168448d6",
   "metadata": {},
   "outputs": [],
   "source": [
    "# Define the checkpoint path\n",
    "model_name = 'CD1 P1_FT2'\n",
    "path = 'C:\\\\Programming_Files\\\\JupyterVSCode\\\\Binary_Classification_Transfer_Learning\\\\CatsDogs\\\\SavedModels\\\\CD1'\n",
    "checkpoint_path = f\"{path}/{model_name}_{{epoch:03d}}_val{{val_loss:.4f}}.keras\"\n",
    "\n",
    "from tensorflow.keras.callbacks import ModelCheckpoint, ReduceLROnPlateau, EarlyStopping\n",
    "\n",
    "# Create the ModelCheckpoint callback\n",
    "checkpoint_callback = ModelCheckpoint(\n",
    "    filepath=checkpoint_path,\n",
    "    save_freq='epoch',              # Save every epoch\n",
    "    save_weights_only=False,\n",
    "    save_best_only=False,           # Save every time, not just best\n",
    "    monitor='val_loss',\n",
    "    verbose=1,\n",
    ")\n",
    "\n",
    "# Reduce Learning Rate on Plateau\n",
    "reduce_lr = ReduceLROnPlateau(\n",
    "    monitor='val_loss',       # Watch validation loss\n",
    "    factor=0.1,               # Reduce LR by 10x\n",
    "    patience=2,               # Wait for 3 epochs with no improvement\n",
    "    verbose=1,                # Print when LR is reduced\n",
    "    min_lr=1e-6               # Don't go below this LR\n",
    ")\n",
    "\n",
    "# Stop training early if no improvement\n",
    "early_stop = EarlyStopping(\n",
    "    monitor='val_loss',\n",
    "    patience=5,                 # stop if no improvement for 5 epochs\n",
    "    restore_best_weights=True,  # load back best weights automatically\n",
    "    verbose=1\n",
    ")"
   ]
  },
  {
   "cell_type": "code",
   "execution_count": 13,
   "id": "aaf064d6",
   "metadata": {},
   "outputs": [
    {
     "name": "stdout",
     "output_type": "stream",
     "text": [
      "Epoch 1/7\n",
      "\u001b[1m625/625\u001b[0m \u001b[32m━━━━━━━━━━━━━━━━━━━━\u001b[0m\u001b[37m\u001b[0m \u001b[1m0s\u001b[0m 5s/step - accuracy: 0.9688 - loss: 0.0844\n",
      "Epoch 1: saving model to SavedModels/CD_1P1_best_ft2_epoch001_val0.0562.keras\n",
      "\u001b[1m625/625\u001b[0m \u001b[32m━━━━━━━━━━━━━━━━━━━━\u001b[0m\u001b[37m\u001b[0m \u001b[1m3430s\u001b[0m 5s/step - accuracy: 0.9688 - loss: 0.0844 - val_accuracy: 0.9868 - val_loss: 0.0562\n",
      "Epoch 2/7\n",
      "\u001b[1m625/625\u001b[0m \u001b[32m━━━━━━━━━━━━━━━━━━━━\u001b[0m\u001b[37m\u001b[0m \u001b[1m0s\u001b[0m 4s/step - accuracy: 0.9768 - loss: 0.0659\n",
      "Epoch 2: saving model to SavedModels/CD_1P1_best_ft2_epoch002_val0.0598.keras\n",
      "\u001b[1m625/625\u001b[0m \u001b[32m━━━━━━━━━━━━━━━━━━━━\u001b[0m\u001b[37m\u001b[0m \u001b[1m3408s\u001b[0m 5s/step - accuracy: 0.9768 - loss: 0.0659 - val_accuracy: 0.9850 - val_loss: 0.0598\n",
      "Epoch 3/7\n",
      "\u001b[1m625/625\u001b[0m \u001b[32m━━━━━━━━━━━━━━━━━━━━\u001b[0m\u001b[37m\u001b[0m \u001b[1m0s\u001b[0m 5s/step - accuracy: 0.9784 - loss: 0.0581\n",
      "Epoch 3: saving model to SavedModels/CD_1P1_best_ft2_epoch003_val0.0648.keras\n",
      "\u001b[1m625/625\u001b[0m \u001b[32m━━━━━━━━━━━━━━━━━━━━\u001b[0m\u001b[37m\u001b[0m \u001b[1m3415s\u001b[0m 5s/step - accuracy: 0.9784 - loss: 0.0581 - val_accuracy: 0.9860 - val_loss: 0.0648\n",
      "Epoch 4/7\n",
      "\u001b[1m625/625\u001b[0m \u001b[32m━━━━━━━━━━━━━━━━━━━━\u001b[0m\u001b[37m\u001b[0m \u001b[1m0s\u001b[0m 4s/step - accuracy: 0.9799 - loss: 0.0538\n",
      "Epoch 4: saving model to SavedModels/CD_1P1_best_ft2_epoch004_val0.0588.keras\n",
      "\u001b[1m625/625\u001b[0m \u001b[32m━━━━━━━━━━━━━━━━━━━━\u001b[0m\u001b[37m\u001b[0m \u001b[1m3384s\u001b[0m 5s/step - accuracy: 0.9799 - loss: 0.0537 - val_accuracy: 0.9868 - val_loss: 0.0588\n",
      "Epoch 5/7\n",
      "\u001b[1m625/625\u001b[0m \u001b[32m━━━━━━━━━━━━━━━━━━━━\u001b[0m\u001b[37m\u001b[0m \u001b[1m0s\u001b[0m 4s/step - accuracy: 0.9828 - loss: 0.0517\n",
      "Epoch 5: saving model to SavedModels/CD_1P1_best_ft2_epoch005_val0.0557.keras\n",
      "\u001b[1m625/625\u001b[0m \u001b[32m━━━━━━━━━━━━━━━━━━━━\u001b[0m\u001b[37m\u001b[0m \u001b[1m3381s\u001b[0m 5s/step - accuracy: 0.9828 - loss: 0.0518 - val_accuracy: 0.9860 - val_loss: 0.0557\n",
      "Epoch 6/7\n",
      "\u001b[1m625/625\u001b[0m \u001b[32m━━━━━━━━━━━━━━━━━━━━\u001b[0m\u001b[37m\u001b[0m \u001b[1m0s\u001b[0m 4s/step - accuracy: 0.9814 - loss: 0.0498\n",
      "Epoch 6: saving model to SavedModels/CD_1P1_best_ft2_epoch006_val0.0578.keras\n",
      "\u001b[1m625/625\u001b[0m \u001b[32m━━━━━━━━━━━━━━━━━━━━\u001b[0m\u001b[37m\u001b[0m \u001b[1m3376s\u001b[0m 5s/step - accuracy: 0.9814 - loss: 0.0498 - val_accuracy: 0.9872 - val_loss: 0.0578\n",
      "Epoch 7/7\n",
      "\u001b[1m625/625\u001b[0m \u001b[32m━━━━━━━━━━━━━━━━━━━━\u001b[0m\u001b[37m\u001b[0m \u001b[1m0s\u001b[0m 4s/step - accuracy: 0.9829 - loss: 0.0448\n",
      "Epoch 7: saving model to SavedModels/CD_1P1_best_ft2_epoch007_val0.0577.keras\n",
      "\u001b[1m625/625\u001b[0m \u001b[32m━━━━━━━━━━━━━━━━━━━━\u001b[0m\u001b[37m\u001b[0m \u001b[1m3377s\u001b[0m 5s/step - accuracy: 0.9829 - loss: 0.0448 - val_accuracy: 0.9874 - val_loss: 0.0577\n"
     ]
    }
   ],
   "source": [
    "history = model.fit(\n",
    "    train_dataset,\n",
    "    epochs=7,\n",
    "    validation_data=val_dataset,\n",
    "    callbacks=[checkpoint_callback]\n",
    ")"
   ]
  },
  {
   "cell_type": "code",
   "execution_count": null,
   "id": "4c51e1fa",
   "metadata": {},
   "outputs": [],
   "source": [
    "import json\n",
    "\n",
    "model_name = 'CD1_P1_FT2'\n",
    "path = 'C:\\\\Programming_Files\\\\JupyterVSCode\\\\Binary_Classification_Transfer_Learning\\\\CatsDogs\\\\Docs_Reports\\\\RawTrainingData'\n",
    "filepath = f\"{path}\\\\{model_name}.json\"\n",
    "with open(filepath, 'w') as f:\n",
    "    json.dump(history.history, f)"
   ]
  },
  {
   "cell_type": "markdown",
   "id": "92d6b3d0",
   "metadata": {},
   "source": [
    "### Load Last Model"
   ]
  },
  {
   "cell_type": "code",
   "execution_count": null,
   "id": "85d61b1b",
   "metadata": {},
   "outputs": [],
   "source": [
    "filepath = 'C:\\\\Programming_Files\\\\JupyterVSCode\\\\Binary_Classification_Transfer_Learning\\\\CatsDogs\\\\SavedModels\\\\CD1\\\\CD1_P1_FT2_007_val0.0577.keras'\n",
    "model = tf.keras.models.load_model(filepath)"
   ]
  },
  {
   "cell_type": "markdown",
   "id": "cf74b761",
   "metadata": {},
   "source": [
    "### Compile Again with lower learning rate"
   ]
  },
  {
   "cell_type": "code",
   "execution_count": null,
   "id": "d1126b6d",
   "metadata": {},
   "outputs": [],
   "source": [
    "# Define the checkpoint path\n",
    "model_name = 'CD1 P1_FT2_continue'\n",
    "path = 'C:\\\\Programming_Files\\\\JupyterVSCode\\\\Binary_Classification_Transfer_Learning\\\\CatsDogs\\\\SavedModels\\\\CD1'\n",
    "checkpoint_path = f\"{path}/{model_name}_{{epoch:03d}}_val{{val_loss:.4f}}.keras\"\n",
    "\n",
    "from tensorflow.keras.callbacks import ModelCheckpoint, ReduceLROnPlateau, EarlyStopping\n",
    "\n",
    "# Create the ModelCheckpoint callback\n",
    "checkpoint_callback = ModelCheckpoint(\n",
    "    filepath=checkpoint_path,\n",
    "    save_freq='epoch',              # Save every epoch\n",
    "    save_weights_only=False,\n",
    "    save_best_only=False,           # Save every time, not just best\n",
    "    monitor='val_loss',\n",
    "    verbose=1,\n",
    ")"
   ]
  },
  {
   "cell_type": "code",
   "execution_count": 15,
   "id": "9dc219c2",
   "metadata": {},
   "outputs": [],
   "source": [
    "from tensorflow.keras.optimizers import SGD\n",
    "optimizer = SGD(\n",
    "    learning_rate=1e-6,  # 🔥 Very low LR for polish phase (safe & smooth)\n",
    "    momentum=0.9,        # ✅ Momentum helps smooth updates (standard is 0.9)\n",
    "    nesterov=True        # 🔥 Nesterov often gives slightly better convergence\n",
    ")\n",
    "model.compile(optimizer=optimizer, loss='binary_crossentropy', metrics=['accuracy'])"
   ]
  },
  {
   "cell_type": "code",
   "execution_count": null,
   "id": "a3762669",
   "metadata": {},
   "outputs": [
    {
     "name": "stdout",
     "output_type": "stream",
     "text": [
      "Epoch 1/3\n",
      "\u001b[1m625/625\u001b[0m \u001b[32m━━━━━━━━━━━━━━━━━━━━\u001b[0m\u001b[37m\u001b[0m \u001b[1m0s\u001b[0m 5s/step - accuracy: 0.9856 - loss: 0.0371\n",
      "Epoch 1: saving model to SavedModels/CD_1P1_best_ft2_epoch001_val0.0589.keras\n",
      "\u001b[1m625/625\u001b[0m \u001b[32m━━━━━━━━━━━━━━━━━━━━\u001b[0m\u001b[37m\u001b[0m \u001b[1m3954s\u001b[0m 6s/step - accuracy: 0.9856 - loss: 0.0371 - val_accuracy: 0.9876 - val_loss: 0.0589\n",
      "Epoch 2/3\n",
      "\u001b[1m625/625\u001b[0m \u001b[32m━━━━━━━━━━━━━━━━━━━━\u001b[0m\u001b[37m\u001b[0m \u001b[1m0s\u001b[0m 6s/step - accuracy: 0.9845 - loss: 0.0428\n",
      "Epoch 2: saving model to SavedModels/CD_1P1_best_ft2_epoch002_val0.0588.keras\n",
      "\u001b[1m625/625\u001b[0m \u001b[32m━━━━━━━━━━━━━━━━━━━━\u001b[0m\u001b[37m\u001b[0m \u001b[1m4162s\u001b[0m 7s/step - accuracy: 0.9845 - loss: 0.0428 - val_accuracy: 0.9876 - val_loss: 0.0588\n",
      "Epoch 3/3\n",
      "\u001b[1m625/625\u001b[0m \u001b[32m━━━━━━━━━━━━━━━━━━━━\u001b[0m\u001b[37m\u001b[0m \u001b[1m0s\u001b[0m 5s/step - accuracy: 0.9857 - loss: 0.0388\n",
      "Epoch 3: saving model to SavedModels/CD_1P1_best_ft2_epoch003_val0.0598.keras\n",
      "\u001b[1m625/625\u001b[0m \u001b[32m━━━━━━━━━━━━━━━━━━━━\u001b[0m\u001b[37m\u001b[0m \u001b[1m3508s\u001b[0m 6s/step - accuracy: 0.9857 - loss: 0.0388 - val_accuracy: 0.9878 - val_loss: 0.0598\n"
     ]
    }
   ],
   "source": [
    "history2 = model.fit(\n",
    "    train_dataset,\n",
    "    epochs=4,\n",
    "    validation_data=val_dataset,\n",
    "    callbacks=[checkpoint_callback]\n",
    ")"
   ]
  },
  {
   "cell_type": "code",
   "execution_count": null,
   "id": "5dd676b1",
   "metadata": {},
   "outputs": [],
   "source": [
    "import json\n",
    "\n",
    "model_name = 'CD1 P1_FT2_continue'\n",
    "path = 'C:\\\\Programming_Files\\\\JupyterVSCode\\\\Binary_Classification_Transfer_Learning\\\\CatsDogs\\\\Docs_Reports\\\\RawTrainingData'\n",
    "filepath = f\"SavedModels\\\\{model_name}.json\"\n",
    "with open(filepath, 'w') as f:\n",
    "    json.dump(history.history, f)"
   ]
  }
 ],
 "metadata": {
  "kernelspec": {
   "display_name": "EnvPy3_12",
   "language": "python",
   "name": "python3"
  },
  "language_info": {
   "codemirror_mode": {
    "name": "ipython",
    "version": 3
   },
   "file_extension": ".py",
   "mimetype": "text/x-python",
   "name": "python",
   "nbconvert_exporter": "python",
   "pygments_lexer": "ipython3",
   "version": "3.12.9"
  }
 },
 "nbformat": 4,
 "nbformat_minor": 5
}
