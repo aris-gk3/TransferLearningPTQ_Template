{
 "cells": [
  {
   "cell_type": "markdown",
   "id": "959bca07",
   "metadata": {},
   "source": [
    "# CD1 P1 FT"
   ]
  },
  {
   "cell_type": "markdown",
   "id": "33ed956b",
   "metadata": {},
   "source": [
    "### Import Packages"
   ]
  },
  {
   "cell_type": "code",
   "execution_count": 1,
   "id": "51fb8127",
   "metadata": {},
   "outputs": [],
   "source": [
    "import tensorflow as tf\n",
    "from tensorflow.keras import layers, models\n",
    "from tensorflow.keras.applications import VGG16"
   ]
  },
  {
   "cell_type": "markdown",
   "id": "1afad2ee",
   "metadata": {},
   "source": [
    "### Load Dataset"
   ]
  },
  {
   "cell_type": "code",
   "execution_count": 2,
   "id": "f40603cf",
   "metadata": {},
   "outputs": [],
   "source": [
    "from tensorflow.keras.utils import image_dataset_from_directory"
   ]
  },
  {
   "cell_type": "code",
   "execution_count": 3,
   "id": "d8fbbdae",
   "metadata": {},
   "outputs": [
    {
     "name": "stdout",
     "output_type": "stream",
     "text": [
      "Found 24997 files belonging to 2 classes.\n",
      "Using 19998 files for training.\n",
      "Found 24997 files belonging to 2 classes.\n",
      "Using 4999 files for validation.\n"
     ]
    }
   ],
   "source": [
    "# Define paths to training and validation datasets\n",
    "data_dir = 'C:\\\\Programming_Files\\\\JupyterVSCode\\\\Binary_Classification_Transfer_Learning\\\\CatsDogs\\\\DatasetConv'\n",
    "\n",
    "# Load Datasets\n",
    "train_dataset = image_dataset_from_directory(\n",
    "    data_dir,\n",
    "    image_size=(224, 224),\n",
    "    batch_size=32,\n",
    "    label_mode='binary',\n",
    "    validation_split=0.2,  # 20% for validation\n",
    "    subset='training',     # Use the 'training' subset\n",
    "    seed=123\n",
    ")\n",
    "\n",
    "val_dataset = image_dataset_from_directory(\n",
    "    data_dir,\n",
    "    image_size=(224, 224),\n",
    "    batch_size=32,\n",
    "    label_mode='binary',\n",
    "    validation_split=0.2,  # 20% for validation\n",
    "    subset='validation',   # Use the 'validation' subset\n",
    "    seed=123\n",
    ")"
   ]
  },
  {
   "cell_type": "markdown",
   "id": "50f32190",
   "metadata": {},
   "source": [
    "### Preprocessing & Augmentation"
   ]
  },
  {
   "cell_type": "code",
   "execution_count": 4,
   "id": "a2614a9e",
   "metadata": {},
   "outputs": [],
   "source": [
    "from tensorflow.keras.applications.vgg16 import preprocess_input"
   ]
  },
  {
   "cell_type": "code",
   "execution_count": 5,
   "id": "56997251",
   "metadata": {},
   "outputs": [],
   "source": [
    "# Augmentation layer\n",
    "data_augmentation = tf.keras.Sequential([\n",
    "    layers.RandomFlip('horizontal'),\n",
    "    layers.RandomRotation(0.1),  # 10% random rotation\n",
    "    layers.RandomZoom(0.1),      # 10% zoom\n",
    "    layers.RandomTranslation(0.1, 0.1),  # Random height and width shift\n",
    "    layers.RandomBrightness(0.2)\n",
    "])\n",
    "\n",
    "# Augment the training data\n",
    "def augment_img(image, label):\n",
    "    image = data_augmentation(image)  # Apply augmentations\n",
    "    return image, label\n",
    "\n",
    "train_dataset = train_dataset.map(augment_img)"
   ]
  },
  {
   "cell_type": "code",
   "execution_count": 6,
   "id": "ca4c19c4",
   "metadata": {},
   "outputs": [],
   "source": [
    "# Apply VGG-16 preprocessing\n",
    "def preprocess_img(image, label):\n",
    "    image = preprocess_input(image)  # Apply VGG16-specific preprocessing\n",
    "    return image, label\n",
    "\n",
    "train_dataset = train_dataset.map(preprocess_img)\n",
    "val_dataset = val_dataset.map(preprocess_img)"
   ]
  },
  {
   "cell_type": "markdown",
   "id": "34013cd9",
   "metadata": {},
   "source": [
    "### Load Model with Trained Head"
   ]
  },
  {
   "cell_type": "code",
   "execution_count": null,
   "id": "7e20218b",
   "metadata": {},
   "outputs": [
    {
     "name": "stderr",
     "output_type": "stream",
     "text": [
      "<>:1: SyntaxWarning: invalid escape sequence '\\P'\n",
      "<>:1: SyntaxWarning: invalid escape sequence '\\P'\n",
      "C:\\Users\\Aris_Work\\AppData\\Local\\Temp\\ipykernel_17880\\1346541303.py:1: SyntaxWarning: invalid escape sequence '\\P'\n",
      "  filepath = 'C:\\Programming_Files\\JupyterVSCode\\Binary_Classification_Transfer_Learning\\CatsDogs\\StarredModels\\CD_1P1_2epochs_head_epoch002_val0.0556.keras'\n"
     ]
    }
   ],
   "source": [
    "filepath = 'C:\\\\Programming_Files\\\\JupyterVSCode\\\\Binary_Classification_Transfer_Learning\\\\CatsDogs\\\\StarredModels\\\\CD_1P1_2epochs_head_epoch002_val0.0556.keras'\n",
    "model = tf.keras.models.load_model(filepath)"
   ]
  },
  {
   "cell_type": "markdown",
   "id": "d2f47fb2",
   "metadata": {},
   "source": [
    "### Unfreeze Last VGG Block & Verify"
   ]
  },
  {
   "cell_type": "code",
   "execution_count": 8,
   "id": "85cecba1",
   "metadata": {},
   "outputs": [
    {
     "name": "stdout",
     "output_type": "stream",
     "text": [
      "Layer 0: vgg16, Trainable: True\n",
      "Layer 1: flatten, Trainable: True\n",
      "Layer 2: dense, Trainable: True\n",
      "Layer 3: dropout, Trainable: True\n",
      "Layer 4: dense_1, Trainable: True\n"
     ]
    }
   ],
   "source": [
    "# Unfreeze the last few layers (e.g., last 4 layers)\n",
    "for layer in model.layers[-4:]:\n",
    "    layer.trainable = True\n",
    "\n",
    "# Optionally, print trainable status\n",
    "for i, layer in enumerate(model.layers):\n",
    "    print(f\"Layer {i}: {layer.name}, Trainable: {layer.trainable}\")"
   ]
  },
  {
   "cell_type": "code",
   "execution_count": 9,
   "id": "cce43901",
   "metadata": {},
   "outputs": [],
   "source": [
    "for layer in model.layers[0].layers:\n",
    "    if layer.name in ['block5_conv1', 'block5_conv2', 'block5_conv3']:\n",
    "        layer.trainable = True\n",
    "    else:\n",
    "        layer.trainable = False"
   ]
  },
  {
   "cell_type": "code",
   "execution_count": 10,
   "id": "6c748024",
   "metadata": {},
   "outputs": [
    {
     "name": "stdout",
     "output_type": "stream",
     "text": [
      "- vgg16 (Functional), Trainable: True\n",
      "  - input_layer_1 (InputLayer), Trainable: False\n",
      "  - block1_conv1 (Conv2D), Trainable: False\n",
      "  - block1_conv2 (Conv2D), Trainable: False\n",
      "  - block1_pool (MaxPooling2D), Trainable: False\n",
      "  - block2_conv1 (Conv2D), Trainable: False\n",
      "  - block2_conv2 (Conv2D), Trainable: False\n",
      "  - block2_pool (MaxPooling2D), Trainable: False\n",
      "  - block3_conv1 (Conv2D), Trainable: False\n",
      "  - block3_conv2 (Conv2D), Trainable: False\n",
      "  - block3_conv3 (Conv2D), Trainable: False\n",
      "  - block3_pool (MaxPooling2D), Trainable: False\n",
      "  - block4_conv1 (Conv2D), Trainable: False\n",
      "  - block4_conv2 (Conv2D), Trainable: False\n",
      "  - block4_conv3 (Conv2D), Trainable: False\n",
      "  - block4_pool (MaxPooling2D), Trainable: False\n",
      "  - block5_conv1 (Conv2D), Trainable: True\n",
      "  - block5_conv2 (Conv2D), Trainable: True\n",
      "  - block5_conv3 (Conv2D), Trainable: True\n",
      "  - block5_pool (MaxPooling2D), Trainable: False\n",
      "- flatten (Flatten), Trainable: True\n",
      "- dense (Dense), Trainable: True\n",
      "- dropout (Dropout), Trainable: True\n",
      "- dense_1 (Dense), Trainable: True\n",
      "{'name': 'adam', 'learning_rate': 0.0010000000474974513, 'weight_decay': None, 'clipnorm': None, 'global_clipnorm': None, 'clipvalue': None, 'use_ema': False, 'ema_momentum': 0.99, 'ema_overwrite_frequency': None, 'loss_scale_factor': None, 'gradient_accumulation_steps': None, 'beta_1': 0.9, 'beta_2': 0.999, 'epsilon': 1e-07, 'amsgrad': False}\n"
     ]
    }
   ],
   "source": [
    "def print_model_layers(model, indent=0):\n",
    "    for layer in model.layers:\n",
    "        print(\" \" * indent + f\"- {layer.name} ({layer.__class__.__name__}), Trainable: {layer.trainable}\")\n",
    "        # If this layer has sublayers (like Functional or Sequential models)\n",
    "        if hasattr(layer, 'layers'):\n",
    "            print_model_layers(layer, indent + 2)\n",
    "\n",
    "print_model_layers(model)\n",
    "\n",
    "print(model.optimizer.get_config())"
   ]
  },
  {
   "cell_type": "markdown",
   "id": "ee1f01e8",
   "metadata": {},
   "source": [
    "### Compile"
   ]
  },
  {
   "cell_type": "code",
   "execution_count": null,
   "id": "55c58eb2",
   "metadata": {},
   "outputs": [],
   "source": [
    "from tensorflow.keras.optimizers import Adam\n",
    "optimizer = Adam(learning_rate=1e-5)\n",
    "\n",
    "model.compile(optimizer=optimizer, loss='binary_crossentropy', metrics=['accuracy'])"
   ]
  },
  {
   "cell_type": "markdown",
   "id": "3fdf0218",
   "metadata": {},
   "source": [
    "### Train & Save Results"
   ]
  },
  {
   "cell_type": "code",
   "execution_count": null,
   "id": "168448d6",
   "metadata": {},
   "outputs": [],
   "source": [
    "# Define the checkpoint path\n",
    "model_name = 'CD1_P1_FT'\n",
    "path = 'C:\\\\Programming_Files\\\\JupyterVSCode\\\\Binary_Classification_Transfer_Learning\\\\CatsDogs\\\\SavedModels\\\\CD1'\n",
    "checkpoint_path = f\"{path}\\\\{model_name}_{{epoch:03d}}_val{{val_loss:.4f}}.keras\"\n",
    "\n",
    "from tensorflow.keras.callbacks import ModelCheckpoint\n",
    "\n",
    "# Create the ModelCheckpoint callback\n",
    "checkpoint_callback = ModelCheckpoint(\n",
    "    filepath=checkpoint_path,\n",
    "    save_freq='epoch',              # Save every epoch\n",
    "    save_weights_only=False,\n",
    "    save_best_only=False,           # Save every time, not just best\n",
    "    monitor='val_loss',\n",
    "    verbose=1,\n",
    ")"
   ]
  },
  {
   "cell_type": "code",
   "execution_count": 13,
   "id": "aaf064d6",
   "metadata": {},
   "outputs": [
    {
     "name": "stdout",
     "output_type": "stream",
     "text": [
      "Epoch 1/4\n",
      "\u001b[1m625/625\u001b[0m \u001b[32m━━━━━━━━━━━━━━━━━━━━\u001b[0m\u001b[37m\u001b[0m \u001b[1m0s\u001b[0m 5s/step - accuracy: 0.9685 - loss: 0.0844\n",
      "Epoch 1: saving model to SavedModels/CD_1P1_best_ft_epoch001_val0.0643.keras\n",
      "\u001b[1m625/625\u001b[0m \u001b[32m━━━━━━━━━━━━━━━━━━━━\u001b[0m\u001b[37m\u001b[0m \u001b[1m3690s\u001b[0m 6s/step - accuracy: 0.9685 - loss: 0.0843 - val_accuracy: 0.9836 - val_loss: 0.0643\n",
      "Epoch 2/4\n",
      "\u001b[1m625/625\u001b[0m \u001b[32m━━━━━━━━━━━━━━━━━━━━\u001b[0m\u001b[37m\u001b[0m \u001b[1m0s\u001b[0m 4s/step - accuracy: 0.9770 - loss: 0.0630\n",
      "Epoch 2: saving model to SavedModels/CD_1P1_best_ft_epoch002_val0.0645.keras\n",
      "\u001b[1m625/625\u001b[0m \u001b[32m━━━━━━━━━━━━━━━━━━━━\u001b[0m\u001b[37m\u001b[0m \u001b[1m3388s\u001b[0m 5s/step - accuracy: 0.9770 - loss: 0.0630 - val_accuracy: 0.9868 - val_loss: 0.0645\n",
      "Epoch 3/4\n",
      "\u001b[1m625/625\u001b[0m \u001b[32m━━━━━━━━━━━━━━━━━━━━\u001b[0m\u001b[37m\u001b[0m \u001b[1m0s\u001b[0m 4s/step - accuracy: 0.9819 - loss: 0.0558\n",
      "Epoch 3: saving model to SavedModels/CD_1P1_best_ft_epoch003_val0.0581.keras\n",
      "\u001b[1m625/625\u001b[0m \u001b[32m━━━━━━━━━━━━━━━━━━━━\u001b[0m\u001b[37m\u001b[0m \u001b[1m3368s\u001b[0m 5s/step - accuracy: 0.9819 - loss: 0.0558 - val_accuracy: 0.9872 - val_loss: 0.0581\n",
      "Epoch 4/4\n",
      "\u001b[1m625/625\u001b[0m \u001b[32m━━━━━━━━━━━━━━━━━━━━\u001b[0m\u001b[37m\u001b[0m \u001b[1m0s\u001b[0m 4s/step - accuracy: 0.9841 - loss: 0.0461\n",
      "Epoch 4: saving model to SavedModels/CD_1P1_best_ft_epoch004_val0.0675.keras\n",
      "\u001b[1m625/625\u001b[0m \u001b[32m━━━━━━━━━━━━━━━━━━━━\u001b[0m\u001b[37m\u001b[0m \u001b[1m3375s\u001b[0m 5s/step - accuracy: 0.9841 - loss: 0.0461 - val_accuracy: 0.9870 - val_loss: 0.0675\n"
     ]
    }
   ],
   "source": [
    "history = model.fit(\n",
    "    train_dataset,\n",
    "    epochs=4,\n",
    "    validation_data=val_dataset,\n",
    "    callbacks=[checkpoint_callback]\n",
    ")"
   ]
  },
  {
   "cell_type": "code",
   "execution_count": null,
   "id": "4c51e1fa",
   "metadata": {},
   "outputs": [],
   "source": [
    "import json\n",
    "\n",
    "model_name = 'CD1_P1_FT'\n",
    "path = 'C:\\\\Programming_Files\\\\JupyterVSCode\\\\Binary_Classification_Transfer_Learning\\\\CatsDogs\\\\Docs_Reports\\\\RawTrainingData'\n",
    "filepath = f\"{path}\\\\{model_name}.json\"\n",
    "with open(filepath, 'w') as f:\n",
    "    json.dump(history.history, f)"
   ]
  },
  {
   "cell_type": "markdown",
   "id": "71551534",
   "metadata": {},
   "source": [
    "### Reload Last Model"
   ]
  },
  {
   "cell_type": "code",
   "execution_count": 7,
   "id": "6a88db22",
   "metadata": {},
   "outputs": [],
   "source": [
    "filepath = 'C:\\\\Programming_Files\\\\JupyterVSCode\\\\Binary_Classification_Transfer_Learning\\\\CatsDogs\\\\SavedModels\\\\CD1\\\\CD1_P1_FT_004_val0.0675.keras'\n",
    "model = tf.keras.models.load_model(filepath)"
   ]
  },
  {
   "cell_type": "markdown",
   "id": "8a120125",
   "metadata": {},
   "source": [
    "### Continue Training Lower LR"
   ]
  },
  {
   "cell_type": "code",
   "execution_count": 8,
   "id": "d4db7522",
   "metadata": {},
   "outputs": [],
   "source": [
    "from tensorflow.keras.optimizers import Adam\n",
    "optimizer = Adam(learning_rate=1e-6)\n",
    "\n",
    "model.compile(optimizer=optimizer, loss='binary_crossentropy', metrics=['accuracy'])"
   ]
  },
  {
   "cell_type": "code",
   "execution_count": 9,
   "id": "676b86f2",
   "metadata": {},
   "outputs": [],
   "source": [
    "# Define the checkpoint path\n",
    "model_name = 'CD1_P1_FT_continue'\n",
    "path = 'C:\\\\Programming_Files\\\\JupyterVSCode\\\\Binary_Classification_Transfer_Learning\\\\CatsDogs\\\\SavedModels\\\\CD1'\n",
    "checkpoint_path = f\"{path}\\\\{model_name}_{{epoch:03d}}_val{{val_loss:.4f}}.keras\"\n",
    "\n",
    "from tensorflow.keras.callbacks import ModelCheckpoint\n",
    "\n",
    "# Create the ModelCheckpoint callback\n",
    "checkpoint_callback = ModelCheckpoint(\n",
    "    filepath=checkpoint_path,\n",
    "    save_freq='epoch',              # Save every epoch\n",
    "    save_weights_only=False,\n",
    "    save_best_only=False,           # Save every time, not just best\n",
    "    monitor='val_loss',\n",
    "    verbose=1,\n",
    ")"
   ]
  },
  {
   "cell_type": "code",
   "execution_count": 10,
   "id": "5f35f9cd",
   "metadata": {},
   "outputs": [
    {
     "name": "stdout",
     "output_type": "stream",
     "text": [
      "Epoch 1/5\n",
      "\u001b[1m625/625\u001b[0m \u001b[32m━━━━━━━━━━━━━━━━━━━━\u001b[0m\u001b[37m\u001b[0m \u001b[1m0s\u001b[0m 4s/step - accuracy: 0.9875 - loss: 0.0351\n",
      "Epoch 1: saving model to C:\\Programming_Files\\JupyterVSCode\\Binary_Classification_Transfer_Learning\\CatsDogs\\SavedModels\\CD1\\CD1_P1_FT_continue_001_val0.0610.keras\n",
      "\u001b[1m625/625\u001b[0m \u001b[32m━━━━━━━━━━━━━━━━━━━━\u001b[0m\u001b[37m\u001b[0m \u001b[1m3317s\u001b[0m 5s/step - accuracy: 0.9875 - loss: 0.0351 - val_accuracy: 0.9880 - val_loss: 0.0610\n",
      "Epoch 2/5\n",
      "\u001b[1m625/625\u001b[0m \u001b[32m━━━━━━━━━━━━━━━━━━━━\u001b[0m\u001b[37m\u001b[0m \u001b[1m0s\u001b[0m 5s/step - accuracy: 0.9872 - loss: 0.0350\n",
      "Epoch 2: saving model to C:\\Programming_Files\\JupyterVSCode\\Binary_Classification_Transfer_Learning\\CatsDogs\\SavedModels\\CD1\\CD1_P1_FT_continue_002_val0.0614.keras\n",
      "\u001b[1m625/625\u001b[0m \u001b[32m━━━━━━━━━━━━━━━━━━━━\u001b[0m\u001b[37m\u001b[0m \u001b[1m3676s\u001b[0m 6s/step - accuracy: 0.9872 - loss: 0.0350 - val_accuracy: 0.9882 - val_loss: 0.0614\n",
      "Epoch 3/5\n",
      "\u001b[1m625/625\u001b[0m \u001b[32m━━━━━━━━━━━━━━━━━━━━\u001b[0m\u001b[37m\u001b[0m \u001b[1m0s\u001b[0m 4s/step - accuracy: 0.9868 - loss: 0.0347\n",
      "Epoch 3: saving model to C:\\Programming_Files\\JupyterVSCode\\Binary_Classification_Transfer_Learning\\CatsDogs\\SavedModels\\CD1\\CD1_P1_FT_continue_003_val0.0591.keras\n",
      "\u001b[1m625/625\u001b[0m \u001b[32m━━━━━━━━━━━━━━━━━━━━\u001b[0m\u001b[37m\u001b[0m \u001b[1m3366s\u001b[0m 5s/step - accuracy: 0.9868 - loss: 0.0347 - val_accuracy: 0.9880 - val_loss: 0.0591\n",
      "Epoch 4/5\n",
      "\u001b[1m625/625\u001b[0m \u001b[32m━━━━━━━━━━━━━━━━━━━━\u001b[0m\u001b[37m\u001b[0m \u001b[1m0s\u001b[0m 4s/step - accuracy: 0.9893 - loss: 0.0343\n",
      "Epoch 4: saving model to C:\\Programming_Files\\JupyterVSCode\\Binary_Classification_Transfer_Learning\\CatsDogs\\SavedModels\\CD1\\CD1_P1_FT_continue_004_val0.0550.keras\n",
      "\u001b[1m625/625\u001b[0m \u001b[32m━━━━━━━━━━━━━━━━━━━━\u001b[0m\u001b[37m\u001b[0m \u001b[1m3365s\u001b[0m 5s/step - accuracy: 0.9893 - loss: 0.0343 - val_accuracy: 0.9882 - val_loss: 0.0550\n",
      "Epoch 5/5\n",
      "\u001b[1m625/625\u001b[0m \u001b[32m━━━━━━━━━━━━━━━━━━━━\u001b[0m\u001b[37m\u001b[0m \u001b[1m0s\u001b[0m 4s/step - accuracy: 0.9873 - loss: 0.0334\n",
      "Epoch 5: saving model to C:\\Programming_Files\\JupyterVSCode\\Binary_Classification_Transfer_Learning\\CatsDogs\\SavedModels\\CD1\\CD1_P1_FT_continue_005_val0.0558.keras\n",
      "\u001b[1m625/625\u001b[0m \u001b[32m━━━━━━━━━━━━━━━━━━━━\u001b[0m\u001b[37m\u001b[0m \u001b[1m3362s\u001b[0m 5s/step - accuracy: 0.9873 - loss: 0.0334 - val_accuracy: 0.9882 - val_loss: 0.0558\n"
     ]
    }
   ],
   "source": [
    "history = model.fit(\n",
    "    train_dataset,\n",
    "    epochs=5,\n",
    "    validation_data=val_dataset,\n",
    "    callbacks=[checkpoint_callback]\n",
    ")"
   ]
  },
  {
   "cell_type": "code",
   "execution_count": 11,
   "id": "cff3eee8",
   "metadata": {},
   "outputs": [],
   "source": [
    "import json\n",
    "\n",
    "model_name = 'CD1_P1_FT_continue'\n",
    "path = 'C:\\\\Programming_Files\\\\JupyterVSCode\\\\Binary_Classification_Transfer_Learning\\\\CatsDogs\\\\Docs_Reports\\\\RawTrainingData'\n",
    "filepath = f\"{path}\\\\{model_name}.json\"\n",
    "with open(filepath, 'w') as f:\n",
    "    json.dump(history.history, f)"
   ]
  }
 ],
 "metadata": {
  "kernelspec": {
   "display_name": "EnvPy3_12",
   "language": "python",
   "name": "python3"
  },
  "language_info": {
   "codemirror_mode": {
    "name": "ipython",
    "version": 3
   },
   "file_extension": ".py",
   "mimetype": "text/x-python",
   "name": "python",
   "nbconvert_exporter": "python",
   "pygments_lexer": "ipython3",
   "version": "3.12.9"
  }
 },
 "nbformat": 4,
 "nbformat_minor": 5
}
