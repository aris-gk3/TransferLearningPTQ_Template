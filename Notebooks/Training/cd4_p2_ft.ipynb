{
 "cells": [
  {
   "cell_type": "markdown",
   "id": "bac0c89d",
   "metadata": {},
   "source": [
    "# CD4_P2_FT"
   ]
  },
  {
   "cell_type": "markdown",
   "id": "c4ae996f",
   "metadata": {},
   "source": [
    "### Import Packages"
   ]
  },
  {
   "cell_type": "code",
   "execution_count": 1,
   "id": "0ed83b5f",
   "metadata": {},
   "outputs": [],
   "source": [
    "import tensorflow as tf"
   ]
  },
  {
   "cell_type": "code",
   "execution_count": 2,
   "id": "d43c201a",
   "metadata": {},
   "outputs": [],
   "source": [
    "# Local Packages\n",
    "from utilpackage.path import path_definition\n",
    "from utilpackage.train import train, freeze_layers, unfreeze_head, unfreeze_block"
   ]
  },
  {
   "cell_type": "markdown",
   "id": "ecb11524",
   "metadata": {},
   "source": [
    "### Variable Paths, Execution Environments"
   ]
  },
  {
   "cell_type": "code",
   "execution_count": 3,
   "id": "a756063e",
   "metadata": {},
   "outputs": [],
   "source": [
    "model_name = 'CD4_P2_FT'"
   ]
  },
  {
   "cell_type": "code",
   "execution_count": 4,
   "id": "f6e95abf",
   "metadata": {},
   "outputs": [],
   "source": [
    "BASE_PATH, PATH_DATASET, PATH_RAWDATA, PATH_JOINEDDATA, PATH_SAVEDMODELS = path_definition()"
   ]
  },
  {
   "cell_type": "markdown",
   "id": "d36b3676",
   "metadata": {},
   "source": [
    "### Load Chosen Model"
   ]
  },
  {
   "cell_type": "code",
   "execution_count": 5,
   "id": "2c988f0e",
   "metadata": {},
   "outputs": [],
   "source": [
    "filepath = f'{PATH_SAVEDMODELS}/CD4/CD4_P2_continue_003_val0.0422.keras'\n",
    "model = tf.keras.models.load_model(filepath)"
   ]
  },
  {
   "cell_type": "markdown",
   "id": "834969d5",
   "metadata": {},
   "source": [
    "### Continue Training"
   ]
  },
  {
   "cell_type": "code",
   "execution_count": 6,
   "id": "424f3fa7",
   "metadata": {},
   "outputs": [],
   "source": [
    "model_name = 'CD4_P2_FT'\n",
    "parent_name = 'CD4_P2_continue_003_val0.0422'"
   ]
  },
  {
   "cell_type": "code",
   "execution_count": 7,
   "id": "315b93ac",
   "metadata": {},
   "outputs": [
    {
     "name": "stdout",
     "output_type": "stream",
     "text": [
      "- block1_conv1 (Conv2D), Trainable: False\n",
      "- block1_conv2 (Conv2D), Trainable: False\n",
      "- block1_pool (MaxPooling2D), Trainable: False\n",
      "- block2_conv1 (Conv2D), Trainable: False\n",
      "- block2_conv2 (Conv2D), Trainable: False\n",
      "- block2_pool (MaxPooling2D), Trainable: False\n",
      "- block3_conv1 (Conv2D), Trainable: False\n",
      "- block3_conv2 (Conv2D), Trainable: False\n",
      "- block3_conv3 (Conv2D), Trainable: False\n",
      "- block3_pool (MaxPooling2D), Trainable: False\n",
      "- block4_conv1 (Conv2D), Trainable: False\n",
      "- block4_conv2 (Conv2D), Trainable: False\n",
      "- block4_conv3 (Conv2D), Trainable: False\n",
      "- block4_pool (MaxPooling2D), Trainable: False\n",
      "- block5_conv1 (Conv2D), Trainable: False\n",
      "- block5_conv2 (Conv2D), Trainable: False\n",
      "- block5_conv3 (Conv2D), Trainable: False\n",
      "- block5_pool (MaxPooling2D), Trainable: False\n",
      "- global_average_pooling2d (GlobalAveragePooling2D), Trainable: False\n",
      "- dense (Dense), Trainable: False\n",
      "- dropout (Dropout), Trainable: False\n",
      "- dense_1 (Dense), Trainable: False\n",
      "- dropout_1 (Dropout), Trainable: False\n",
      "- dense_2 (Dense), Trainable: False\n",
      "\n",
      "\n",
      "- block1_conv1 (Conv2D), Trainable: False\n",
      "- block1_conv2 (Conv2D), Trainable: False\n",
      "- block1_pool (MaxPooling2D), Trainable: False\n",
      "- block2_conv1 (Conv2D), Trainable: False\n",
      "- block2_conv2 (Conv2D), Trainable: False\n",
      "- block2_pool (MaxPooling2D), Trainable: False\n",
      "- block3_conv1 (Conv2D), Trainable: False\n",
      "- block3_conv2 (Conv2D), Trainable: False\n",
      "- block3_conv3 (Conv2D), Trainable: False\n",
      "- block3_pool (MaxPooling2D), Trainable: False\n",
      "- block4_conv1 (Conv2D), Trainable: False\n",
      "- block4_conv2 (Conv2D), Trainable: False\n",
      "- block4_conv3 (Conv2D), Trainable: False\n",
      "- block4_pool (MaxPooling2D), Trainable: False\n",
      "- block5_conv1 (Conv2D), Trainable: False\n",
      "- block5_conv2 (Conv2D), Trainable: False\n",
      "- block5_conv3 (Conv2D), Trainable: False\n",
      "- block5_pool (MaxPooling2D), Trainable: False\n",
      "- global_average_pooling2d (GlobalAveragePooling2D), Trainable: True\n",
      "- dense (Dense), Trainable: True\n",
      "- dropout (Dropout), Trainable: True\n",
      "- dense_1 (Dense), Trainable: True\n",
      "- dropout_1 (Dropout), Trainable: True\n",
      "- dense_2 (Dense), Trainable: True\n",
      "\n",
      "\n",
      "- block1_conv1 (Conv2D), Trainable: False\n",
      "- block1_conv2 (Conv2D), Trainable: False\n",
      "- block1_pool (MaxPooling2D), Trainable: False\n",
      "- block2_conv1 (Conv2D), Trainable: False\n",
      "- block2_conv2 (Conv2D), Trainable: False\n",
      "- block2_pool (MaxPooling2D), Trainable: False\n",
      "- block3_conv1 (Conv2D), Trainable: False\n",
      "- block3_conv2 (Conv2D), Trainable: False\n",
      "- block3_conv3 (Conv2D), Trainable: False\n",
      "- block3_pool (MaxPooling2D), Trainable: False\n",
      "- block4_conv1 (Conv2D), Trainable: False\n",
      "- block4_conv2 (Conv2D), Trainable: False\n",
      "- block4_conv3 (Conv2D), Trainable: False\n",
      "- block4_pool (MaxPooling2D), Trainable: False\n",
      "- block5_conv1 (Conv2D), Trainable: True\n",
      "- block5_conv2 (Conv2D), Trainable: True\n",
      "- block5_conv3 (Conv2D), Trainable: True\n",
      "- block5_pool (MaxPooling2D), Trainable: False\n",
      "- global_average_pooling2d (GlobalAveragePooling2D), Trainable: True\n",
      "- dense (Dense), Trainable: True\n",
      "- dropout (Dropout), Trainable: True\n",
      "- dense_1 (Dense), Trainable: True\n",
      "- dropout_1 (Dropout), Trainable: True\n",
      "- dense_2 (Dense), Trainable: True\n",
      "\n",
      "\n",
      "Found 24997 files belonging to 2 classes.\n",
      "Using 19998 files for training.\n",
      "Found 24997 files belonging to 2 classes.\n",
      "Using 4999 files for validation.\n",
      "Epoch 1/7\n",
      "\u001b[1m625/625\u001b[0m \u001b[32m━━━━━━━━━━━━━━━━━━━━\u001b[0m\u001b[37m\u001b[0m \u001b[1m0s\u001b[0m 4s/step - accuracy: 0.9729 - loss: 0.0708\n",
      "Epoch 1: saving model to C:/Programming_Files/JupyterVSCode/Binary_Classification_Transfer_Learning/CatsDogs/SavedModels/CD4/CD4_P2_FT_001_val0.0426.keras\n",
      "\u001b[1m625/625\u001b[0m \u001b[32m━━━━━━━━━━━━━━━━━━━━\u001b[0m\u001b[37m\u001b[0m \u001b[1m3137s\u001b[0m 5s/step - accuracy: 0.9729 - loss: 0.0708 - val_accuracy: 0.9850 - val_loss: 0.0426\n",
      "Epoch 2/7\n",
      "\u001b[1m625/625\u001b[0m \u001b[32m━━━━━━━━━━━━━━━━━━━━\u001b[0m\u001b[37m\u001b[0m \u001b[1m0s\u001b[0m 4s/step - accuracy: 0.9796 - loss: 0.0548\n",
      "Epoch 2: saving model to C:/Programming_Files/JupyterVSCode/Binary_Classification_Transfer_Learning/CatsDogs/SavedModels/CD4/CD4_P2_FT_002_val0.0343.keras\n",
      "\u001b[1m625/625\u001b[0m \u001b[32m━━━━━━━━━━━━━━━━━━━━\u001b[0m\u001b[37m\u001b[0m \u001b[1m3107s\u001b[0m 5s/step - accuracy: 0.9796 - loss: 0.0548 - val_accuracy: 0.9888 - val_loss: 0.0343\n",
      "Epoch 3/7\n",
      "\u001b[1m625/625\u001b[0m \u001b[32m━━━━━━━━━━━━━━━━━━━━\u001b[0m\u001b[37m\u001b[0m \u001b[1m0s\u001b[0m 4s/step - accuracy: 0.9819 - loss: 0.0461\n",
      "Epoch 3: saving model to C:/Programming_Files/JupyterVSCode/Binary_Classification_Transfer_Learning/CatsDogs/SavedModels/CD4/CD4_P2_FT_003_val0.0336.keras\n",
      "\u001b[1m625/625\u001b[0m \u001b[32m━━━━━━━━━━━━━━━━━━━━\u001b[0m\u001b[37m\u001b[0m \u001b[1m3107s\u001b[0m 5s/step - accuracy: 0.9819 - loss: 0.0461 - val_accuracy: 0.9894 - val_loss: 0.0336\n",
      "Epoch 4/7\n",
      "\u001b[1m625/625\u001b[0m \u001b[32m━━━━━━━━━━━━━━━━━━━━\u001b[0m\u001b[37m\u001b[0m \u001b[1m0s\u001b[0m 4s/step - accuracy: 0.9849 - loss: 0.0402\n",
      "Epoch 4: saving model to C:/Programming_Files/JupyterVSCode/Binary_Classification_Transfer_Learning/CatsDogs/SavedModels/CD4/CD4_P2_FT_004_val0.0368.keras\n",
      "\u001b[1m625/625\u001b[0m \u001b[32m━━━━━━━━━━━━━━━━━━━━\u001b[0m\u001b[37m\u001b[0m \u001b[1m3124s\u001b[0m 5s/step - accuracy: 0.9849 - loss: 0.0402 - val_accuracy: 0.9890 - val_loss: 0.0368\n",
      "Epoch 5/7\n",
      "\u001b[1m625/625\u001b[0m \u001b[32m━━━━━━━━━━━━━━━━━━━━\u001b[0m\u001b[37m\u001b[0m \u001b[1m0s\u001b[0m 4s/step - accuracy: 0.9886 - loss: 0.0303\n",
      "Epoch 5: saving model to C:/Programming_Files/JupyterVSCode/Binary_Classification_Transfer_Learning/CatsDogs/SavedModels/CD4/CD4_P2_FT_005_val0.0364.keras\n",
      "\u001b[1m625/625\u001b[0m \u001b[32m━━━━━━━━━━━━━━━━━━━━\u001b[0m\u001b[37m\u001b[0m \u001b[1m3139s\u001b[0m 5s/step - accuracy: 0.9886 - loss: 0.0303 - val_accuracy: 0.9878 - val_loss: 0.0364\n",
      "Epoch 6/7\n",
      "\u001b[1m625/625\u001b[0m \u001b[32m━━━━━━━━━━━━━━━━━━━━\u001b[0m\u001b[37m\u001b[0m \u001b[1m0s\u001b[0m 4s/step - accuracy: 0.9887 - loss: 0.0330\n",
      "Epoch 6: saving model to C:/Programming_Files/JupyterVSCode/Binary_Classification_Transfer_Learning/CatsDogs/SavedModels/CD4/CD4_P2_FT_006_val0.0402.keras\n",
      "\u001b[1m625/625\u001b[0m \u001b[32m━━━━━━━━━━━━━━━━━━━━\u001b[0m\u001b[37m\u001b[0m \u001b[1m3136s\u001b[0m 5s/step - accuracy: 0.9887 - loss: 0.0330 - val_accuracy: 0.9894 - val_loss: 0.0402\n",
      "Epoch 7/7\n",
      "\u001b[1m625/625\u001b[0m \u001b[32m━━━━━━━━━━━━━━━━━━━━\u001b[0m\u001b[37m\u001b[0m \u001b[1m0s\u001b[0m 4s/step - accuracy: 0.9887 - loss: 0.0277\n",
      "Epoch 7: saving model to C:/Programming_Files/JupyterVSCode/Binary_Classification_Transfer_Learning/CatsDogs/SavedModels/CD4/CD4_P2_FT_007_val0.0394.keras\n",
      "\u001b[1m625/625\u001b[0m \u001b[32m━━━━━━━━━━━━━━━━━━━━\u001b[0m\u001b[37m\u001b[0m \u001b[1m3138s\u001b[0m 5s/step - accuracy: 0.9887 - loss: 0.0277 - val_accuracy: 0.9906 - val_loss: 0.0394\n"
     ]
    }
   ],
   "source": [
    "epochs = 7\n",
    "lr = 1e-5\n",
    "optimizer = 'Adam'\n",
    "\n",
    "freeze_layers(model, verbose=1)\n",
    "unfreeze_head(model, verbose=1)\n",
    "unfreeze_block(model, verbose=1)\n",
    "train(model, epochs, lr, optimizer, model_name, parent_name)"
   ]
  },
  {
   "cell_type": "markdown",
   "id": "c78a7f8c",
   "metadata": {},
   "source": [
    "### Continue Training"
   ]
  },
  {
   "cell_type": "code",
   "execution_count": 8,
   "id": "4410a76c",
   "metadata": {},
   "outputs": [],
   "source": [
    "model_name = 'CD4_P2_FT_continue'\n",
    "parent_name = 'CD4_P2_FT_007_val0.0394'"
   ]
  },
  {
   "cell_type": "code",
   "execution_count": 9,
   "id": "4ddde375",
   "metadata": {},
   "outputs": [
    {
     "name": "stdout",
     "output_type": "stream",
     "text": [
      "Found 24997 files belonging to 2 classes.\n",
      "Using 19998 files for training.\n",
      "Found 24997 files belonging to 2 classes.\n",
      "Using 4999 files for validation.\n",
      "Epoch 1/3\n",
      "\u001b[1m625/625\u001b[0m \u001b[32m━━━━━━━━━━━━━━━━━━━━\u001b[0m\u001b[37m\u001b[0m \u001b[1m0s\u001b[0m 4s/step - accuracy: 0.9911 - loss: 0.0259\n",
      "Epoch 1: saving model to C:/Programming_Files/JupyterVSCode/Binary_Classification_Transfer_Learning/CatsDogs/SavedModels/CD4/CD4_P2_FT_continue_001_val0.0394.keras\n",
      "\u001b[1m625/625\u001b[0m \u001b[32m━━━━━━━━━━━━━━━━━━━━\u001b[0m\u001b[37m\u001b[0m \u001b[1m3118s\u001b[0m 5s/step - accuracy: 0.9911 - loss: 0.0259 - val_accuracy: 0.9884 - val_loss: 0.0394\n",
      "Epoch 2/3\n",
      "\u001b[1m625/625\u001b[0m \u001b[32m━━━━━━━━━━━━━━━━━━━━\u001b[0m\u001b[37m\u001b[0m \u001b[1m0s\u001b[0m 4s/step - accuracy: 0.9920 - loss: 0.0219\n",
      "Epoch 2: saving model to C:/Programming_Files/JupyterVSCode/Binary_Classification_Transfer_Learning/CatsDogs/SavedModels/CD4/CD4_P2_FT_continue_002_val0.0368.keras\n",
      "\u001b[1m625/625\u001b[0m \u001b[32m━━━━━━━━━━━━━━━━━━━━\u001b[0m\u001b[37m\u001b[0m \u001b[1m3318s\u001b[0m 5s/step - accuracy: 0.9920 - loss: 0.0219 - val_accuracy: 0.9904 - val_loss: 0.0368\n",
      "Epoch 3/3\n",
      "\u001b[1m625/625\u001b[0m \u001b[32m━━━━━━━━━━━━━━━━━━━━\u001b[0m\u001b[37m\u001b[0m \u001b[1m0s\u001b[0m 5s/step - accuracy: 0.9926 - loss: 0.0199\n",
      "Epoch 3: saving model to C:/Programming_Files/JupyterVSCode/Binary_Classification_Transfer_Learning/CatsDogs/SavedModels/CD4/CD4_P2_FT_continue_003_val0.0380.keras\n",
      "\u001b[1m625/625\u001b[0m \u001b[32m━━━━━━━━━━━━━━━━━━━━\u001b[0m\u001b[37m\u001b[0m \u001b[1m3522s\u001b[0m 6s/step - accuracy: 0.9926 - loss: 0.0199 - val_accuracy: 0.9890 - val_loss: 0.0380\n"
     ]
    }
   ],
   "source": [
    "epochs = 3\n",
    "lr = 1e-5\n",
    "optimizer = 'Adam'\n",
    "\n",
    "train(model, epochs, lr, optimizer, model_name, parent_name)"
   ]
  },
  {
   "cell_type": "markdown",
   "id": "62c49912",
   "metadata": {},
   "source": [
    "### Continue Training (2)"
   ]
  },
  {
   "cell_type": "code",
   "execution_count": 10,
   "id": "3b32dd00",
   "metadata": {},
   "outputs": [],
   "source": [
    "model_name = 'CD4_P2_FT_continue2'\n",
    "parent_name = 'CD4_P2_FT_continue_002_val0.0368'"
   ]
  },
  {
   "cell_type": "code",
   "execution_count": null,
   "id": "8de1881c",
   "metadata": {},
   "outputs": [],
   "source": [
    "filepath = f'{PATH_SAVEDMODELS}/CD4/CD4_P2_FT_continue_002_val0.0368.keras'\n",
    "model = tf.keras.models.load_model(filepath)"
   ]
  },
  {
   "cell_type": "code",
   "execution_count": 11,
   "id": "1de22fff",
   "metadata": {},
   "outputs": [
    {
     "name": "stdout",
     "output_type": "stream",
     "text": [
      "Found 24997 files belonging to 2 classes.\n",
      "Using 19998 files for training.\n",
      "Found 24997 files belonging to 2 classes.\n",
      "Using 4999 files for validation.\n",
      "Epoch 1/5\n",
      "\u001b[1m625/625\u001b[0m \u001b[32m━━━━━━━━━━━━━━━━━━━━\u001b[0m\u001b[37m\u001b[0m \u001b[1m0s\u001b[0m 5s/step - accuracy: 0.9944 - loss: 0.0160\n",
      "Epoch 1: saving model to C:/Programming_Files/JupyterVSCode/Binary_Classification_Transfer_Learning/CatsDogs/SavedModels/CD4/CD4_P2_FT_continue2_001_val0.0410.keras\n",
      "\u001b[1m625/625\u001b[0m \u001b[32m━━━━━━━━━━━━━━━━━━━━\u001b[0m\u001b[37m\u001b[0m \u001b[1m4014s\u001b[0m 6s/step - accuracy: 0.9944 - loss: 0.0160 - val_accuracy: 0.9908 - val_loss: 0.0410\n",
      "Epoch 2/5\n",
      "\u001b[1m625/625\u001b[0m \u001b[32m━━━━━━━━━━━━━━━━━━━━\u001b[0m\u001b[37m\u001b[0m \u001b[1m0s\u001b[0m 5s/step - accuracy: 0.9949 - loss: 0.0141\n",
      "Epoch 2: saving model to C:/Programming_Files/JupyterVSCode/Binary_Classification_Transfer_Learning/CatsDogs/SavedModels/CD4/CD4_P2_FT_continue2_002_val0.0405.keras\n",
      "\u001b[1m625/625\u001b[0m \u001b[32m━━━━━━━━━━━━━━━━━━━━\u001b[0m\u001b[37m\u001b[0m \u001b[1m4033s\u001b[0m 6s/step - accuracy: 0.9949 - loss: 0.0141 - val_accuracy: 0.9904 - val_loss: 0.0405\n",
      "Epoch 3/5\n",
      "\u001b[1m625/625\u001b[0m \u001b[32m━━━━━━━━━━━━━━━━━━━━\u001b[0m\u001b[37m\u001b[0m \u001b[1m0s\u001b[0m 5s/step - accuracy: 0.9966 - loss: 0.0104\n",
      "Epoch 3: saving model to C:/Programming_Files/JupyterVSCode/Binary_Classification_Transfer_Learning/CatsDogs/SavedModels/CD4/CD4_P2_FT_continue2_003_val0.0405.keras\n",
      "\u001b[1m625/625\u001b[0m \u001b[32m━━━━━━━━━━━━━━━━━━━━\u001b[0m\u001b[37m\u001b[0m \u001b[1m4031s\u001b[0m 6s/step - accuracy: 0.9966 - loss: 0.0104 - val_accuracy: 0.9904 - val_loss: 0.0405\n",
      "Epoch 4/5\n",
      "\u001b[1m625/625\u001b[0m \u001b[32m━━━━━━━━━━━━━━━━━━━━\u001b[0m\u001b[37m\u001b[0m \u001b[1m0s\u001b[0m 5s/step - accuracy: 0.9957 - loss: 0.0139\n",
      "Epoch 4: saving model to C:/Programming_Files/JupyterVSCode/Binary_Classification_Transfer_Learning/CatsDogs/SavedModels/CD4/CD4_P2_FT_continue2_004_val0.0400.keras\n",
      "\u001b[1m625/625\u001b[0m \u001b[32m━━━━━━━━━━━━━━━━━━━━\u001b[0m\u001b[37m\u001b[0m \u001b[1m4027s\u001b[0m 6s/step - accuracy: 0.9957 - loss: 0.0139 - val_accuracy: 0.9900 - val_loss: 0.0400\n",
      "Epoch 5/5\n",
      "\u001b[1m625/625\u001b[0m \u001b[32m━━━━━━━━━━━━━━━━━━━━\u001b[0m\u001b[37m\u001b[0m \u001b[1m0s\u001b[0m 5s/step - accuracy: 0.9952 - loss: 0.0123\n",
      "Epoch 5: saving model to C:/Programming_Files/JupyterVSCode/Binary_Classification_Transfer_Learning/CatsDogs/SavedModels/CD4/CD4_P2_FT_continue2_005_val0.0409.keras\n",
      "\u001b[1m625/625\u001b[0m \u001b[32m━━━━━━━━━━━━━━━━━━━━\u001b[0m\u001b[37m\u001b[0m \u001b[1m4023s\u001b[0m 6s/step - accuracy: 0.9952 - loss: 0.0123 - val_accuracy: 0.9910 - val_loss: 0.0409\n"
     ]
    }
   ],
   "source": [
    "epochs = 5\n",
    "lr = 1e-6\n",
    "optimizer = 'Adam'\n",
    "\n",
    "train(model, epochs, lr, optimizer, model_name, parent_name)"
   ]
  },
  {
   "cell_type": "markdown",
   "id": "61d6005b",
   "metadata": {},
   "source": [
    "### Continue Training (3)"
   ]
  },
  {
   "cell_type": "code",
   "execution_count": 5,
   "id": "6ede992c",
   "metadata": {},
   "outputs": [],
   "source": [
    "model_name = 'CD4_P2_FT_continue3'\n",
    "parent_name = 'CD4_P2_FT_continue2_005_val0.0409'"
   ]
  },
  {
   "cell_type": "code",
   "execution_count": 6,
   "id": "0a85f844",
   "metadata": {},
   "outputs": [],
   "source": [
    "filepath = f'{PATH_SAVEDMODELS}/CD4/CD4_P2_FT_continue_002_val0.0368.keras'\n",
    "model = tf.keras.models.load_model(filepath)"
   ]
  },
  {
   "cell_type": "code",
   "execution_count": 7,
   "id": "0c119ac7",
   "metadata": {},
   "outputs": [
    {
     "name": "stdout",
     "output_type": "stream",
     "text": [
      "Found 24997 files belonging to 2 classes.\n",
      "Using 19998 files for training.\n",
      "Found 24997 files belonging to 2 classes.\n",
      "Using 4999 files for validation.\n",
      "Epoch 1/7\n",
      "\u001b[1m625/625\u001b[0m \u001b[32m━━━━━━━━━━━━━━━━━━━━\u001b[0m\u001b[37m\u001b[0m \u001b[1m0s\u001b[0m 5s/step - accuracy: 0.9945 - loss: 0.0158\n",
      "Epoch 1: saving model to C:/Programming_Files/JupyterVSCode/Binary_Classification_Transfer_Learning/CatsDogs/SavedModels/CD4/CD4_P2_FT_continue3_001_val0.0381.keras\n",
      "\u001b[1m625/625\u001b[0m \u001b[32m━━━━━━━━━━━━━━━━━━━━\u001b[0m\u001b[37m\u001b[0m \u001b[1m4000s\u001b[0m 6s/step - accuracy: 0.9945 - loss: 0.0158 - val_accuracy: 0.9906 - val_loss: 0.0381\n",
      "Epoch 2/7\n",
      "\u001b[1m625/625\u001b[0m \u001b[32m━━━━━━━━━━━━━━━━━━━━\u001b[0m\u001b[37m\u001b[0m \u001b[1m0s\u001b[0m 5s/step - accuracy: 0.9938 - loss: 0.0172\n",
      "Epoch 2: saving model to C:/Programming_Files/JupyterVSCode/Binary_Classification_Transfer_Learning/CatsDogs/SavedModels/CD4/CD4_P2_FT_continue3_002_val0.0380.keras\n",
      "\u001b[1m625/625\u001b[0m \u001b[32m━━━━━━━━━━━━━━━━━━━━\u001b[0m\u001b[37m\u001b[0m \u001b[1m3980s\u001b[0m 6s/step - accuracy: 0.9938 - loss: 0.0172 - val_accuracy: 0.9908 - val_loss: 0.0380\n",
      "Epoch 3/7\n",
      "\u001b[1m625/625\u001b[0m \u001b[32m━━━━━━━━━━━━━━━━━━━━\u001b[0m\u001b[37m\u001b[0m \u001b[1m0s\u001b[0m 5s/step - accuracy: 0.9930 - loss: 0.0172\n",
      "Epoch 3: saving model to C:/Programming_Files/JupyterVSCode/Binary_Classification_Transfer_Learning/CatsDogs/SavedModels/CD4/CD4_P2_FT_continue3_003_val0.0373.keras\n",
      "\u001b[1m625/625\u001b[0m \u001b[32m━━━━━━━━━━━━━━━━━━━━\u001b[0m\u001b[37m\u001b[0m \u001b[1m3973s\u001b[0m 6s/step - accuracy: 0.9930 - loss: 0.0172 - val_accuracy: 0.9904 - val_loss: 0.0373\n",
      "Epoch 4/7\n",
      "\u001b[1m625/625\u001b[0m \u001b[32m━━━━━━━━━━━━━━━━━━━━\u001b[0m\u001b[37m\u001b[0m \u001b[1m0s\u001b[0m 5s/step - accuracy: 0.9939 - loss: 0.0152\n",
      "Epoch 4: saving model to C:/Programming_Files/JupyterVSCode/Binary_Classification_Transfer_Learning/CatsDogs/SavedModels/CD4/CD4_P2_FT_continue3_004_val0.0388.keras\n",
      "\u001b[1m625/625\u001b[0m \u001b[32m━━━━━━━━━━━━━━━━━━━━\u001b[0m\u001b[37m\u001b[0m \u001b[1m3972s\u001b[0m 6s/step - accuracy: 0.9939 - loss: 0.0152 - val_accuracy: 0.9910 - val_loss: 0.0388\n",
      "Epoch 5/7\n",
      "\u001b[1m625/625\u001b[0m \u001b[32m━━━━━━━━━━━━━━━━━━━━\u001b[0m\u001b[37m\u001b[0m \u001b[1m0s\u001b[0m 5s/step - accuracy: 0.9952 - loss: 0.0150\n",
      "Epoch 5: saving model to C:/Programming_Files/JupyterVSCode/Binary_Classification_Transfer_Learning/CatsDogs/SavedModels/CD4/CD4_P2_FT_continue3_005_val0.0388.keras\n",
      "\u001b[1m625/625\u001b[0m \u001b[32m━━━━━━━━━━━━━━━━━━━━\u001b[0m\u001b[37m\u001b[0m \u001b[1m3962s\u001b[0m 6s/step - accuracy: 0.9952 - loss: 0.0150 - val_accuracy: 0.9908 - val_loss: 0.0388\n",
      "Epoch 6/7\n",
      "\u001b[1m625/625\u001b[0m \u001b[32m━━━━━━━━━━━━━━━━━━━━\u001b[0m\u001b[37m\u001b[0m \u001b[1m0s\u001b[0m 5s/step - accuracy: 0.9964 - loss: 0.0117\n",
      "Epoch 6: saving model to C:/Programming_Files/JupyterVSCode/Binary_Classification_Transfer_Learning/CatsDogs/SavedModels/CD4/CD4_P2_FT_continue3_006_val0.0399.keras\n",
      "\u001b[1m625/625\u001b[0m \u001b[32m━━━━━━━━━━━━━━━━━━━━\u001b[0m\u001b[37m\u001b[0m \u001b[1m3968s\u001b[0m 6s/step - accuracy: 0.9964 - loss: 0.0117 - val_accuracy: 0.9914 - val_loss: 0.0399\n",
      "Epoch 7/7\n",
      "\u001b[1m625/625\u001b[0m \u001b[32m━━━━━━━━━━━━━━━━━━━━\u001b[0m\u001b[37m\u001b[0m \u001b[1m0s\u001b[0m 5s/step - accuracy: 0.9963 - loss: 0.0130\n",
      "Epoch 7: saving model to C:/Programming_Files/JupyterVSCode/Binary_Classification_Transfer_Learning/CatsDogs/SavedModels/CD4/CD4_P2_FT_continue3_007_val0.0395.keras\n",
      "\u001b[1m625/625\u001b[0m \u001b[32m━━━━━━━━━━━━━━━━━━━━\u001b[0m\u001b[37m\u001b[0m \u001b[1m4314s\u001b[0m 7s/step - accuracy: 0.9963 - loss: 0.0130 - val_accuracy: 0.9914 - val_loss: 0.0395\n"
     ]
    }
   ],
   "source": [
    "epochs = 7\n",
    "lr = 1e-6\n",
    "optimizer = 'Adam'\n",
    "\n",
    "train(model, epochs, lr, optimizer, model_name, parent_name)"
   ]
  }
 ],
 "metadata": {
  "kernelspec": {
   "display_name": "EnvPy3_12",
   "language": "python",
   "name": "python3"
  },
  "language_info": {
   "codemirror_mode": {
    "name": "ipython",
    "version": 3
   },
   "file_extension": ".py",
   "mimetype": "text/x-python",
   "name": "python",
   "nbconvert_exporter": "python",
   "pygments_lexer": "ipython3",
   "version": "3.12.9"
  }
 },
 "nbformat": 4,
 "nbformat_minor": 5
}
