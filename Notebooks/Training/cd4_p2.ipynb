{
 "cells": [
  {
   "cell_type": "markdown",
   "id": "bac0c89d",
   "metadata": {},
   "source": [
    "# CD4_P2"
   ]
  },
  {
   "cell_type": "markdown",
   "id": "c4ae996f",
   "metadata": {},
   "source": [
    "### Import Packages"
   ]
  },
  {
   "cell_type": "code",
   "execution_count": 8,
   "id": "0ed83b5f",
   "metadata": {},
   "outputs": [],
   "source": [
    "import tensorflow as tf\n",
    "import os\n",
    "from tensorflow.keras import layers, models\n",
    "from tensorflow.keras.applications import VGG16\n",
    "from dotenv import load_dotenv"
   ]
  },
  {
   "cell_type": "code",
   "execution_count": null,
   "id": "d43c201a",
   "metadata": {},
   "outputs": [],
   "source": [
    "# Local Packages\n",
    "from utilpackage.path import path_definition\n",
    "from utilpackage.train import train, freeze_layers, unfreeze_head"
   ]
  },
  {
   "cell_type": "markdown",
   "id": "ecb11524",
   "metadata": {},
   "source": [
    "### Variable Paths, Execution Environments"
   ]
  },
  {
   "cell_type": "code",
   "execution_count": null,
   "id": "a756063e",
   "metadata": {},
   "outputs": [],
   "source": [
    "model_name = 'CD4_P2'"
   ]
  },
  {
   "cell_type": "code",
   "execution_count": 4,
   "id": "f6e95abf",
   "metadata": {},
   "outputs": [],
   "source": [
    "BASE_PATH, PATH_DATASET, PATH_RAWDATA, PATH_JOINEDDATA, PATH_SAVEDMODELS = path_definition()"
   ]
  },
  {
   "cell_type": "markdown",
   "id": "8b812b83",
   "metadata": {},
   "source": [
    "### Define the model"
   ]
  },
  {
   "cell_type": "code",
   "execution_count": null,
   "id": "233145ab",
   "metadata": {},
   "outputs": [],
   "source": [
    "vgg_base = VGG16(weights='imagenet', include_top=False, input_shape=(224, 224, 3))\n",
    "model = models.Sequential()\n",
    "for layer in vgg_base.layers:\n",
    "    model.add(layer)\n",
    "model.add(layers.GlobalAveragePooling2D())\n",
    "model.add(layers.Dense(512, activation='relu'))\n",
    "model.add(layers.Dropout(0.5))\n",
    "model.add(layers.Dense(256, activation='relu'))\n",
    "model.add(layers.Dropout(0.3))\n",
    "model.add(layers.Dense(1, activation='sigmoid'))"
   ]
  },
  {
   "cell_type": "markdown",
   "id": "b8f0b681",
   "metadata": {},
   "source": [
    "### Train"
   ]
  },
  {
   "cell_type": "code",
   "execution_count": 5,
   "id": "2ddfda8f",
   "metadata": {},
   "outputs": [
    {
     "name": "stdout",
     "output_type": "stream",
     "text": [
      "- block1_conv1 (Conv2D), Trainable: False\n",
      "- block1_conv2 (Conv2D), Trainable: False\n",
      "- block1_pool (MaxPooling2D), Trainable: False\n",
      "- block2_conv1 (Conv2D), Trainable: False\n",
      "- block2_conv2 (Conv2D), Trainable: False\n",
      "- block2_pool (MaxPooling2D), Trainable: False\n",
      "- block3_conv1 (Conv2D), Trainable: False\n",
      "- block3_conv2 (Conv2D), Trainable: False\n",
      "- block3_conv3 (Conv2D), Trainable: False\n",
      "- block3_pool (MaxPooling2D), Trainable: False\n",
      "- block4_conv1 (Conv2D), Trainable: False\n",
      "- block4_conv2 (Conv2D), Trainable: False\n",
      "- block4_conv3 (Conv2D), Trainable: False\n",
      "- block4_pool (MaxPooling2D), Trainable: False\n",
      "- block5_conv1 (Conv2D), Trainable: False\n",
      "- block5_conv2 (Conv2D), Trainable: False\n",
      "- block5_conv3 (Conv2D), Trainable: False\n",
      "- block5_pool (MaxPooling2D), Trainable: False\n",
      "- global_average_pooling2d (GlobalAveragePooling2D), Trainable: False\n",
      "- dense (Dense), Trainable: False\n",
      "- dropout (Dropout), Trainable: False\n",
      "- dense_1 (Dense), Trainable: False\n",
      "- dropout_1 (Dropout), Trainable: False\n",
      "- dense_2 (Dense), Trainable: False\n",
      "\n",
      "\n",
      "- block1_conv1 (Conv2D), Trainable: False\n",
      "- block1_conv2 (Conv2D), Trainable: False\n",
      "- block1_pool (MaxPooling2D), Trainable: False\n",
      "- block2_conv1 (Conv2D), Trainable: False\n",
      "- block2_conv2 (Conv2D), Trainable: False\n",
      "- block2_pool (MaxPooling2D), Trainable: False\n",
      "- block3_conv1 (Conv2D), Trainable: False\n",
      "- block3_conv2 (Conv2D), Trainable: False\n",
      "- block3_conv3 (Conv2D), Trainable: False\n",
      "- block3_pool (MaxPooling2D), Trainable: False\n",
      "- block4_conv1 (Conv2D), Trainable: False\n",
      "- block4_conv2 (Conv2D), Trainable: False\n",
      "- block4_conv3 (Conv2D), Trainable: False\n",
      "- block4_pool (MaxPooling2D), Trainable: False\n",
      "- block5_conv1 (Conv2D), Trainable: False\n",
      "- block5_conv2 (Conv2D), Trainable: False\n",
      "- block5_conv3 (Conv2D), Trainable: False\n",
      "- block5_pool (MaxPooling2D), Trainable: False\n",
      "- global_average_pooling2d (GlobalAveragePooling2D), Trainable: True\n",
      "- dense (Dense), Trainable: True\n",
      "- dropout (Dropout), Trainable: True\n",
      "- dense_1 (Dense), Trainable: True\n",
      "- dropout_1 (Dropout), Trainable: True\n",
      "- dense_2 (Dense), Trainable: True\n",
      "\n",
      "\n",
      "Found 24997 files belonging to 2 classes.\n",
      "Using 19998 files for training.\n",
      "Found 24997 files belonging to 2 classes.\n",
      "Using 4999 files for validation.\n",
      "Epoch 1/7\n",
      "\u001b[1m625/625\u001b[0m \u001b[32m━━━━━━━━━━━━━━━━━━━━\u001b[0m\u001b[37m\u001b[0m \u001b[1m0s\u001b[0m 4s/step - accuracy: 0.8412 - loss: 0.4975\n",
      "Epoch 1: saving model to C:/Programming_Files/JupyterVSCode/Binary_Classification_Transfer_Learning/CatsDogs/SavedModels/CD4/CD4_P2_001_val0.0601.keras\n",
      "\u001b[1m625/625\u001b[0m \u001b[32m━━━━━━━━━━━━━━━━━━━━\u001b[0m\u001b[37m\u001b[0m \u001b[1m2992s\u001b[0m 5s/step - accuracy: 0.8413 - loss: 0.4971 - val_accuracy: 0.9812 - val_loss: 0.0601\n",
      "Epoch 2/7\n",
      "\u001b[1m625/625\u001b[0m \u001b[32m━━━━━━━━━━━━━━━━━━━━\u001b[0m\u001b[37m\u001b[0m \u001b[1m0s\u001b[0m 4s/step - accuracy: 0.9479 - loss: 0.1464\n",
      "Epoch 2: saving model to C:/Programming_Files/JupyterVSCode/Binary_Classification_Transfer_Learning/CatsDogs/SavedModels/CD4/CD4_P2_002_val0.0538.keras\n",
      "\u001b[1m625/625\u001b[0m \u001b[32m━━━━━━━━━━━━━━━━━━━━\u001b[0m\u001b[37m\u001b[0m \u001b[1m2985s\u001b[0m 5s/step - accuracy: 0.9479 - loss: 0.1463 - val_accuracy: 0.9828 - val_loss: 0.0538\n",
      "Epoch 3/7\n",
      "\u001b[1m625/625\u001b[0m \u001b[32m━━━━━━━━━━━━━━━━━━━━\u001b[0m\u001b[37m\u001b[0m \u001b[1m0s\u001b[0m 4s/step - accuracy: 0.9564 - loss: 0.1141\n",
      "Epoch 3: saving model to C:/Programming_Files/JupyterVSCode/Binary_Classification_Transfer_Learning/CatsDogs/SavedModels/CD4/CD4_P2_003_val0.0501.keras\n",
      "\u001b[1m625/625\u001b[0m \u001b[32m━━━━━━━━━━━━━━━━━━━━\u001b[0m\u001b[37m\u001b[0m \u001b[1m2984s\u001b[0m 5s/step - accuracy: 0.9564 - loss: 0.1141 - val_accuracy: 0.9834 - val_loss: 0.0501\n",
      "Epoch 4/7\n",
      "\u001b[1m625/625\u001b[0m \u001b[32m━━━━━━━━━━━━━━━━━━━━\u001b[0m\u001b[37m\u001b[0m \u001b[1m0s\u001b[0m 4s/step - accuracy: 0.9619 - loss: 0.0989\n",
      "Epoch 4: saving model to C:/Programming_Files/JupyterVSCode/Binary_Classification_Transfer_Learning/CatsDogs/SavedModels/CD4/CD4_P2_004_val0.0476.keras\n",
      "\u001b[1m625/625\u001b[0m \u001b[32m━━━━━━━━━━━━━━━━━━━━\u001b[0m\u001b[37m\u001b[0m \u001b[1m2983s\u001b[0m 5s/step - accuracy: 0.9619 - loss: 0.0989 - val_accuracy: 0.9852 - val_loss: 0.0476\n",
      "Epoch 5/7\n",
      "\u001b[1m625/625\u001b[0m \u001b[32m━━━━━━━━━━━━━━━━━━━━\u001b[0m\u001b[37m\u001b[0m \u001b[1m0s\u001b[0m 4s/step - accuracy: 0.9628 - loss: 0.0919\n",
      "Epoch 5: saving model to C:/Programming_Files/JupyterVSCode/Binary_Classification_Transfer_Learning/CatsDogs/SavedModels/CD4/CD4_P2_005_val0.0446.keras\n",
      "\u001b[1m625/625\u001b[0m \u001b[32m━━━━━━━━━━━━━━━━━━━━\u001b[0m\u001b[37m\u001b[0m \u001b[1m3014s\u001b[0m 5s/step - accuracy: 0.9628 - loss: 0.0919 - val_accuracy: 0.9838 - val_loss: 0.0446\n",
      "Epoch 6/7\n",
      "\u001b[1m625/625\u001b[0m \u001b[32m━━━━━━━━━━━━━━━━━━━━\u001b[0m\u001b[37m\u001b[0m \u001b[1m0s\u001b[0m 4s/step - accuracy: 0.9654 - loss: 0.0902\n",
      "Epoch 6: saving model to C:/Programming_Files/JupyterVSCode/Binary_Classification_Transfer_Learning/CatsDogs/SavedModels/CD4/CD4_P2_006_val0.0457.keras\n",
      "\u001b[1m625/625\u001b[0m \u001b[32m━━━━━━━━━━━━━━━━━━━━\u001b[0m\u001b[37m\u001b[0m \u001b[1m3012s\u001b[0m 5s/step - accuracy: 0.9654 - loss: 0.0902 - val_accuracy: 0.9834 - val_loss: 0.0457\n",
      "Epoch 7/7\n",
      "\u001b[1m625/625\u001b[0m \u001b[32m━━━━━━━━━━━━━━━━━━━━\u001b[0m\u001b[37m\u001b[0m \u001b[1m0s\u001b[0m 4s/step - accuracy: 0.9668 - loss: 0.0842\n",
      "Epoch 7: saving model to C:/Programming_Files/JupyterVSCode/Binary_Classification_Transfer_Learning/CatsDogs/SavedModels/CD4/CD4_P2_007_val0.0443.keras\n",
      "\u001b[1m625/625\u001b[0m \u001b[32m━━━━━━━━━━━━━━━━━━━━\u001b[0m\u001b[37m\u001b[0m \u001b[1m3018s\u001b[0m 5s/step - accuracy: 0.9668 - loss: 0.0842 - val_accuracy: 0.9856 - val_loss: 0.0443\n"
     ]
    }
   ],
   "source": [
    "epochs = 7\n",
    "lr = 1e-4\n",
    "optimizer = 'Adam'\n",
    "load_dotenv()  # loads variables from .env into os.environ\n",
    "platform = os.getenv(\"PLATFORM\")\n",
    "\n",
    "freeze_layers(model, verbose=1)\n",
    "unfreeze_head(model, verbose=1)\n",
    "train(model, epochs, lr, optimizer, model_name)"
   ]
  },
  {
   "cell_type": "markdown",
   "id": "d36b3676",
   "metadata": {},
   "source": [
    "### Load Chosen Model"
   ]
  },
  {
   "cell_type": "code",
   "execution_count": 10,
   "id": "2c988f0e",
   "metadata": {},
   "outputs": [],
   "source": [
    "filepath = f'{PATH_SAVEDMODELS}/CD4/CD4_P2_007_val0.0443.keras'\n",
    "model = tf.keras.models.load_model(filepath)"
   ]
  },
  {
   "cell_type": "markdown",
   "id": "834969d5",
   "metadata": {},
   "source": [
    "### Continue Training"
   ]
  },
  {
   "cell_type": "code",
   "execution_count": 11,
   "id": "424f3fa7",
   "metadata": {},
   "outputs": [],
   "source": [
    "model_name = 'CD4_P2_continue'\n",
    "parent_name = 'CD4_P2'"
   ]
  },
  {
   "cell_type": "code",
   "execution_count": 12,
   "id": "315b93ac",
   "metadata": {},
   "outputs": [
    {
     "name": "stdout",
     "output_type": "stream",
     "text": [
      "Found 24997 files belonging to 2 classes.\n",
      "Using 19998 files for training.\n",
      "Found 24997 files belonging to 2 classes.\n",
      "Using 4999 files for validation.\n",
      "Epoch 1/5\n",
      "\u001b[1m625/625\u001b[0m \u001b[32m━━━━━━━━━━━━━━━━━━━━\u001b[0m\u001b[37m\u001b[0m \u001b[1m0s\u001b[0m 4s/step - accuracy: 0.9685 - loss: 0.0789\n",
      "Epoch 1: saving model to C:/Programming_Files/JupyterVSCode/Binary_Classification_Transfer_Learning/CatsDogs/SavedModels/CD4/CD4_P2_continue_001_val0.0450.keras\n",
      "\u001b[1m625/625\u001b[0m \u001b[32m━━━━━━━━━━━━━━━━━━━━\u001b[0m\u001b[37m\u001b[0m \u001b[1m3149s\u001b[0m 5s/step - accuracy: 0.9685 - loss: 0.0789 - val_accuracy: 0.9850 - val_loss: 0.0450\n",
      "Epoch 2/5\n",
      "\u001b[1m625/625\u001b[0m \u001b[32m━━━━━━━━━━━━━━━━━━━━\u001b[0m\u001b[37m\u001b[0m \u001b[1m0s\u001b[0m 4s/step - accuracy: 0.9718 - loss: 0.0722\n",
      "Epoch 2: saving model to C:/Programming_Files/JupyterVSCode/Binary_Classification_Transfer_Learning/CatsDogs/SavedModels/CD4/CD4_P2_continue_002_val0.0423.keras\n",
      "\u001b[1m625/625\u001b[0m \u001b[32m━━━━━━━━━━━━━━━━━━━━\u001b[0m\u001b[37m\u001b[0m \u001b[1m3103s\u001b[0m 5s/step - accuracy: 0.9718 - loss: 0.0722 - val_accuracy: 0.9848 - val_loss: 0.0423\n",
      "Epoch 3/5\n",
      "\u001b[1m625/625\u001b[0m \u001b[32m━━━━━━━━━━━━━━━━━━━━\u001b[0m\u001b[37m\u001b[0m \u001b[1m0s\u001b[0m 4s/step - accuracy: 0.9701 - loss: 0.0752\n",
      "Epoch 3: saving model to C:/Programming_Files/JupyterVSCode/Binary_Classification_Transfer_Learning/CatsDogs/SavedModels/CD4/CD4_P2_continue_003_val0.0422.keras\n",
      "\u001b[1m625/625\u001b[0m \u001b[32m━━━━━━━━━━━━━━━━━━━━\u001b[0m\u001b[37m\u001b[0m \u001b[1m3228s\u001b[0m 5s/step - accuracy: 0.9701 - loss: 0.0752 - val_accuracy: 0.9850 - val_loss: 0.0422\n",
      "Epoch 4/5\n",
      "\u001b[1m625/625\u001b[0m \u001b[32m━━━━━━━━━━━━━━━━━━━━\u001b[0m\u001b[37m\u001b[0m \u001b[1m0s\u001b[0m 5s/step - accuracy: 0.9717 - loss: 0.0715\n",
      "Epoch 4: saving model to C:/Programming_Files/JupyterVSCode/Binary_Classification_Transfer_Learning/CatsDogs/SavedModels/CD4/CD4_P2_continue_004_val0.0426.keras\n",
      "\u001b[1m625/625\u001b[0m \u001b[32m━━━━━━━━━━━━━━━━━━━━\u001b[0m\u001b[37m\u001b[0m \u001b[1m3627s\u001b[0m 6s/step - accuracy: 0.9717 - loss: 0.0715 - val_accuracy: 0.9852 - val_loss: 0.0426\n",
      "Epoch 5/5\n",
      "\u001b[1m625/625\u001b[0m \u001b[32m━━━━━━━━━━━━━━━━━━━━\u001b[0m\u001b[37m\u001b[0m \u001b[1m0s\u001b[0m 4s/step - accuracy: 0.9753 - loss: 0.0664\n",
      "Epoch 5: saving model to C:/Programming_Files/JupyterVSCode/Binary_Classification_Transfer_Learning/CatsDogs/SavedModels/CD4/CD4_P2_continue_005_val0.0441.keras\n",
      "\u001b[1m625/625\u001b[0m \u001b[32m━━━━━━━━━━━━━━━━━━━━\u001b[0m\u001b[37m\u001b[0m \u001b[1m3145s\u001b[0m 5s/step - accuracy: 0.9753 - loss: 0.0664 - val_accuracy: 0.9850 - val_loss: 0.0441\n"
     ]
    }
   ],
   "source": [
    "epochs = 5\n",
    "lr = 1e-4\n",
    "optimizer = 'Adam'\n",
    "train(model, epochs, lr, optimizer, model_name, parent_name)"
   ]
  }
 ],
 "metadata": {
  "kernelspec": {
   "display_name": "EnvPy3_12",
   "language": "python",
   "name": "python3"
  },
  "language_info": {
   "codemirror_mode": {
    "name": "ipython",
    "version": 3
   },
   "file_extension": ".py",
   "mimetype": "text/x-python",
   "name": "python",
   "nbconvert_exporter": "python",
   "pygments_lexer": "ipython3",
   "version": "3.12.9"
  }
 },
 "nbformat": 4,
 "nbformat_minor": 5
}
