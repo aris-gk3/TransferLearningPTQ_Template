{
 "cells": [
  {
   "cell_type": "markdown",
   "id": "2fb3df93",
   "metadata": {},
   "source": [
    "# Weights Quantization"
   ]
  },
  {
   "cell_type": "markdown",
   "id": "20b53085",
   "metadata": {},
   "source": [
    "### Import Packages"
   ]
  },
  {
   "cell_type": "code",
   "execution_count": null,
   "id": "0420b466",
   "metadata": {},
   "outputs": [],
   "source": [
    "import tensorflow as tf\n",
    "import numpy as np\n",
    "# Local imports\n",
    "from ml_project_util.path import path_definition\n",
    "from ml_project_util.flatten_model import flatten_condtitional\n",
    "from ml_project_util.model_evaluation import model_evaluation_precise\n",
    "from ml_project_util.quantization_util import wt_range_search, quant_weights"
   ]
  },
  {
   "cell_type": "markdown",
   "id": "0fcab22c",
   "metadata": {},
   "source": [
    "### Variable Paths, Execution Environments"
   ]
  },
  {
   "cell_type": "code",
   "execution_count": null,
   "id": "4e2f55d3",
   "metadata": {},
   "outputs": [],
   "source": [
    "# dict = path_definition(ds_rel_path='catsdogsconv/CatsDogs')\n",
    "dict = path_definition()\n",
    "BASE_PATH = dict['BASE_PATH']\n",
    "PATH_DATASET = dict['PATH_DATASET']\n",
    "PATH_TEST = dict['PATH_TEST']\n",
    "PATH_RAWDATA = dict['PATH_RAWDATA']\n",
    "PATH_JOINEDDATA = dict['PATH_JOINEDDATA']\n",
    "PATH_SAVEDMODELS = dict['PATH_SAVEDMODELS']"
   ]
  },
  {
   "cell_type": "markdown",
   "id": "7771c8f9",
   "metadata": {},
   "source": [
    "### Load Model"
   ]
  },
  {
   "cell_type": "code",
   "execution_count": null,
   "id": "69bc1378",
   "metadata": {},
   "outputs": [],
   "source": [
    "# Two first letters for dataset, next letter stands for parameter\n",
    "# 3 numbers are for the number of epochs, and the last 4 digits are for validation loss\n",
    "# e.g. CD4_P2_FT_003_val0.0336\n",
    "model_name = ''\n",
    "short_name = model_name[:-10]\n",
    "parent_name = model_name[:3]\n",
    "filepath = f'{PATH_SAVEDMODELS}/{parent_name}/{model_name}.keras'\n",
    "model = tf.keras.models.load_model(filepath)\n",
    "model = flatten_condtitional(model, model_name)"
   ]
  },
  {
   "cell_type": "markdown",
   "id": "4b585f7b",
   "metadata": {},
   "source": [
    "### Evaluate Model"
   ]
  },
  {
   "cell_type": "code",
   "execution_count": null,
   "id": "2689563a",
   "metadata": {},
   "outputs": [],
   "source": [
    "model_evaluation_precise(model)"
   ]
  },
  {
   "cell_type": "markdown",
   "id": "a98b4bc7",
   "metadata": {},
   "source": [
    "### Quantize Weights and Evaluate"
   ]
  },
  {
   "cell_type": "code",
   "execution_count": null,
   "id": "59b60a26",
   "metadata": {},
   "outputs": [],
   "source": [
    "qw_model = quant_weights(model, model_name, num_bits=8, mode='eval')"
   ]
  }
 ],
 "metadata": {
  "kernelspec": {
   "display_name": "EnvPy3_12",
   "language": "python",
   "name": "python3"
  },
  "language_info": {
   "codemirror_mode": {
    "name": "ipython",
    "version": 3
   },
   "file_extension": ".py",
   "mimetype": "text/x-python",
   "name": "python",
   "nbconvert_exporter": "python",
   "pygments_lexer": "ipython3",
   "version": "3.12.9"
  }
 },
 "nbformat": 4,
 "nbformat_minor": 5
}
