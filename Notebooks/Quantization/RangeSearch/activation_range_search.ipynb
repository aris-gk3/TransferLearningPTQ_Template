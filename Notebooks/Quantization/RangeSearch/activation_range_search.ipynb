{
 "cells": [
  {
   "cell_type": "markdown",
   "id": "a9a073b0",
   "metadata": {},
   "source": [
    "# Search for range of float model"
   ]
  },
  {
   "cell_type": "markdown",
   "id": "d8ba6e3f",
   "metadata": {},
   "source": [
    "### Import Packages"
   ]
  },
  {
   "cell_type": "code",
   "execution_count": 1,
   "id": "14381e61",
   "metadata": {},
   "outputs": [],
   "source": [
    "import tensorflow as tf\n",
    "import json\n",
    "from tabulate import tabulate\n",
    "from tensorflow.keras import layers, models # type: ignore\n",
    "from tensorflow.keras.applications import VGG16 # type: ignore\n",
    "from tensorflow.keras.applications.vgg16 import preprocess_input # type: ignore"
   ]
  },
  {
   "cell_type": "code",
   "execution_count": 2,
   "id": "a6e25b94",
   "metadata": {},
   "outputs": [],
   "source": [
    "# Local Packages\n",
    "from ml_project_util.path import path_definition\n",
    "from ml_project_util.flatten_model import flatten_condtitional\n",
    "from ml_project_util.quantization_util import activation_range_search, gen_sample_paths"
   ]
  },
  {
   "cell_type": "markdown",
   "id": "c2a25768",
   "metadata": {},
   "source": [
    "### Variable Paths, Names, Execution Environments"
   ]
  },
  {
   "cell_type": "code",
   "execution_count": 3,
   "id": "c2265e24",
   "metadata": {},
   "outputs": [],
   "source": [
    "model_name = 'CD4_P2_FT_003_val0.0336'"
   ]
  },
  {
   "cell_type": "code",
   "execution_count": 4,
   "id": "d1265f84",
   "metadata": {},
   "outputs": [],
   "source": [
    "BASE_PATH, PATH_DATASET, PATH_RAWDATA, PATH_JOINEDDATA, PATH_SAVEDMODELS = path_definition()"
   ]
  },
  {
   "cell_type": "markdown",
   "id": "9b873ad8",
   "metadata": {},
   "source": [
    "### Load Float Model"
   ]
  },
  {
   "cell_type": "code",
   "execution_count": 5,
   "id": "c2277ba4",
   "metadata": {},
   "outputs": [],
   "source": [
    "short_name = model_name[:-10]\n",
    "parent_name = model_name[:3]\n",
    "filepath = f'{PATH_SAVEDMODELS}/{parent_name}/{model_name}.keras'\n",
    "model = tf.keras.models.load_model(filepath)\n",
    "model = flatten_condtitional(model, model_name)"
   ]
  },
  {
   "cell_type": "markdown",
   "id": "be10d0cb",
   "metadata": {},
   "source": [
    "### Activation Range for Random Input"
   ]
  },
  {
   "cell_type": "code",
   "execution_count": 13,
   "id": "62ab2f1b",
   "metadata": {},
   "outputs": [
    {
     "name": "stdout",
     "output_type": "stream",
     "text": [
      "Activation ranges per layer:\n",
      "Layer 0 (block1_conv1): min=0.0, max=4.269227027893066\n",
      "Layer 1 (block1_conv2): min=0.0, max=14.899660110473633\n",
      "Layer 2 (block1_pool): min=0.0, max=14.899660110473633\n",
      "Layer 3 (block2_conv1): min=0.0, max=32.683876037597656\n",
      "Layer 4 (block2_conv2): min=0.0, max=69.7279281616211\n",
      "Layer 5 (block2_pool): min=0.0, max=69.7279281616211\n",
      "Layer 6 (block3_conv1): min=0.0, max=107.82502746582031\n",
      "Layer 7 (block3_conv2): min=0.0, max=133.61187744140625\n",
      "Layer 8 (block3_conv3): min=0.0, max=183.60520935058594\n",
      "Layer 9 (block3_pool): min=0.0, max=183.60520935058594\n",
      "Layer 10 (block4_conv1): min=0.0, max=94.03123474121094\n",
      "Layer 11 (block4_conv2): min=0.0, max=55.30662155151367\n",
      "Layer 12 (block4_conv3): min=0.0, max=30.583187103271484\n",
      "Layer 13 (block4_pool): min=0.0, max=30.583187103271484\n",
      "Layer 14 (block5_conv1): min=0.0, max=9.469626426696777\n",
      "Layer 15 (block5_conv2): min=0.0, max=4.933740615844727\n",
      "Layer 16 (block5_conv3): min=0.0, max=9.568266868591309\n",
      "Layer 17 (block5_pool): min=0.0, max=9.568266868591309\n",
      "Layer 18 (global_average_pooling2d): min=0.0, max=9.202191352844238\n",
      "Layer 19 (dense): min=0.0, max=0.9678980112075806\n",
      "Layer 20 (dropout): min=0.0, max=0.9678980112075806\n",
      "Layer 21 (dense_1): min=0.0, max=0.7856730818748474\n",
      "Layer 22 (dropout_1): min=0.0, max=0.7856730818748474\n",
      "Layer 23 (dense_2): min=0.36598947644233704, max=0.36598947644233704\n"
     ]
    }
   ],
   "source": [
    "import numpy as np\n",
    "input_shape = (1, 224, 224, 3)  # batch size 1 here\n",
    "input_data = np.random.rand(*input_shape).astype(np.float32)\n",
    "\n",
    "x = tf.convert_to_tensor(input_data)\n",
    "\n",
    "print(\"Activation ranges per layer:\")\n",
    "\n",
    "# Manually feed-forward through layers\n",
    "for i, layer in enumerate(model.layers):\n",
    "    x = layer(x)  # call layer on tensor input\n",
    "\n",
    "    # x is a tensor, get numpy array for min/max\n",
    "    activations = x.numpy()\n",
    "\n",
    "    print(f\"Layer {i} ({layer.name}): min={activations.min()}, max={activations.max()}\")"
   ]
  },
  {
   "cell_type": "markdown",
   "id": "65e0251b",
   "metadata": {},
   "source": [
    "### Find Activation Range for Conv and Dense Layers & Store it"
   ]
  },
  {
   "cell_type": "code",
   "execution_count": 6,
   "id": "19233ce6",
   "metadata": {},
   "outputs": [
    {
     "name": "stdout",
     "output_type": "stream",
     "text": [
      "Read activation range json from C:/Users/arisi/Documents/VSCode/CatsDogs/Docs_Reports/Quant/Ranges/CD4_P2_FT_003_activation_sw_range.json\n"
     ]
    }
   ],
   "source": [
    "sampled_files = gen_sample_paths()\n",
    "activation_sw_range_dict = activation_range_search(sampled_files, model, model_name, mode='s', force=0)"
   ]
  }
 ],
 "metadata": {
  "kernelspec": {
   "display_name": "EnvPy3_12",
   "language": "python",
   "name": "python3"
  },
  "language_info": {
   "codemirror_mode": {
    "name": "ipython",
    "version": 3
   },
   "file_extension": ".py",
   "mimetype": "text/x-python",
   "name": "python",
   "nbconvert_exporter": "python",
   "pygments_lexer": "ipython3",
   "version": "3.12.9"
  }
 },
 "nbformat": 4,
 "nbformat_minor": 5
}
