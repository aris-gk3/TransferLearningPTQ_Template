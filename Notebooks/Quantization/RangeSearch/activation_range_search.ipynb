{
 "cells": [
  {
   "cell_type": "markdown",
   "id": "a9a073b0",
   "metadata": {},
   "source": [
    "# Search for range of float model"
   ]
  },
  {
   "cell_type": "markdown",
   "id": "d8ba6e3f",
   "metadata": {},
   "source": [
    "### Import Packages"
   ]
  },
  {
   "cell_type": "code",
   "execution_count": null,
   "id": "14381e61",
   "metadata": {},
   "outputs": [],
   "source": [
    "import tensorflow as tf\n",
    "from tensorflow.keras import layers, models # type: ignore\n",
    "from tensorflow.keras.applications import VGG16 # type: ignore\n",
    "from tensorflow.keras.applications.vgg16 import preprocess_input # type: ignore\n",
    "# Local imports\n",
    "from ml_project_util.path import path_definition\n",
    "from ml_project_util.flatten_model import flatten_condtitional\n",
    "from ml_project_util.quantization_util import activation_range_search, gen_sample_paths"
   ]
  },
  {
   "cell_type": "markdown",
   "id": "c2a25768",
   "metadata": {},
   "source": [
    "### Variable Paths, Names, Execution Environments"
   ]
  },
  {
   "cell_type": "code",
   "execution_count": null,
   "id": "d1265f84",
   "metadata": {},
   "outputs": [],
   "source": [
    "# dict = path_definition(ds_rel_path='catsdogsconv/CatsDogs')\n",
    "dict = path_definition()\n",
    "BASE_PATH = dict['BASE_PATH']\n",
    "PATH_DATASET = dict['PATH_DATASET']\n",
    "PATH_TEST = dict['PATH_TEST']\n",
    "PATH_RAWDATA = dict['PATH_RAWDATA']\n",
    "PATH_JOINEDDATA = dict['PATH_JOINEDDATA']\n",
    "PATH_SAVEDMODELS = dict['PATH_SAVEDMODELS']"
   ]
  },
  {
   "cell_type": "markdown",
   "id": "9b873ad8",
   "metadata": {},
   "source": [
    "### Load Float Model"
   ]
  },
  {
   "cell_type": "code",
   "execution_count": null,
   "id": "c2277ba4",
   "metadata": {},
   "outputs": [],
   "source": [
    "# Two first letters for dataset, next letter stands for parameter\n",
    "# 3 numbers are for the number of epochs, and the last 4 digits are for validation loss\n",
    "# e.g. CD4_P2_FT_003_val0.0336\n",
    "model_name = ''\n",
    "short_name = model_name[:-10]\n",
    "parent_name = model_name[:3]\n",
    "filepath = f'{PATH_SAVEDMODELS}/{parent_name}/{model_name}.keras'\n",
    "model = tf.keras.models.load_model(filepath)\n",
    "model = flatten_condtitional(model, model_name)"
   ]
  },
  {
   "cell_type": "markdown",
   "id": "be10d0cb",
   "metadata": {},
   "source": [
    "### Activation Range for Random Input"
   ]
  },
  {
   "cell_type": "code",
   "execution_count": null,
   "id": "62ab2f1b",
   "metadata": {},
   "outputs": [],
   "source": [
    "import numpy as np\n",
    "input_shape = (1, 224, 224, 3)  # batch size 1 here\n",
    "input_data = np.random.rand(*input_shape).astype(np.float32)\n",
    "\n",
    "x = tf.convert_to_tensor(input_data)\n",
    "\n",
    "print(\"Activation ranges per layer:\")\n",
    "\n",
    "# Manually feed-forward through layers\n",
    "for i, layer in enumerate(model.layers):\n",
    "    x = layer(x)  # call layer on tensor input\n",
    "\n",
    "    # x is a tensor, get numpy array for min/max\n",
    "    activations = x.numpy()\n",
    "\n",
    "    print(f\"Layer {i} ({layer.name}): min={activations.min()}, max={activations.max()}\")"
   ]
  },
  {
   "cell_type": "markdown",
   "id": "65e0251b",
   "metadata": {},
   "source": [
    "### Find Activation Range for Conv and Dense Layers & Store it"
   ]
  },
  {
   "cell_type": "code",
   "execution_count": null,
   "id": "19233ce6",
   "metadata": {},
   "outputs": [],
   "source": [
    "sampled_files = gen_sample_paths()\n",
    "activation_sw_range_dict = activation_range_search(sampled_files, model, model_name, mode='s', force=0)"
   ]
  }
 ],
 "metadata": {
  "kernelspec": {
   "display_name": "EnvPy3_12",
   "language": "python",
   "name": "python3"
  },
  "language_info": {
   "codemirror_mode": {
    "name": "ipython",
    "version": 3
   },
   "file_extension": ".py",
   "mimetype": "text/x-python",
   "name": "python",
   "nbconvert_exporter": "python",
   "pygments_lexer": "ipython3",
   "version": "3.12.9"
  }
 },
 "nbformat": 4,
 "nbformat_minor": 5
}
