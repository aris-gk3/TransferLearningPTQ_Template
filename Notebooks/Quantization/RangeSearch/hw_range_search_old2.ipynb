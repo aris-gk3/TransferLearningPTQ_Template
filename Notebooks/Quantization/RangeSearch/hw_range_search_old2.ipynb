{
 "cells": [
  {
   "cell_type": "markdown",
   "id": "6a12b7a8",
   "metadata": {},
   "source": [
    "# Find Hardware Range"
   ]
  },
  {
   "cell_type": "markdown",
   "id": "974a6f6a",
   "metadata": {},
   "source": [
    "### Notes"
   ]
  },
  {
   "cell_type": "markdown",
   "id": "2f7ac600",
   "metadata": {},
   "source": [
    "I find range in hardware for the input of the layers that are conv2d or dense."
   ]
  },
  {
   "cell_type": "markdown",
   "id": "eec2e78f",
   "metadata": {},
   "source": [
    "### Import Packages"
   ]
  },
  {
   "cell_type": "code",
   "execution_count": 5,
   "id": "2ed47721",
   "metadata": {},
   "outputs": [],
   "source": [
    "import tensorflow as tf"
   ]
  },
  {
   "cell_type": "code",
   "execution_count": 1,
   "id": "28a098ab",
   "metadata": {},
   "outputs": [],
   "source": [
    "from ml_project_util.flatten_model import flatten_condtitional\n",
    "from ml_project_util.path import path_definition\n",
    "from ml_project_util.quantization_util import smallest_power_of_two_to_exceed, find_hw_range"
   ]
  },
  {
   "cell_type": "markdown",
   "id": "bf3ba350",
   "metadata": {},
   "source": [
    "### Functions"
   ]
  },
  {
   "cell_type": "markdown",
   "id": "82696c71",
   "metadata": {},
   "source": [
    "Set a range for input layerand from that find all other ranges by multuplying/dividing with power of two."
   ]
  },
  {
   "cell_type": "markdown",
   "id": "f1fa1bd7",
   "metadata": {},
   "source": [
    "### Variable Paths, Names, Execution Environments"
   ]
  },
  {
   "cell_type": "code",
   "execution_count": 2,
   "id": "be123ff5",
   "metadata": {},
   "outputs": [],
   "source": [
    "model_name = 'CD3_P1_FT_001_val0.0358'\n",
    "parent_folder = model_name[:3]\n",
    "BASE_PATH, PATH_DATASET, PATH_RAWDATA, PATH_JOINEDDATA, PATH_SAVEDMODELS = path_definition()\n",
    "model_path = f'{PATH_SAVEDMODELS}/{parent_folder}/{model_name}.keras'\n"
   ]
  },
  {
   "cell_type": "code",
   "execution_count": 3,
   "id": "592da221",
   "metadata": {},
   "outputs": [],
   "source": [
    "range_name = model_name[:-10]\n",
    "# Range dictionary path\n",
    "range_dict_path = f'{BASE_PATH}/Docs_Reports/Quant/Ranges/{range_name}_range_test.json' \n",
    "# Shift range dictionary path\n",
    "shift_range_path = f'{BASE_PATH}/Docs_Reports/Quant/Ranges/{range_name}_shift_range_test.json'"
   ]
  },
  {
   "cell_type": "markdown",
   "id": "ef0232db",
   "metadata": {},
   "source": [
    "### Load float model"
   ]
  },
  {
   "cell_type": "code",
   "execution_count": 6,
   "id": "ad46c513",
   "metadata": {},
   "outputs": [],
   "source": [
    "model = tf.keras.models.load_model(model_path)\n",
    "model = flatten_condtitional(model, model_name)"
   ]
  },
  {
   "cell_type": "markdown",
   "id": "e2c31003",
   "metadata": {},
   "source": [
    "### Find hardware friendly HW, ranges are shifted by bits"
   ]
  },
  {
   "cell_type": "code",
   "execution_count": 7,
   "id": "f5aa29da",
   "metadata": {},
   "outputs": [
    {
     "name": "stdout",
     "output_type": "stream",
     "text": [
      "We have range: 160 & next value 932.9594116210938\n",
      "Result 2: 1280\n",
      "We have range: 1280 & next value 4120.07861328125\n",
      "Result 2: 5120\n",
      "We have range: 5120 & next value 7530.5458984375\n",
      "Result 2: 10240\n",
      "We have range: 10240 & next value 12263.2021484375\n",
      "Result 2: 20480\n",
      "We have range: 20480 & next value 15675.4619140625\n",
      "Result 1: 20480.0\n",
      "We have range: 20480.0 & next value 17104.0703125\n",
      "Result 1: 20480.0\n",
      "We have range: 20480.0 & next value 19267.736328125\n",
      "Result 1: 20480.0\n",
      "We have range: 20480.0 & next value 14641.271484375\n",
      "Result 1: 20480.0\n",
      "We have range: 20480.0 & next value 6527.53955078125\n",
      "Result 1: 10240.0\n",
      "We have range: 10240.0 & next value 3789.07470703125\n",
      "Result 1: 5120.0\n",
      "We have range: 5120.0 & next value 2992.412109375\n",
      "Result 1: 5120.0\n",
      "We have range: 5120.0 & next value 1272.30419921875\n",
      "Result 1: 1280.0\n",
      "We have range: 1280.0 & next value 793.24365234375\n",
      "Result 1: 1280.0\n",
      "We have range: 1280.0 & next value 34.07163619995117\n",
      "Result 1: 40.0\n"
     ]
    }
   ],
   "source": [
    "input_range = (-160, 160)\n",
    "shift_range_path = f'{BASE_PATH}/Docs_Reports/Quant/Ranges/{range_name}_shift_range_test_2.json'\n",
    "find_hw_range(model, input_range, range_dict_path, shift_range_path)"
   ]
  }
 ],
 "metadata": {
  "kernelspec": {
   "display_name": "EnvPy3_12",
   "language": "python",
   "name": "python3"
  },
  "language_info": {
   "codemirror_mode": {
    "name": "ipython",
    "version": 3
   },
   "file_extension": ".py",
   "mimetype": "text/x-python",
   "name": "python",
   "nbconvert_exporter": "python",
   "pygments_lexer": "ipython3",
   "version": "3.12.9"
  }
 },
 "nbformat": 4,
 "nbformat_minor": 5
}
