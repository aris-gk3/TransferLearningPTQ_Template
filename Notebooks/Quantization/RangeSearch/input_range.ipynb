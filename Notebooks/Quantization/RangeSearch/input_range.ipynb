{
 "cells": [
  {
   "cell_type": "markdown",
   "id": "43113ba2",
   "metadata": {},
   "source": [
    "# Find Range of Input Tensors"
   ]
  },
  {
   "cell_type": "markdown",
   "id": "6f22ad54",
   "metadata": {},
   "source": [
    "### Import Packages"
   ]
  },
  {
   "cell_type": "code",
   "execution_count": 1,
   "id": "da917b8a",
   "metadata": {},
   "outputs": [],
   "source": [
    "from ml_project_util.quantization_util import input_range, subsample_imgdir # type: error"
   ]
  },
  {
   "cell_type": "markdown",
   "id": "acacbcd9",
   "metadata": {},
   "source": [
    "### Find Input Range"
   ]
  },
  {
   "cell_type": "code",
   "execution_count": 2,
   "id": "c8b10c92",
   "metadata": {},
   "outputs": [
    {
     "name": "stdout",
     "output_type": "stream",
     "text": [
      "Read input range json from C:/Users/arisi/Documents/VSCode/CatsDogs/Docs_Reports/Quant/Ranges/input_range.json\n",
      "min = -123.68000030517578, max = 151.06100463867188\n"
     ]
    }
   ],
   "source": [
    "min_input, max_input = input_range(mode='v',force=0)"
   ]
  }
 ],
 "metadata": {
  "kernelspec": {
   "display_name": "EnvPy3_12",
   "language": "python",
   "name": "python3"
  },
  "language_info": {
   "codemirror_mode": {
    "name": "ipython",
    "version": 3
   },
   "file_extension": ".py",
   "mimetype": "text/x-python",
   "name": "python",
   "nbconvert_exporter": "python",
   "pygments_lexer": "ipython3",
   "version": "3.12.9"
  }
 },
 "nbformat": 4,
 "nbformat_minor": 5
}
