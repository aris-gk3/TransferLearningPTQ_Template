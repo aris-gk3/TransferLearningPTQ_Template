{
 "cells": [
  {
   "cell_type": "markdown",
   "id": "a9a073b0",
   "metadata": {},
   "source": [
    "# Search for HW Friendly Range"
   ]
  },
  {
   "cell_type": "markdown",
   "id": "13a7333c",
   "metadata": {},
   "source": [
    "Goal is to find ranges/scales in a way so that from layer output to layer input, there is no need for multiplication & addition operation but rather a bit shifting multiplication. This gives some restrictions on the scales/ranges choice. To satisfy that here we only just the activation range. This opeartion is named weight focused, since the weights range is kept closer to the original range, so there is better accuracy for the weights."
   ]
  },
  {
   "cell_type": "markdown",
   "id": "d8ba6e3f",
   "metadata": {},
   "source": [
    "### Import Packages"
   ]
  },
  {
   "cell_type": "code",
   "execution_count": null,
   "id": "14381e61",
   "metadata": {},
   "outputs": [],
   "source": [
    "import tensorflow as tf\n",
    "from tensorflow.keras import layers, models # type: ignore\n",
    "from tensorflow.keras.applications import VGG16 # type: ignore\n",
    "from tensorflow.keras.applications.vgg16 import preprocess_input # type: ignore\n",
    "# Local imports\n",
    "from ml_project_util.path import path_definition\n",
    "from ml_project_util.flatten_model import flatten_condtitional\n",
    "from ml_project_util.quantization_util import gen_sample_paths, wt_range_search, wt_scale_search\n",
    "from ml_project_util.quantization_util import activation_range_search, activation_sw_scale_search, activation_hw_search\n",
    "from ml_project_util.quantization_util import complete_dict_search"
   ]
  },
  {
   "cell_type": "markdown",
   "id": "c2a25768",
   "metadata": {},
   "source": [
    "### Variable Paths, Execution Environments"
   ]
  },
  {
   "cell_type": "code",
   "execution_count": null,
   "id": "c2265e24",
   "metadata": {},
   "outputs": [],
   "source": [
    "# dict = path_definition(ds_rel_path='catsdogsconv/CatsDogs')\n",
    "dict = path_definition()\n",
    "BASE_PATH = dict['BASE_PATH']\n",
    "PATH_DATASET = dict['PATH_DATASET']\n",
    "PATH_TEST = dict['PATH_TEST']\n",
    "PATH_RAWDATA = dict['PATH_RAWDATA']\n",
    "PATH_JOINEDDATA = dict['PATH_JOINEDDATA']\n",
    "PATH_SAVEDMODELS = dict['PATH_SAVEDMODELS']"
   ]
  },
  {
   "cell_type": "markdown",
   "id": "9b873ad8",
   "metadata": {},
   "source": [
    "### Load Float Model"
   ]
  },
  {
   "cell_type": "code",
   "execution_count": null,
   "id": "c2277ba4",
   "metadata": {},
   "outputs": [],
   "source": [
    "# Two first letters for dataset, next letter stands for parameter\n",
    "# 3 numbers are for the number of epochs, and the last 4 digits are for validation loss\n",
    "# e.g. CD4_P2_FT_003_val0.0336\n",
    "model_name = ''\n",
    "short_name = model_name[:-10]\n",
    "parent_name = model_name[:3]\n",
    "filepath = f'{PATH_SAVEDMODELS}/{parent_name}/{model_name}.keras'\n",
    "model = tf.keras.models.load_model(filepath)\n",
    "model = flatten_condtitional(model, model_name)"
   ]
  },
  {
   "cell_type": "markdown",
   "id": "65e0251b",
   "metadata": {},
   "source": [
    "### Find HW Activation Range for Conv and Dense Layers & Store it"
   ]
  },
  {
   "cell_type": "code",
   "execution_count": null,
   "id": "ef5cc810",
   "metadata": {},
   "outputs": [],
   "source": [
    "sampled_files = gen_sample_paths()\n",
    "activation_sw_range_dict = activation_range_search(sampled_files, model, model_name, mode='s', force=0)\n",
    "\n",
    "wt_range_dict = wt_range_search(model, model_name, mode='s')\n",
    "\n",
    "wt_scale_dict = wt_scale_search(wt_range_dict, model_name, mode='s')\n",
    "\n",
    "activation_sw_scale_dict = activation_sw_scale_search(activation_sw_range_dict, model_name, mode='s')\n",
    "\n",
    "complete_dict = activation_hw_search(model_name, activation_sw_range_dict, activation_sw_scale_dict, wt_range_dict, wt_scale_dict, debug = 0, force=0)"
   ]
  },
  {
   "cell_type": "markdown",
   "id": "8b3084fb",
   "metadata": {},
   "source": [
    "### Function"
   ]
  },
  {
   "cell_type": "code",
   "execution_count": null,
   "id": "510314f8",
   "metadata": {},
   "outputs": [],
   "source": [
    "complete_dict = complete_dict_search(model, model_name, force=0, debug=0, mode='sv', filepath='0')"
   ]
  }
 ],
 "metadata": {
  "kernelspec": {
   "display_name": "EnvPy3_12",
   "language": "python",
   "name": "python3"
  },
  "language_info": {
   "codemirror_mode": {
    "name": "ipython",
    "version": 3
   },
   "file_extension": ".py",
   "mimetype": "text/x-python",
   "name": "python",
   "nbconvert_exporter": "python",
   "pygments_lexer": "ipython3",
   "version": "3.12.9"
  }
 },
 "nbformat": 4,
 "nbformat_minor": 5
}
