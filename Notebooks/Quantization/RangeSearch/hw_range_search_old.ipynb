{
 "cells": [
  {
   "cell_type": "markdown",
   "id": "6a12b7a8",
   "metadata": {},
   "source": [
    "# Find Hardware Range"
   ]
  },
  {
   "cell_type": "markdown",
   "id": "974a6f6a",
   "metadata": {},
   "source": [
    "### Notes"
   ]
  },
  {
   "cell_type": "markdown",
   "id": "2f7ac600",
   "metadata": {},
   "source": [
    "I find range in hardware for the input of the layers that are conv2d or dense.  \n",
    "I use only int8 arithmetic and symmetric quantization."
   ]
  },
  {
   "cell_type": "markdown",
   "id": "eec2e78f",
   "metadata": {},
   "source": [
    "### Import Packages"
   ]
  },
  {
   "cell_type": "code",
   "execution_count": 1,
   "id": "2ed47721",
   "metadata": {},
   "outputs": [],
   "source": [
    "import tensorflow as tf"
   ]
  },
  {
   "cell_type": "code",
   "execution_count": 2,
   "id": "28a098ab",
   "metadata": {},
   "outputs": [],
   "source": [
    "from ml_project_util.flatten_model import flatten_condtitional\n",
    "from ml_project_util.path import path_definition\n",
    "from ml_project_util.quantization_util import smallest_power_of_two_to_exceed, find_hw_range"
   ]
  },
  {
   "cell_type": "markdown",
   "id": "bf3ba350",
   "metadata": {},
   "source": [
    "### Functions"
   ]
  },
  {
   "cell_type": "markdown",
   "id": "82696c71",
   "metadata": {},
   "source": [
    "Set a range for input layerand from that find all other ranges by multuplying/dividing with power of two."
   ]
  },
  {
   "cell_type": "markdown",
   "id": "f1fa1bd7",
   "metadata": {},
   "source": [
    "### Variable Paths, Names, Execution Environments"
   ]
  },
  {
   "cell_type": "code",
   "execution_count": 3,
   "id": "be123ff5",
   "metadata": {},
   "outputs": [],
   "source": [
    "model_name = 'CD3_P1_FT_001_val0.0358'\n",
    "parent_folder = model_name[:3]\n",
    "BASE_PATH, PATH_DATASET, PATH_RAWDATA, PATH_JOINEDDATA, PATH_SAVEDMODELS = path_definition()\n",
    "model_path = f'{PATH_SAVEDMODELS}/{parent_folder}/{model_name}.keras'\n"
   ]
  },
  {
   "cell_type": "code",
   "execution_count": 12,
   "id": "592da221",
   "metadata": {},
   "outputs": [],
   "source": [
    "range_name = model_name[:-10]\n",
    "# Range dictionary path\n",
    "range_dict_path = f'{BASE_PATH}/Docs_Reports/Quant/Ranges/{range_name}_range.json' \n",
    "# Shift range dictionary path\n",
    "shift_range_path = f'{BASE_PATH}/Docs_Reports/Quant/Ranges/{range_name}_shift_range.json'"
   ]
  },
  {
   "cell_type": "markdown",
   "id": "ef0232db",
   "metadata": {},
   "source": [
    "### Load float model"
   ]
  },
  {
   "cell_type": "code",
   "execution_count": 5,
   "id": "ad46c513",
   "metadata": {},
   "outputs": [],
   "source": [
    "model = tf.keras.models.load_model(model_path)\n",
    "model = flatten_condtitional(model, model_name)"
   ]
  },
  {
   "cell_type": "markdown",
   "id": "e2c31003",
   "metadata": {},
   "source": [
    "### Find hardware friendly HW, ranges are shifted by bits"
   ]
  },
  {
   "cell_type": "code",
   "execution_count": null,
   "id": "017ab020",
   "metadata": {},
   "outputs": [],
   "source": [
    "input_range = (-160, 160)\n",
    "shift_range_path = f'{BASE_PATH}/Docs_Reports/Quant/Ranges/{range_name}_shift_range_test_3.json'\n",
    "import json\n",
    "with open(range_dict_path, 'r') as file:\n",
    "    layer_min_max = json.load(file)"
   ]
  },
  {
   "cell_type": "code",
   "execution_count": 14,
   "id": "6052326b",
   "metadata": {},
   "outputs": [
    {
     "data": {
      "text/plain": [
       "{'block1_conv1': {'min': -150.0, 'max': 150.0},\n",
       " 'block1_conv2': {'min': 0.0, 'max': 932.9594116210938},\n",
       " 'block2_conv1': {'min': 0.0, 'max': 4120.07861328125},\n",
       " 'block2_conv2': {'min': 0.0, 'max': 7530.5458984375},\n",
       " 'block3_conv1': {'min': 0.0, 'max': 12263.2021484375},\n",
       " 'block3_conv2': {'min': 0.0, 'max': 15675.4619140625},\n",
       " 'block3_conv3': {'min': 0.0, 'max': 17104.0703125},\n",
       " 'block4_conv1': {'min': 0.0, 'max': 19267.736328125},\n",
       " 'block4_conv2': {'min': 0.0, 'max': 14641.271484375},\n",
       " 'block4_conv3': {'min': 0.0, 'max': 6527.53955078125},\n",
       " 'block5_conv1': {'min': 0.0, 'max': 3789.07470703125},\n",
       " 'block5_conv2': {'min': 0.0, 'max': 2992.412109375},\n",
       " 'block5_conv3': {'min': 0.0, 'max': 1272.30419921875},\n",
       " 'dense': {'min': 0.0, 'max': 793.24365234375},\n",
       " 'dense_1': {'min': 0.0, 'max': 34.07163619995117}}"
      ]
     },
     "execution_count": 14,
     "metadata": {},
     "output_type": "execute_result"
    }
   ],
   "source": [
    "layer_min_max"
   ]
  },
  {
   "cell_type": "markdown",
   "id": "64609c1d",
   "metadata": {},
   "source": [
    "Get in dict the scales of weights per layer  \n",
    "Ignore the bias for now  \n",
    "Use all the layers, put null values if no scales  \n",
    "Scales for activations are found recursively  \n",
    "Final dict should have both scales per layer and both ranges per layer"
   ]
  },
  {
   "cell_type": "code",
   "execution_count": null,
   "id": "9254df64",
   "metadata": {},
   "outputs": [],
   "source": []
  },
  {
   "cell_type": "code",
   "execution_count": null,
   "id": "f5aa29da",
   "metadata": {},
   "outputs": [
    {
     "name": "stdout",
     "output_type": "stream",
     "text": [
      "We have range: 160 & next value 932.9594116210938\n",
      "Result 2: 1280\n",
      "We have range: 1280 & next value 4120.07861328125\n",
      "Result 2: 5120\n",
      "We have range: 5120 & next value 7530.5458984375\n",
      "Result 2: 10240\n",
      "We have range: 10240 & next value 12263.2021484375\n",
      "Result 2: 20480\n",
      "We have range: 20480 & next value 15675.4619140625\n",
      "Result 1: 20480.0\n",
      "We have range: 20480.0 & next value 17104.0703125\n",
      "Result 1: 20480.0\n",
      "We have range: 20480.0 & next value 19267.736328125\n",
      "Result 1: 20480.0\n",
      "We have range: 20480.0 & next value 14641.271484375\n",
      "Result 1: 20480.0\n",
      "We have range: 20480.0 & next value 6527.53955078125\n",
      "Result 1: 10240.0\n",
      "We have range: 10240.0 & next value 3789.07470703125\n",
      "Result 1: 5120.0\n",
      "We have range: 5120.0 & next value 2992.412109375\n",
      "Result 1: 5120.0\n",
      "We have range: 5120.0 & next value 1272.30419921875\n",
      "Result 1: 1280.0\n",
      "We have range: 1280.0 & next value 793.24365234375\n",
      "Result 1: 1280.0\n",
      "We have range: 1280.0 & next value 34.07163619995117\n",
      "Result 1: 40.0\n"
     ]
    }
   ],
   "source": [
    "# find_hw_range(model, input_range, range_dict_path, shift_range_path)"
   ]
  }
 ],
 "metadata": {
  "kernelspec": {
   "display_name": "EnvPy3_12",
   "language": "python",
   "name": "python3"
  },
  "language_info": {
   "codemirror_mode": {
    "name": "ipython",
    "version": 3
   },
   "file_extension": ".py",
   "mimetype": "text/x-python",
   "name": "python",
   "nbconvert_exporter": "python",
   "pygments_lexer": "ipython3",
   "version": "3.12.9"
  }
 },
 "nbformat": 4,
 "nbformat_minor": 5
}
