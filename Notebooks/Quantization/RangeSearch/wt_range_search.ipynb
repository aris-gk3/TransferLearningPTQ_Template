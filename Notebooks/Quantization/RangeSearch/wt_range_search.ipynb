{
 "cells": [
  {
   "cell_type": "markdown",
   "id": "663a61bf",
   "metadata": {},
   "source": [
    "# Find Weight Ranges"
   ]
  },
  {
   "cell_type": "markdown",
   "id": "7a746921",
   "metadata": {},
   "source": [
    "### Import Packages"
   ]
  },
  {
   "cell_type": "code",
   "execution_count": 1,
   "id": "ae7053cf",
   "metadata": {},
   "outputs": [],
   "source": [
    "import tensorflow as tf\n",
    "# Local packages\n",
    "from ml_project_util.path import path_definition\n",
    "from ml_project_util.flatten_model import flatten_condtitional\n",
    "from ml_project_util.quantization_util import wt_range_search"
   ]
  },
  {
   "cell_type": "markdown",
   "id": "0f987f2a",
   "metadata": {},
   "source": [
    "### Variable Paths, Execution Environments"
   ]
  },
  {
   "cell_type": "code",
   "execution_count": 2,
   "id": "aa324100",
   "metadata": {},
   "outputs": [],
   "source": [
    "model_name = 'CD4_P2_FT_003_val0.0336'\n",
    "BASE_PATH, PATH_DATASET, PATH_RAWDATA, PATH_JOINEDDATA, PATH_SAVEDMODELS = path_definition()"
   ]
  },
  {
   "cell_type": "markdown",
   "id": "0de426cb",
   "metadata": {},
   "source": [
    "### Load Model"
   ]
  },
  {
   "cell_type": "code",
   "execution_count": 3,
   "id": "5628cdb1",
   "metadata": {},
   "outputs": [],
   "source": [
    "short_name = model_name[:-10]\n",
    "parent_name = model_name[:3]\n",
    "filepath = f'{PATH_SAVEDMODELS}/{parent_name}/{model_name}.keras'\n",
    "model = tf.keras.models.load_model(filepath)\n",
    "model = flatten_condtitional(model, model_name)"
   ]
  },
  {
   "cell_type": "markdown",
   "id": "a0b660da",
   "metadata": {},
   "source": [
    "### Find Range of weights"
   ]
  },
  {
   "cell_type": "code",
   "execution_count": null,
   "id": "b9f28a81",
   "metadata": {},
   "outputs": [
    {
     "name": "stdout",
     "output_type": "stream",
     "text": [
      "Read input range json from C:/Users/arisi/Documents/VSCode/CatsDogs/Docs_Reports/Quant/Ranges/CD4_P2_FT_003_wt_range.json\n"
     ]
    }
   ],
   "source": [
    "weight_ranges = wt_range_search(model, model_name, mode='s')"
   ]
  }
 ],
 "metadata": {
  "kernelspec": {
   "display_name": "EnvPy3_12",
   "language": "python",
   "name": "python3"
  },
  "language_info": {
   "codemirror_mode": {
    "name": "ipython",
    "version": 3
   },
   "file_extension": ".py",
   "mimetype": "text/x-python",
   "name": "python",
   "nbconvert_exporter": "python",
   "pygments_lexer": "ipython3",
   "version": "3.12.9"
  }
 },
 "nbformat": 4,
 "nbformat_minor": 5
}
