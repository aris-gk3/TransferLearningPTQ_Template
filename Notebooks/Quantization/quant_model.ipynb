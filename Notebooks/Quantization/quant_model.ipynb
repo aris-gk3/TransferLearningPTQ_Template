{
 "cells": [
  {
   "cell_type": "markdown",
   "id": "92d4dc0d",
   "metadata": {},
   "source": [
    "# Quantize Model"
   ]
  },
  {
   "cell_type": "markdown",
   "id": "f22cec5a",
   "metadata": {},
   "source": [
    "### Import Packages"
   ]
  },
  {
   "cell_type": "code",
   "execution_count": null,
   "id": "82a05e85",
   "metadata": {},
   "outputs": [],
   "source": [
    "import tensorflow as tf\n",
    "# Local imports\n",
    "from ml_project_util.path import path_definition\n",
    "from ml_project_util.flatten_model import flatten_condtitional\n",
    "from ml_project_util.quantization_util import quant_weights, quant_activations, quant_model, quant_bw_search"
   ]
  },
  {
   "cell_type": "markdown",
   "id": "586875b4",
   "metadata": {},
   "source": [
    "### Variable Paths, Execution Environments"
   ]
  },
  {
   "cell_type": "code",
   "execution_count": null,
   "id": "e6cef0fa",
   "metadata": {},
   "outputs": [],
   "source": [
    "# dict = path_definition(ds_rel_path='catsdogsconv/CatsDogs')\n",
    "dict = path_definition()\n",
    "BASE_PATH = dict['BASE_PATH']\n",
    "PATH_DATASET = dict['PATH_DATASET']\n",
    "PATH_TEST = dict['PATH_TEST']\n",
    "PATH_RAWDATA = dict['PATH_RAWDATA']\n",
    "PATH_JOINEDDATA = dict['PATH_JOINEDDATA']\n",
    "PATH_SAVEDMODELS = dict['PATH_SAVEDMODELS']"
   ]
  },
  {
   "cell_type": "markdown",
   "id": "096b6ec4",
   "metadata": {},
   "source": [
    "### Load Model"
   ]
  },
  {
   "cell_type": "code",
   "execution_count": null,
   "id": "7ef6ae7f",
   "metadata": {},
   "outputs": [],
   "source": [
    "# Two first letters for dataset, next letter stands for parameter\n",
    "# 3 numbers are for the number of epochs, and the last 4 digits are for validation loss\n",
    "# e.g. CD4_P2_FT_003_val0.0336\n",
    "model_name = ''\n",
    "parent_folder = model_name[:3]\n",
    "filepath = f'{PATH_SAVEDMODELS}/{parent_folder}/{model_name}.keras'\n",
    "model = tf.keras.models.load_model(filepath)\n",
    "model = flatten_condtitional(model, model_name)"
   ]
  },
  {
   "cell_type": "markdown",
   "id": "3a542550",
   "metadata": {},
   "source": [
    "### Quantize & Evaluate"
   ]
  },
  {
   "cell_type": "code",
   "execution_count": null,
   "id": "f9a61344",
   "metadata": {},
   "outputs": [],
   "source": [
    "qw_model = quant_weights(model, model_name, num_bits=8, mode='quant')\n",
    "qwa_model =  quant_activations(model, model_name, num_bits=8, mode='eval', design='hw')"
   ]
  },
  {
   "cell_type": "code",
   "execution_count": null,
   "id": "0ea5f78a",
   "metadata": {},
   "outputs": [],
   "source": [
    "qwa_model =  quant_model(model, model_name, num_bits=8, mode='eval', design='hw')"
   ]
  },
  {
   "cell_type": "code",
   "execution_count": null,
   "id": "495d9096",
   "metadata": {},
   "outputs": [],
   "source": [
    "qwa_model = quant_bw_search(model, model_name, range(7,17))"
   ]
  },
  {
   "cell_type": "markdown",
   "id": "1701bd86",
   "metadata": {},
   "source": [
    "### Save Metrics"
   ]
  },
  {
   "cell_type": "code",
   "execution_count": null,
   "id": "3e484636",
   "metadata": {},
   "outputs": [],
   "source": [
    "import json\n",
    "\n",
    "# save accuracy in json in\n",
    "bitwidth = 8\n",
    "mode = \"qw\"\n",
    "short_name = model_name[:-10]\n",
    "accuracy_path = f'{BASE_PATH}/Docs_Reports/Quant/{short_name}_acc_bw_{mode}.json'\n",
    "# read json\n",
    "try:\n",
    "    with open(accuracy_path, 'r') as file:\n",
    "        acc_bw_dict = json.load(file)\n",
    "except:\n",
    "    print('No accuracy per bitwidth json file found in specified path!')\n",
    "    acc_bw_dict = {}\n",
    "# add in dict\n",
    "acc_bw_dict[f'{bitwidth}b'] = { \"accuracy\": 0.97840, \"loss\": 0.11877}\n",
    "# write json\n",
    "with open(accuracy_path, 'w') as f:\n",
    "    json.dump(acc_bw_dict, f, indent=4)"
   ]
  },
  {
   "cell_type": "markdown",
   "id": "4be15e90",
   "metadata": {},
   "source": [
    "### Save qw model"
   ]
  },
  {
   "cell_type": "code",
   "execution_count": null,
   "id": "f79496c9",
   "metadata": {},
   "outputs": [],
   "source": [
    "# same path + qw subfolder\n",
    "parent_folder = model_name[:3]\n",
    "short_name = model_name[:-10]\n",
    "model_path = f'{PATH_SAVEDMODELS}/{parent_folder}/Quant/{short_name}_qw.keras'\n",
    "model.save(model_path)"
   ]
  }
 ],
 "metadata": {
  "kernelspec": {
   "display_name": "EnvPy3_12",
   "language": "python",
   "name": "python3"
  },
  "language_info": {
   "codemirror_mode": {
    "name": "ipython",
    "version": 3
   },
   "file_extension": ".py",
   "mimetype": "text/x-python",
   "name": "python",
   "nbconvert_exporter": "python",
   "pygments_lexer": "ipython3",
   "version": "3.12.9"
  }
 },
 "nbformat": 4,
 "nbformat_minor": 5
}
