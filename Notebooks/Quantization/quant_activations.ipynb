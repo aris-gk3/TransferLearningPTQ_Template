{
 "cells": [
  {
   "cell_type": "markdown",
   "id": "997d32db",
   "metadata": {},
   "source": [
    "# Activation Quantization"
   ]
  },
  {
   "cell_type": "markdown",
   "id": "b3ec78ca",
   "metadata": {},
   "source": [
    "### Import Packages"
   ]
  },
  {
   "cell_type": "code",
   "execution_count": null,
   "id": "4350aa25",
   "metadata": {},
   "outputs": [],
   "source": [
    "import tensorflow as tf\n",
    "import json\n",
    "from tensorflow.keras import layers, Sequential # type: ignore\n",
    "from tensorflow.keras.applications.vgg16 import preprocess_input # type: ignore\n",
    "from tensorflow.keras.layers import Conv2D, Dense # type: ignore\n",
    "from tensorflow.keras.models import clone_model # type: ignore\n",
    "# Local imports\n",
    "from ml_project_util.path import path_definition\n",
    "from ml_project_util.flatten_model import flatten_condtitional\n",
    "from ml_project_util.model_evaluation import model_evaluation_precise\n",
    "from ml_project_util.quantization_util import quant_activations"
   ]
  },
  {
   "cell_type": "markdown",
   "id": "3303b451",
   "metadata": {},
   "source": [
    "### Variable Paths, Names, Execution Environments"
   ]
  },
  {
   "cell_type": "code",
   "execution_count": null,
   "id": "e757a35d",
   "metadata": {},
   "outputs": [],
   "source": [
    "# dict = path_definition(ds_rel_path='catsdogsconv/CatsDogs')\n",
    "dict = path_definition()\n",
    "BASE_PATH = dict['BASE_PATH']\n",
    "PATH_DATASET = dict['PATH_DATASET']\n",
    "PATH_TEST = dict['PATH_TEST']\n",
    "PATH_RAWDATA = dict['PATH_RAWDATA']\n",
    "PATH_JOINEDDATA = dict['PATH_JOINEDDATA']\n",
    "PATH_SAVEDMODELS = dict['PATH_SAVEDMODELS']"
   ]
  },
  {
   "cell_type": "markdown",
   "id": "357d6625",
   "metadata": {},
   "source": [
    "### Load Float Model"
   ]
  },
  {
   "cell_type": "code",
   "execution_count": null,
   "id": "eb335a08",
   "metadata": {},
   "outputs": [],
   "source": [
    "# Two first letters for dataset, next letter stands for parameter\n",
    "# 3 numbers are for the number of epochs, and the last 4 digits are for validation loss\n",
    "# e.g. CD4_P2_FT_003_val0.0336\n",
    "model_name = ''\n",
    "short_name = model_name[:-10]\n",
    "parent_name = model_name[:3]\n",
    "filepath = f'{PATH_SAVEDMODELS}/{parent_name}/{model_name}.keras'\n",
    "model = tf.keras.models.load_model(filepath)\n",
    "model = flatten_condtitional(model, model_name)\n",
    "model.summary()"
   ]
  },
  {
   "cell_type": "markdown",
   "id": "e20da84e",
   "metadata": {},
   "source": [
    "### Create New Model with Fake Quant Layers & Evaluate"
   ]
  },
  {
   "cell_type": "code",
   "execution_count": null,
   "id": "3378b7e0",
   "metadata": {},
   "outputs": [],
   "source": [
    "qa_model =  quant_activations(model, model_name, num_bits=8, mode_func='eval', mode='hw')"
   ]
  }
 ],
 "metadata": {
  "kernelspec": {
   "display_name": "EnvPy3_12",
   "language": "python",
   "name": "python3"
  },
  "language_info": {
   "codemirror_mode": {
    "name": "ipython",
    "version": 3
   },
   "file_extension": ".py",
   "mimetype": "text/x-python",
   "name": "python",
   "nbconvert_exporter": "python",
   "pygments_lexer": "ipython3",
   "version": "3.12.9"
  }
 },
 "nbformat": 4,
 "nbformat_minor": 5
}
