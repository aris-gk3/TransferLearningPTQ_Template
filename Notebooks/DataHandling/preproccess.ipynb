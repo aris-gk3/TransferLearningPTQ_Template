{
 "cells": [
  {
   "cell_type": "markdown",
   "id": "9c91d01b",
   "metadata": {},
   "source": [
    "### Random Image Inspection"
   ]
  },
  {
   "cell_type": "code",
   "execution_count": null,
   "id": "50cabe45",
   "metadata": {},
   "outputs": [],
   "source": [
    "from PIL import Image\n",
    "import numpy as np\n",
    "\n",
    "# Load the image\n",
    "img_path = r''\n",
    "img = Image.open(f\"{img_path}\")\n",
    "\n",
    "# Show the image\n",
    "img.show()\n",
    "\n",
    "# Print image metadata\n",
    "print(\"Format:\", img.format)\n",
    "print(\"Mode:\", img.mode)         # e.g., 'RGB', 'I;16', 'L', 'CMYK'\n",
    "print(\"Size:\", img.size)         # (width, height)\n",
    "\n",
    "# Convert to NumPy array\n",
    "img_np = np.array(img)\n",
    "\n",
    "# Examine array shape and data type\n",
    "print(\"Array shape:\", img_np.shape)\n",
    "print(\"Data type:\", img_np.dtype)\n",
    "print(\"Min/Max pixel values:\", img_np.min(), img_np.max())"
   ]
  },
  {
   "cell_type": "markdown",
   "id": "d740aac6",
   "metadata": {},
   "source": [
    "### Verify File  Formats and Corruption"
   ]
  },
  {
   "cell_type": "code",
   "execution_count": null,
   "id": "8a4cd063",
   "metadata": {},
   "outputs": [],
   "source": [
    "from PIL import Image, UnidentifiedImageError\n",
    "import os\n",
    "\n",
    "folder_path = r''\n",
    "\n",
    "for filename in os.listdir(folder_path):\n",
    "    if filename.lower().endswith(('.png', '.jpg', '.jpeg', '.bmp', '.gif', '.tiff', '.webp')):\n",
    "        filepath = os.path.join(folder_path, filename)\n",
    "        try:\n",
    "            with Image.open(filepath) as img:\n",
    "                img.verify()  # Detect corrupted image\n",
    "                format = img.format  # Get image format (e.g., JPEG, PNG)\n",
    "                print(f\"{filename} is a valid {format} file.\")\n",
    "        except UnidentifiedImageError:\n",
    "            print(f\"{filename} is NOT a valid image or is corrupted!\")\n",
    "        except Exception as e:\n",
    "            print(f\"{filename} failed with error: {e}\")"
   ]
  },
  {
   "cell_type": "code",
   "execution_count": null,
   "id": "9a88d5a5",
   "metadata": {},
   "outputs": [],
   "source": [
    "# Verifies image corruption\n",
    "import os\n",
    "from PIL import Image\n",
    "\n",
    "dataset_dir = r\"\"\n",
    "for root, dirs, files in os.walk(dataset_dir):\n",
    "    for file in files:\n",
    "        file_path = os.path.join(root, file)\n",
    "        try:\n",
    "            img = Image.open(file_path)\n",
    "            img.verify()  # Verify the image is valid\n",
    "        except Exception as e:\n",
    "            print(f\"Corrupted or invalid image: {file_path} ({e})\")"
   ]
  },
  {
   "cell_type": "markdown",
   "id": "3d3229c7",
   "metadata": {},
   "source": [
    "### Convert all files recursively to PNG"
   ]
  },
  {
   "cell_type": "code",
   "execution_count": null,
   "id": "e18ef248",
   "metadata": {},
   "outputs": [],
   "source": [
    "import os\n",
    "from PIL import Image\n",
    "\n",
    "def convert_tif_to_png_recursive(input_root, output_root):\n",
    "    for dirpath, _, filenames in os.walk(input_root):\n",
    "        for file in filenames:\n",
    "            if file.lower().endswith((\".tif\", \".tiff\")):\n",
    "                input_path = os.path.join(dirpath, file)\n",
    "                \n",
    "                # Build relative path for output\n",
    "                rel_dir = os.path.relpath(dirpath, input_root)\n",
    "                output_dir = os.path.join(output_root, rel_dir)\n",
    "                os.makedirs(output_dir, exist_ok=True)\n",
    "                \n",
    "                # Load and convert image\n",
    "                try:\n",
    "                    img = Image.open(input_path)\n",
    "                    \n",
    "                    # Convert to RGB if not already\n",
    "                    if img.mode != \"RGB\":\n",
    "                        img = img.convert(\"RGB\")\n",
    "                    \n",
    "                    # Save as PNG\n",
    "                    output_filename = os.path.splitext(file)[0] + \".png\"\n",
    "                    output_path = os.path.join(output_dir, output_filename)\n",
    "                    img.save(output_path)\n",
    "                    \n",
    "                    print(f\"Converted: {input_path} → {output_path}\")\n",
    "                except Exception as e:\n",
    "                    print(f\"Failed to convert {input_path}: {e}\")\n",
    "\n",
    "\n",
    "input_folder = r\"\"\n",
    "output_folder = r\"\"\n",
    "convert_tif_to_png_recursive(input_folder, output_folder)"
   ]
  },
  {
   "cell_type": "markdown",
   "id": "c72c40c4",
   "metadata": {},
   "source": [
    "### Check for Image Dimensions"
   ]
  },
  {
   "cell_type": "code",
   "execution_count": null,
   "id": "b8d03a37",
   "metadata": {},
   "outputs": [],
   "source": [
    "from PIL import Image\n",
    "import os\n",
    "\n",
    "# Path to your folder\n",
    "folder_path = ''\n",
    "\n",
    "# Dictionary to track dimensions\n",
    "dimension_counts = {}\n",
    "\n",
    "for filename in os.listdir(folder_path):\n",
    "    if filename.lower().endswith(('.png', '.jpg', '.jpeg', '.bmp', '.gif')):\n",
    "        filepath = os.path.join(folder_path, filename)\n",
    "        with Image.open(filepath) as img:\n",
    "            dimensions = img.size  # (width, height)\n",
    "            dimension_counts[dimensions] = dimension_counts.get(dimensions, 0) + 1\n",
    "\n",
    "# Print summary\n",
    "for dims, count in dimension_counts.items():\n",
    "    print(f\"Dimension {dims}: {count} image(s)\")"
   ]
  },
  {
   "cell_type": "code",
   "execution_count": null,
   "id": "345174cc",
   "metadata": {},
   "outputs": [],
   "source": [
    "target_size = (224, 224)\n",
    "for filename in os.listdir(folder_path):\n",
    "    if filename.lower().endswith(('.png', '.jpg', '.jpeg', '.bmp', '.gif')):\n",
    "        filepath = os.path.join(folder_path, filename)\n",
    "        with Image.open(filepath) as img:\n",
    "            if img.size != target_size:\n",
    "                print(f\"{filename} has size {img.size}\")"
   ]
  },
  {
   "cell_type": "markdown",
   "id": "86a65d92",
   "metadata": {},
   "source": [
    "### Color Mode Check"
   ]
  },
  {
   "cell_type": "code",
   "execution_count": null,
   "id": "bb561189",
   "metadata": {},
   "outputs": [],
   "source": [
    "from PIL import Image, UnidentifiedImageError\n",
    "import os\n",
    "\n",
    "folder_path = ''\n",
    "\n",
    "# Count modes\n",
    "mode_counts = {}\n",
    "\n",
    "for filename in os.listdir(folder_path):\n",
    "    if filename.lower().endswith(('.png', '.jpg', '.jpeg', '.bmp', '.gif', '.tiff', '.webp')):\n",
    "        filepath = os.path.join(folder_path, filename)\n",
    "        try:\n",
    "            with Image.open(filepath) as img:\n",
    "                mode = img.mode  # e.g., 'RGB', 'L', 'CMYK', 'RGBA'\n",
    "                mode_counts[mode] = mode_counts.get(mode, 0) + 1\n",
    "\n",
    "                if mode != 'RGB':\n",
    "                    print(f\"⚠️ {filename} is in {mode} mode!\")\n",
    "        except UnidentifiedImageError:\n",
    "            print(f\"❌ {filename} is not a valid image or is corrupted.\")\n",
    "\n",
    "print(\"\\n✅ Color Mode Summary:\")\n",
    "for mode, count in mode_counts.items():\n",
    "    print(f\"{mode}: {count} image(s)\")"
   ]
  },
  {
   "cell_type": "markdown",
   "id": "f2d611b0",
   "metadata": {},
   "source": [
    "### Convert other formats to RGB"
   ]
  },
  {
   "cell_type": "code",
   "execution_count": null,
   "id": "4ccb1503",
   "metadata": {},
   "outputs": [],
   "source": [
    "import os\n",
    "from PIL import Image\n",
    "\n",
    "folder_path = ''\n",
    "output_path = ''\n",
    "\n",
    "os.makedirs(output_path, exist_ok=True)\n",
    "\n",
    "for filename in os.listdir(folder_path):\n",
    "    if filename.lower().endswith(('.png', '.jpg', '.jpeg', '.bmp', '.gif', '.tiff', '.webp')):\n",
    "        filepath = os.path.join(folder_path, filename)\n",
    "        with Image.open(filepath) as img:\n",
    "            if img.mode != 'RGB':\n",
    "                img = img.convert('RGB')\n",
    "                print(f\"Converted {filename} from {img.mode} to RGB\")\n",
    "            else:\n",
    "                print(f\"{filename} is already RGB\")\n",
    "            img.save(os.path.join(output_path, filename))"
   ]
  }
 ],
 "metadata": {
  "kernelspec": {
   "display_name": "EnvPy3_12",
   "language": "python",
   "name": "python3"
  },
  "language_info": {
   "codemirror_mode": {
    "name": "ipython",
    "version": 3
   },
   "file_extension": ".py",
   "mimetype": "text/x-python",
   "name": "python",
   "nbconvert_exporter": "python",
   "pygments_lexer": "ipython3",
   "version": "3.12.9"
  }
 },
 "nbformat": 4,
 "nbformat_minor": 5
}
