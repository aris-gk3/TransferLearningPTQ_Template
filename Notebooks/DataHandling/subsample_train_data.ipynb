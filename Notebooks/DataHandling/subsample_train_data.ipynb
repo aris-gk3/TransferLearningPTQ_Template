{
 "cells": [
  {
   "cell_type": "markdown",
   "id": "d5e3d9d2",
   "metadata": {},
   "source": [
    "### Subsample Training Data\n",
    "\n",
    "Create subfolder with less images for training to see how well the model can perform with fewer data."
   ]
  },
  {
   "cell_type": "code",
   "execution_count": null,
   "id": "407fa669",
   "metadata": {},
   "outputs": [],
   "source": [
    "import os\n",
    "import shutil\n",
    "import random\n",
    "\n",
    "def create_subset(source_dir, target_dir, num_samples_per_class):\n",
    "    for class_name in os.listdir(source_dir):\n",
    "        class_path = os.path.join(source_dir, class_name)\n",
    "        if os.path.isdir(class_path):\n",
    "            target_class_path = os.path.join(target_dir, class_name)\n",
    "            os.makedirs(target_class_path, exist_ok=True)\n",
    "\n",
    "            images = os.listdir(class_path)\n",
    "            random.shuffle(images)\n",
    "\n",
    "            subset_images = images[:num_samples_per_class]  # Select only a subset\n",
    "\n",
    "            for image in subset_images:\n",
    "                src = os.path.join(class_path, image)\n",
    "                dst = os.path.join(target_class_path, image)\n",
    "                shutil.copy(src, dst)\n",
    "\n",
    "# Example usage\n",
    "source_dir = 'path_to_data/train'\n",
    "target_dir = 'path_to_subset_data/train_subset'\n",
    "num_samples_per_class = 500  # Limit the number of images per class\n",
    "\n",
    "create_subset(source_dir, target_dir, num_samples_per_class)"
   ]
  },
  {
   "cell_type": "markdown",
   "id": "efe34d28",
   "metadata": {},
   "source": [
    "### Corrupted Images"
   ]
  },
  {
   "cell_type": "code",
   "execution_count": 1,
   "id": "2e6a7a39",
   "metadata": {},
   "outputs": [
    {
     "name": "stdout",
     "output_type": "stream",
     "text": [
      "Corrupted or invalid image: C:\\Programming_Files\\JupyterVSCode\\Binary_Classification_Transfer_Learning\\CatsDogs\\KaggleCatsDogs\\Cat\\666.jpg (cannot identify image file 'C:\\\\Programming_Files\\\\JupyterVSCode\\\\Binary_Classification_Transfer_Learning\\\\CatsDogs\\\\KaggleCatsDogs\\\\Cat\\\\666.jpg')\n",
      "Corrupted or invalid image: C:\\Programming_Files\\JupyterVSCode\\Binary_Classification_Transfer_Learning\\CatsDogs\\KaggleCatsDogs\\Dog\\11702.jpg (cannot identify image file 'C:\\\\Programming_Files\\\\JupyterVSCode\\\\Binary_Classification_Transfer_Learning\\\\CatsDogs\\\\KaggleCatsDogs\\\\Dog\\\\11702.jpg')\n"
     ]
    },
    {
     "name": "stderr",
     "output_type": "stream",
     "text": [
      "c:\\Users\\Aris_Work\\anaconda3\\envs\\EnvPy3_12\\Lib\\site-packages\\PIL\\TiffImagePlugin.py:949: UserWarning: Truncated File Read\n",
      "  warnings.warn(str(msg))\n"
     ]
    }
   ],
   "source": [
    "import os\n",
    "from PIL import Image\n",
    "\n",
    "dataset_dir = \"C:\\\\Programming_Files\\\\JupyterVSCode\\\\Binary_Classification_Transfer_Learning\\\\CatsDogs\\\\KaggleCatsDogs\"\n",
    "for root, dirs, files in os.walk(dataset_dir):\n",
    "    for file in files:\n",
    "        file_path = os.path.join(root, file)\n",
    "        try:\n",
    "            img = Image.open(file_path)\n",
    "            img.verify()  # Verify the image is valid\n",
    "        except Exception as e:\n",
    "            print(f\"Corrupted or invalid image: {file_path} ({e})\")"
   ]
  }
 ],
 "metadata": {
  "kernelspec": {
   "display_name": "EnvPy3_12",
   "language": "python",
   "name": "python3"
  },
  "language_info": {
   "codemirror_mode": {
    "name": "ipython",
    "version": 3
   },
   "file_extension": ".py",
   "mimetype": "text/x-python",
   "name": "python",
   "nbconvert_exporter": "python",
   "pygments_lexer": "ipython3",
   "version": "3.12.9"
  }
 },
 "nbformat": 4,
 "nbformat_minor": 5
}
