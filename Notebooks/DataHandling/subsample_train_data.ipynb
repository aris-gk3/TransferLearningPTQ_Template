{
 "cells": [
  {
   "cell_type": "markdown",
   "id": "d5e3d9d2",
   "metadata": {},
   "source": [
    "### Subsample Training Data\n",
    "\n",
    "Create subfolder with less images for training to see how well the model can perform with fewer data."
   ]
  },
  {
   "cell_type": "code",
   "execution_count": null,
   "id": "407fa669",
   "metadata": {},
   "outputs": [],
   "source": [
    "import os\n",
    "import shutil\n",
    "import random\n",
    "\n",
    "def create_subset(source_dir, target_dir, num_samples_per_class):\n",
    "    for class_name in os.listdir(source_dir):\n",
    "        class_path = os.path.join(source_dir, class_name)\n",
    "        if os.path.isdir(class_path):\n",
    "            target_class_path = os.path.join(target_dir, class_name)\n",
    "            os.makedirs(target_class_path, exist_ok=True)\n",
    "\n",
    "            images = os.listdir(class_path)\n",
    "            random.shuffle(images)\n",
    "\n",
    "            subset_images = images[:num_samples_per_class]  # Select only a subset\n",
    "\n",
    "            for image in subset_images:\n",
    "                src = os.path.join(class_path, image)\n",
    "                dst = os.path.join(target_class_path, image)\n",
    "                shutil.copy(src, dst)\n",
    "\n",
    "# Example usage\n",
    "source_dir = r''\n",
    "target_dir = r''\n",
    "num_samples_per_class = 50  # Limit the number of images per class\n",
    "\n",
    "create_subset(source_dir, target_dir, num_samples_per_class)"
   ]
  }
 ],
 "metadata": {
  "kernelspec": {
   "display_name": "EnvPy3_12",
   "language": "python",
   "name": "python3"
  },
  "language_info": {
   "codemirror_mode": {
    "name": "ipython",
    "version": 3
   },
   "file_extension": ".py",
   "mimetype": "text/x-python",
   "name": "python",
   "nbconvert_exporter": "python",
   "pygments_lexer": "ipython3",
   "version": "3.12.9"
  }
 },
 "nbformat": 4,
 "nbformat_minor": 5
}
