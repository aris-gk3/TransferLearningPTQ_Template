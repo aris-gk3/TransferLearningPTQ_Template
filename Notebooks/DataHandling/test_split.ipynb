{
 "cells": [
  {
   "cell_type": "code",
   "execution_count": 1,
   "id": "6a328592",
   "metadata": {},
   "outputs": [],
   "source": [
    "from ml_project_util.path import path_definition\n",
    "from ml_project_util.load_preprocess import move_random_files, move_back_files, print_class_files, test_split, undo_test_split"
   ]
  },
  {
   "cell_type": "code",
   "execution_count": 2,
   "id": "ea9a7ed1",
   "metadata": {},
   "outputs": [
    {
     "name": "stdout",
     "output_type": "stream",
     "text": [
      "\n",
      "*** Training & Validation Classes are:\n",
      "\n",
      "0. Cat (12498 images)\n",
      "1. Dog (12499 images)\n",
      "\n",
      "*** Test Classes are:\n",
      "\n",
      "0. Cat (0 images)\n",
      "1. Dog (0 images)\n",
      "\n",
      "Moved all files from 'C:/Programming_Files/JupyterVSCode/Binary_Classification_Transfer_Learning/CatsDogs/Dataset/Test/Cat' to 'C:/Programming_Files/JupyterVSCode/Binary_Classification_Transfer_Learning/CatsDogs/Dataset/Train_Val/Cat'.\n",
      "\n",
      "Moved all files from 'C:/Programming_Files/JupyterVSCode/Binary_Classification_Transfer_Learning/CatsDogs/Dataset/Test/Dog' to 'C:/Programming_Files/JupyterVSCode/Binary_Classification_Transfer_Learning/CatsDogs/Dataset/Train_Val/Dog'.\n",
      "\n",
      "*** Training & Validation Classes are:\n",
      "\n",
      "0. Cat (12498 images)\n",
      "1. Dog (12499 images)\n",
      "\n",
      "*** Test Classes are:\n",
      "\n",
      "0. Cat (0 images)\n",
      "1. Dog (0 images)\n"
     ]
    }
   ],
   "source": [
    "undo_test_split()"
   ]
  },
  {
   "cell_type": "code",
   "execution_count": 3,
   "id": "cf384af9",
   "metadata": {},
   "outputs": [
    {
     "name": "stdout",
     "output_type": "stream",
     "text": [
      "\n",
      "*** Training & Validation Classes are:\n",
      "\n",
      "0. Cat (12498 images)\n",
      "1. Dog (12499 images)\n",
      "\n",
      "*** Test Classes are:\n",
      "\n",
      "0. Cat (0 images)\n",
      "1. Dog (0 images)\n",
      "Test split will be done from txt file!\n",
      "\n",
      "Moved 1874 file(s) from 'C:/Programming_Files/JupyterVSCode/Binary_Classification_Transfer_Learning/CatsDogs/Dataset/Train_Val/Cat' to 'C:/Programming_Files/JupyterVSCode/Binary_Classification_Transfer_Learning/CatsDogs/Dataset/Test/Cat'.\n",
      "Test split will be done from txt file!\n",
      "\n",
      "Moved 1874 file(s) from 'C:/Programming_Files/JupyterVSCode/Binary_Classification_Transfer_Learning/CatsDogs/Dataset/Train_Val/Dog' to 'C:/Programming_Files/JupyterVSCode/Binary_Classification_Transfer_Learning/CatsDogs/Dataset/Test/Dog'.\n",
      "\n",
      "*** Training & Validation Classes are:\n",
      "\n",
      "0. Cat (10624 images)\n",
      "1. Dog (10625 images)\n",
      "\n",
      "*** Test Classes are:\n",
      "\n",
      "0. Cat (1874 images)\n",
      "1. Dog (1874 images)\n"
     ]
    }
   ],
   "source": [
    "dict = path_definition()\n",
    "PATH_DATASET = dict['PATH_DATASET']\n",
    "PATH_TEST = dict['PATH_TEST']\n",
    "\n",
    "test_split()\n",
    "# move_random_files(PATH_DATASET, PATH_TEST)"
   ]
  }
 ],
 "metadata": {
  "kernelspec": {
   "display_name": "EnvPy3_12",
   "language": "python",
   "name": "python3"
  },
  "language_info": {
   "codemirror_mode": {
    "name": "ipython",
    "version": 3
   },
   "file_extension": ".py",
   "mimetype": "text/x-python",
   "name": "python",
   "nbconvert_exporter": "python",
   "pygments_lexer": "ipython3",
   "version": "3.12.9"
  }
 },
 "nbformat": 4,
 "nbformat_minor": 5
}
