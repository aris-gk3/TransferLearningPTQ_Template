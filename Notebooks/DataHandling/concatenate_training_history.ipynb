{
 "cells": [
  {
   "cell_type": "markdown",
   "id": "b576d7df",
   "metadata": {},
   "source": [
    "# Join Training History based on epoch order"
   ]
  },
  {
   "cell_type": "markdown",
   "id": "64850030",
   "metadata": {},
   "source": [
    "### Define Function for joining histories"
   ]
  },
  {
   "cell_type": "code",
   "execution_count": 2,
   "id": "30058060",
   "metadata": {},
   "outputs": [],
   "source": [
    "from utilpackage.History import concatenate_json"
   ]
  },
  {
   "cell_type": "code",
   "execution_count": 2,
   "id": "2b207e88",
   "metadata": {},
   "outputs": [],
   "source": [
    "import json\n",
    "\n",
    "def concatenate_json(file1, file2, output_file):\n",
    "    with open(file1) as f1, open(file2) as f2:\n",
    "        d1, d2 = json.load(f1), json.load(f2)\n",
    "\n",
    "    result = {k: d1.get(k, []) + d2.get(k, []) for k in set(d1) | set(d2)}\n",
    "\n",
    "    with open(output_file, 'w') as out:\n",
    "        json.dump(result, out, indent=4)\n",
    "\n",
    "    print(f\"Concatenation done. Saved to {output_file}.\")"
   ]
  },
  {
   "cell_type": "markdown",
   "id": "f54c0704",
   "metadata": {},
   "source": [
    "### Join CD1 P1 FT"
   ]
  },
  {
   "cell_type": "code",
   "execution_count": 13,
   "id": "a0ee9a6b",
   "metadata": {},
   "outputs": [
    {
     "name": "stdout",
     "output_type": "stream",
     "text": [
      "Concatenation done. Saved to C:\\Programming_Files\\JupyterVSCode\\Binary_Classification_Transfer_Learning\\CatsDogs\\Docs_Reports\\JoinedTrainingData\\CD1_P1_FT_full.json.\n"
     ]
    }
   ],
   "source": [
    "path_joined_data = 'C:\\\\Programming_Files\\\\JupyterVSCode\\\\Binary_Classification_Transfer_Learning\\\\CatsDogs\\\\Docs_Reports\\\\JoinedTrainingData\\\\'\n",
    "path_raw_data = 'C:\\\\Programming_Files\\\\JupyterVSCode\\\\Binary_Classification_Transfer_Learning\\\\CatsDogs\\\\Docs_Reports\\\\RawTrainingData\\\\'\n",
    "filename_1 = 'CD1_P1'\n",
    "filename_2 = 'CD1_P1_FT'\n",
    "filename_out = 'CD1_P1_FT_full'\n",
    "\n",
    "json_1 = f'{path_raw_data}{filename_1}.json'\n",
    "json_2 = f'{path_raw_data}{filename_2}.json'\n",
    "json_out = f'{path_joined_data}{filename_out}.json'\n",
    "\n",
    "concatenate_json(json_1, json_2, json_out)"
   ]
  },
  {
   "cell_type": "markdown",
   "id": "9062be33",
   "metadata": {},
   "source": [
    "### Join CD1 P1 FT2"
   ]
  },
  {
   "cell_type": "code",
   "execution_count": 14,
   "id": "f61f0b07",
   "metadata": {},
   "outputs": [
    {
     "name": "stdout",
     "output_type": "stream",
     "text": [
      "Concatenation done. Saved to C:\\Programming_Files\\JupyterVSCode\\Binary_Classification_Transfer_Learning\\CatsDogs\\Docs_Reports\\JoinedTrainingData\\CD1_P1_FT2_full.json.\n"
     ]
    }
   ],
   "source": [
    "path_joined_data = 'C:\\\\Programming_Files\\\\JupyterVSCode\\\\Binary_Classification_Transfer_Learning\\\\CatsDogs\\\\Docs_Reports\\\\JoinedTrainingData\\\\'\n",
    "path_raw_data = 'C:\\\\Programming_Files\\\\JupyterVSCode\\\\Binary_Classification_Transfer_Learning\\\\CatsDogs\\\\Docs_Reports\\\\RawTrainingData\\\\'\n",
    "filename_1 = 'CD1_P1'\n",
    "filename_2 = 'CD1_P1_FT2'\n",
    "filename_out = 'CD1_P1_FT2_full'\n",
    "\n",
    "json_1 = f'{path_raw_data}{filename_1}.json'\n",
    "json_2 = f'{path_raw_data}{filename_2}.json'\n",
    "json_out = f'{path_joined_data}{filename_out}.json'\n",
    "\n",
    "concatenate_json(json_1, json_2, json_out)"
   ]
  },
  {
   "cell_type": "markdown",
   "id": "5ce0271d",
   "metadata": {},
   "source": [
    "### Join CD 3 P 1 FT (3 parts)"
   ]
  },
  {
   "cell_type": "code",
   "execution_count": 15,
   "id": "ecae7967",
   "metadata": {},
   "outputs": [
    {
     "name": "stdout",
     "output_type": "stream",
     "text": [
      "Concatenation done. Saved to C:\\Programming_Files\\JupyterVSCode\\Binary_Classification_Transfer_Learning\\CatsDogs\\Docs_Reports\\JoinedTrainingData\\CD3_P1_FT_half.json.\n"
     ]
    }
   ],
   "source": [
    "path_joined_data = 'C:\\\\Programming_Files\\\\JupyterVSCode\\\\Binary_Classification_Transfer_Learning\\\\CatsDogs\\\\Docs_Reports\\\\JoinedTrainingData\\\\'\n",
    "path_raw_data = 'C:\\\\Programming_Files\\\\JupyterVSCode\\\\Binary_Classification_Transfer_Learning\\\\CatsDogs\\\\Docs_Reports\\\\RawTrainingData\\\\'\n",
    "filename_1 = 'CD3_P1'\n",
    "filename_2 = 'CD3_P1_FT'\n",
    "filename_out = 'CD3_P1_FT_half'\n",
    "\n",
    "json_1 = f'{path_raw_data}{filename_1}.json'\n",
    "json_2 = f'{path_raw_data}{filename_2}.json'\n",
    "json_out = f'{path_joined_data}{filename_out}.json'\n",
    "\n",
    "concatenate_json(json_1, json_2, json_out)"
   ]
  },
  {
   "cell_type": "code",
   "execution_count": 16,
   "id": "53a36be7",
   "metadata": {},
   "outputs": [
    {
     "name": "stdout",
     "output_type": "stream",
     "text": [
      "Concatenation done. Saved to C:\\Programming_Files\\JupyterVSCode\\Binary_Classification_Transfer_Learning\\CatsDogs\\Docs_Reports\\JoinedTrainingData\\CD3_P1_FT_full.json.\n"
     ]
    }
   ],
   "source": [
    "path_joined_data = 'C:\\\\Programming_Files\\\\JupyterVSCode\\\\Binary_Classification_Transfer_Learning\\\\CatsDogs\\\\Docs_Reports\\\\JoinedTrainingData\\\\'\n",
    "path_raw_data = 'C:\\\\Programming_Files\\\\JupyterVSCode\\\\Binary_Classification_Transfer_Learning\\\\CatsDogs\\\\Docs_Reports\\\\RawTrainingData\\\\'\n",
    "filename_1 = 'CD3_P1_FT_half'\n",
    "filename_2 = 'CD3_P1_FT_continue'\n",
    "filename_out = 'CD3_P1_FT_full'\n",
    "\n",
    "json_1 = f'{path_joined_data}{filename_1}.json'\n",
    "json_2 = f'{path_raw_data}{filename_2}.json'\n",
    "json_out = f'{path_joined_data}{filename_out}.json'\n",
    "\n",
    "concatenate_json(json_1, json_2, json_out)"
   ]
  }
 ],
 "metadata": {
  "kernelspec": {
   "display_name": "EnvPy3_12",
   "language": "python",
   "name": "python3"
  },
  "language_info": {
   "codemirror_mode": {
    "name": "ipython",
    "version": 3
   },
   "file_extension": ".py",
   "mimetype": "text/x-python",
   "name": "python",
   "nbconvert_exporter": "python",
   "pygments_lexer": "ipython3",
   "version": "3.12.9"
  }
 },
 "nbformat": 4,
 "nbformat_minor": 5
}
