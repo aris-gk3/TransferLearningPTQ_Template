{
 "cells": [
  {
   "cell_type": "markdown",
   "id": "b576d7df",
   "metadata": {},
   "source": [
    "# Join Training History based on epoch order"
   ]
  },
  {
   "cell_type": "code",
   "execution_count": null,
   "id": "30058060",
   "metadata": {},
   "outputs": [],
   "source": [
    "from ml_project_util.history import concatenate_json"
   ]
  },
  {
   "cell_type": "code",
   "execution_count": null,
   "id": "93c82235",
   "metadata": {},
   "outputs": [],
   "source": [
    "# Relative path to Docs_Reports, for output just the name\n",
    "# eg. filename_1 = 'CD1_P1',  filename_2 = 'CD1_P1_FT', filename_out = 'CD1_P1_FT_full'\n",
    "# relpath1 = 'RawTrainingData/CD1_P1.json'\n",
    "# relpath2 = 'RawTrainingData/CD1_P1_FT.json'\n",
    "# output_filename = 'filename_out.json'\n",
    "concatenate_json(relpath1, relpath2, output_filename)"
   ]
  }
 ],
 "metadata": {
  "kernelspec": {
   "display_name": "EnvPy3_12",
   "language": "python",
   "name": "python3"
  },
  "language_info": {
   "codemirror_mode": {
    "name": "ipython",
    "version": 3
   },
   "file_extension": ".py",
   "mimetype": "text/x-python",
   "name": "python",
   "nbconvert_exporter": "python",
   "pygments_lexer": "ipython3",
   "version": "3.12.9"
  }
 },
 "nbformat": 4,
 "nbformat_minor": 5
}
