{
 "cells": [
  {
   "cell_type": "markdown",
   "id": "7f02fb95",
   "metadata": {},
   "source": [
    "# Training Plots"
   ]
  },
  {
   "cell_type": "markdown",
   "id": "7b632442",
   "metadata": {},
   "source": [
    "### Define Function for Plotting"
   ]
  },
  {
   "cell_type": "code",
   "execution_count": null,
   "id": "e4509717",
   "metadata": {},
   "outputs": [],
   "source": [
    "# Local imports\n",
    "from ml_project_util.path import path_definition\n",
    "from ml_project_util.history import plot_json"
   ]
  },
  {
   "cell_type": "code",
   "execution_count": null,
   "id": "19ee9d87",
   "metadata": {},
   "outputs": [],
   "source": [
    "# dict = path_definition(ds_rel_path='catsdogsconv/CatsDogs')\n",
    "dict = path_definition()\n",
    "BASE_PATH = dict['BASE_PATH']\n",
    "PATH_DATASET = dict['PATH_DATASET']\n",
    "PATH_TEST = dict['PATH_TEST']\n",
    "PATH_RAWDATA = dict['PATH_RAWDATA']\n",
    "PATH_JOINEDDATA = dict['PATH_JOINEDDATA']\n",
    "PATH_SAVEDMODELS = dict['PATH_SAVEDMODELS']"
   ]
  },
  {
   "cell_type": "code",
   "execution_count": null,
   "id": "8e3ed521",
   "metadata": {},
   "outputs": [],
   "source": [
    "# Two first letters for dataset, next letter stands for parameter\n",
    "# 3 numbers are for the number of epochs, and the last 4 digits are for validation loss\n",
    "# e.g. CD4_P2_FT_003_val0.0336\n",
    "model_name = ''\n",
    "json_name = f\"{model_name}_history\"\n",
    "img_name = f\"{model_name}_history.png\"\n",
    "plot_json(json_name, img_name, data_type='raw')"
   ]
  }
 ],
 "metadata": {
  "kernelspec": {
   "display_name": "EnvPy3_12",
   "language": "python",
   "name": "python3"
  },
  "language_info": {
   "codemirror_mode": {
    "name": "ipython",
    "version": 3
   },
   "file_extension": ".py",
   "mimetype": "text/x-python",
   "name": "python",
   "nbconvert_exporter": "python",
   "pygments_lexer": "ipython3",
   "version": "3.12.9"
  }
 },
 "nbformat": 4,
 "nbformat_minor": 5
}
