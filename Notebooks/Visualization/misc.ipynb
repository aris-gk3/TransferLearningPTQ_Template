{
 "cells": [
  {
   "cell_type": "markdown",
   "id": "4327e93c",
   "metadata": {},
   "source": [
    "# Miscellaneous"
   ]
  },
  {
   "cell_type": "markdown",
   "id": "3e0ea2f8",
   "metadata": {},
   "source": [
    "### Import Packages"
   ]
  },
  {
   "cell_type": "code",
   "execution_count": null,
   "id": "57511199",
   "metadata": {},
   "outputs": [],
   "source": [
    "import tensorflow as tf"
   ]
  },
  {
   "cell_type": "code",
   "execution_count": null,
   "id": "56d91165",
   "metadata": {},
   "outputs": [],
   "source": [
    "# Local Packages\n",
    "from ml_project_util.path import path_definition\n",
    "from ml_project_util.flatten_model import flatten_condtitional"
   ]
  },
  {
   "cell_type": "markdown",
   "id": "67fa432b",
   "metadata": {},
   "source": [
    "### Variable Paths, Names, Execution Environments"
   ]
  },
  {
   "cell_type": "code",
   "execution_count": null,
   "id": "7a92d78c",
   "metadata": {},
   "outputs": [],
   "source": [
    "model_name = 'CD4_P2_FT_003_val0.0336'\n",
    "BASE_PATH, PATH_DATASET, PATH_RAWDATA, PATH_JOINEDDATA, PATH_SAVEDMODELS = path_definition()"
   ]
  },
  {
   "cell_type": "markdown",
   "id": "75f09e82",
   "metadata": {},
   "source": [
    "### Load Float Model"
   ]
  },
  {
   "cell_type": "code",
   "execution_count": null,
   "id": "90dff388",
   "metadata": {},
   "outputs": [],
   "source": [
    "filepath = f'{PATH_SAVEDMODELS}/{parent_name}/{model_name}.keras'\n",
    "model = tf.keras.models.load_model(filepath)\n",
    "model = flatten_condtitional(model, model_name)"
   ]
  },
  {
   "cell_type": "markdown",
   "id": "8c14a86e",
   "metadata": {},
   "source": [
    "---"
   ]
  },
  {
   "cell_type": "code",
   "execution_count": null,
   "id": "8bb97bf1",
   "metadata": {},
   "outputs": [],
   "source": [
    "# Visualize block diagram of layers\n",
    "from tensorflow.keras.utils import plot_model\n",
    "plot_model(model, show_shapes=True, expand_nested=True)"
   ]
  },
  {
   "cell_type": "code",
   "execution_count": null,
   "id": "42f66bcd",
   "metadata": {},
   "outputs": [],
   "source": [
    "def get_all_layers_nested(model):\n",
    "    all_layers = []\n",
    "    for layer in model.layers:\n",
    "        if isinstance(layer, tf.keras.Model):\n",
    "            all_layers.extend(get_all_layers_nested(layer))\n",
    "        else:\n",
    "            all_layers.append(layer)\n",
    "    return all_layers\n",
    "\n",
    "get_all_layers_nested(model)"
   ]
  }
 ],
 "metadata": {
  "language_info": {
   "name": "python"
  }
 },
 "nbformat": 4,
 "nbformat_minor": 5
}
